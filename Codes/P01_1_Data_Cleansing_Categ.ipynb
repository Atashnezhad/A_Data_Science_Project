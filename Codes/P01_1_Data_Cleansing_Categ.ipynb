{
 "cells": [
  {
   "cell_type": "markdown",
   "metadata": {},
   "source": [
    "# P01_1 - Data Cleansing and evaluation"
   ]
  },
  {
   "cell_type": "code",
   "execution_count": 1,
   "metadata": {},
   "outputs": [],
   "source": [
    "import pandas as pd\n",
    "import numpy as np\n",
    "import regex as re\n",
    "import warnings\n",
    "warnings.filterwarnings('ignore')\n",
    "from nltk.corpus import stopwords \n",
    "from nltk.stem.porter import PorterStemmer\n",
    "from nltk.stem import WordNetLemmatizer\n",
    "import pickle\n",
    "\n",
    "import matplotlib.pyplot as plt\n",
    "import re"
   ]
  },
  {
   "cell_type": "code",
   "execution_count": 2,
   "metadata": {},
   "outputs": [],
   "source": [
    "import seaborn as sns\n",
    "from sklearn.model_selection import train_test_split"
   ]
  },
  {
   "cell_type": "code",
   "execution_count": 3,
   "metadata": {},
   "outputs": [],
   "source": [
    "%config InlineBackend.figure_format = 'retina'"
   ]
  },
  {
   "cell_type": "code",
   "execution_count": 4,
   "metadata": {},
   "outputs": [],
   "source": [
    "from sklearn.impute import SimpleImputer\n",
    "from sklearn.linear_model import LogisticRegression\n",
    "from sklearn.pipeline import make_pipeline\n",
    "\n",
    "from sklearn.preprocessing import FunctionTransformer\n",
    "\n",
    "from sklearn.compose import ColumnTransformer"
   ]
  },
  {
   "cell_type": "code",
   "execution_count": 5,
   "metadata": {},
   "outputs": [],
   "source": [
    "import warnings\n",
    "warnings.filterwarnings('ignore')"
   ]
  },
  {
   "cell_type": "code",
   "execution_count": 6,
   "metadata": {},
   "outputs": [],
   "source": [
    "import pandas as pd\n",
    "from sklearn.compose import make_column_transformer\n",
    "from sklearn.preprocessing import OneHotEncoder\n",
    "from sklearn.linear_model import LogisticRegression\n",
    "from sklearn.pipeline import make_pipeline\n",
    "from sklearn.model_selection import cross_val_score"
   ]
  },
  {
   "cell_type": "markdown",
   "metadata": {},
   "source": [
    "# Read data set"
   ]
  },
  {
   "cell_type": "code",
   "execution_count": 7,
   "metadata": {},
   "outputs": [],
   "source": [
    "file_path = \"../DataSet/\"\n",
    "file_name = \"exercise_40_train.csv\"\n",
    "df = pd.read_csv(file_path+file_name)"
   ]
  },
  {
   "cell_type": "code",
   "execution_count": 8,
   "metadata": {},
   "outputs": [
    {
     "data": {
      "text/plain": [
       "(40000, 101)"
      ]
     },
     "execution_count": 8,
     "metadata": {},
     "output_type": "execute_result"
    }
   ],
   "source": [
    "df.shape"
   ]
  },
  {
   "cell_type": "code",
   "execution_count": 9,
   "metadata": {},
   "outputs": [
    {
     "data": {
      "text/html": [
       "<div>\n",
       "<style scoped>\n",
       "    .dataframe tbody tr th:only-of-type {\n",
       "        vertical-align: middle;\n",
       "    }\n",
       "\n",
       "    .dataframe tbody tr th {\n",
       "        vertical-align: top;\n",
       "    }\n",
       "\n",
       "    .dataframe thead th {\n",
       "        text-align: right;\n",
       "    }\n",
       "</style>\n",
       "<table border=\"1\" class=\"dataframe\">\n",
       "  <thead>\n",
       "    <tr style=\"text-align: right;\">\n",
       "      <th></th>\n",
       "      <th>count</th>\n",
       "      <th>mean</th>\n",
       "      <th>std</th>\n",
       "      <th>min</th>\n",
       "      <th>25%</th>\n",
       "      <th>50%</th>\n",
       "      <th>75%</th>\n",
       "      <th>max</th>\n",
       "    </tr>\n",
       "  </thead>\n",
       "  <tbody>\n",
       "    <tr>\n",
       "      <th>y</th>\n",
       "      <td>40000.0</td>\n",
       "      <td>0.145075</td>\n",
       "      <td>0.352181</td>\n",
       "      <td>0.000000</td>\n",
       "      <td>0.000000</td>\n",
       "      <td>0.000000</td>\n",
       "      <td>0.000000</td>\n",
       "      <td>1.000000</td>\n",
       "    </tr>\n",
       "    <tr>\n",
       "      <th>x1</th>\n",
       "      <td>40000.0</td>\n",
       "      <td>2.999958</td>\n",
       "      <td>1.994490</td>\n",
       "      <td>-3.648431</td>\n",
       "      <td>1.592714</td>\n",
       "      <td>2.875892</td>\n",
       "      <td>4.270295</td>\n",
       "      <td>13.837591</td>\n",
       "    </tr>\n",
       "    <tr>\n",
       "      <th>x2</th>\n",
       "      <td>40000.0</td>\n",
       "      <td>20.004865</td>\n",
       "      <td>1.604291</td>\n",
       "      <td>13.714945</td>\n",
       "      <td>18.921388</td>\n",
       "      <td>20.005944</td>\n",
       "      <td>21.083465</td>\n",
       "      <td>27.086468</td>\n",
       "    </tr>\n",
       "    <tr>\n",
       "      <th>x4</th>\n",
       "      <td>40000.0</td>\n",
       "      <td>0.002950</td>\n",
       "      <td>1.462185</td>\n",
       "      <td>-5.137161</td>\n",
       "      <td>-1.026799</td>\n",
       "      <td>0.002263</td>\n",
       "      <td>1.043354</td>\n",
       "      <td>5.150153</td>\n",
       "    </tr>\n",
       "    <tr>\n",
       "      <th>x5</th>\n",
       "      <td>37572.0</td>\n",
       "      <td>0.005396</td>\n",
       "      <td>1.297952</td>\n",
       "      <td>-5.616412</td>\n",
       "      <td>-0.872354</td>\n",
       "      <td>0.008822</td>\n",
       "      <td>0.892467</td>\n",
       "      <td>5.698128</td>\n",
       "    </tr>\n",
       "    <tr>\n",
       "      <th>...</th>\n",
       "      <td>...</td>\n",
       "      <td>...</td>\n",
       "      <td>...</td>\n",
       "      <td>...</td>\n",
       "      <td>...</td>\n",
       "      <td>...</td>\n",
       "      <td>...</td>\n",
       "      <td>...</td>\n",
       "    </tr>\n",
       "    <tr>\n",
       "      <th>x95</th>\n",
       "      <td>27396.0</td>\n",
       "      <td>0.031886</td>\n",
       "      <td>1.823091</td>\n",
       "      <td>-6.885150</td>\n",
       "      <td>-1.190682</td>\n",
       "      <td>0.001523</td>\n",
       "      <td>1.248742</td>\n",
       "      <td>7.631773</td>\n",
       "    </tr>\n",
       "    <tr>\n",
       "      <th>x96</th>\n",
       "      <td>33362.0</td>\n",
       "      <td>10.525530</td>\n",
       "      <td>1.437581</td>\n",
       "      <td>8.210456</td>\n",
       "      <td>9.397548</td>\n",
       "      <td>10.358355</td>\n",
       "      <td>11.448559</td>\n",
       "      <td>18.725468</td>\n",
       "    </tr>\n",
       "    <tr>\n",
       "      <th>x97</th>\n",
       "      <td>40000.0</td>\n",
       "      <td>10.002814</td>\n",
       "      <td>1.986984</td>\n",
       "      <td>1.911272</td>\n",
       "      <td>8.665103</td>\n",
       "      <td>9.994318</td>\n",
       "      <td>11.342574</td>\n",
       "      <td>17.861580</td>\n",
       "    </tr>\n",
       "    <tr>\n",
       "      <th>x98</th>\n",
       "      <td>40000.0</td>\n",
       "      <td>0.497650</td>\n",
       "      <td>0.500001</td>\n",
       "      <td>0.000000</td>\n",
       "      <td>0.000000</td>\n",
       "      <td>0.000000</td>\n",
       "      <td>1.000000</td>\n",
       "      <td>1.000000</td>\n",
       "    </tr>\n",
       "    <tr>\n",
       "      <th>x100</th>\n",
       "      <td>40000.0</td>\n",
       "      <td>100.024743</td>\n",
       "      <td>5.247514</td>\n",
       "      <td>78.340735</td>\n",
       "      <td>96.516856</td>\n",
       "      <td>100.024977</td>\n",
       "      <td>103.558762</td>\n",
       "      <td>122.406809</td>\n",
       "    </tr>\n",
       "  </tbody>\n",
       "</table>\n",
       "<p>89 rows × 8 columns</p>\n",
       "</div>"
      ],
      "text/plain": [
       "        count        mean       std        min        25%         50%  \\\n",
       "y     40000.0    0.145075  0.352181   0.000000   0.000000    0.000000   \n",
       "x1    40000.0    2.999958  1.994490  -3.648431   1.592714    2.875892   \n",
       "x2    40000.0   20.004865  1.604291  13.714945  18.921388   20.005944   \n",
       "x4    40000.0    0.002950  1.462185  -5.137161  -1.026799    0.002263   \n",
       "x5    37572.0    0.005396  1.297952  -5.616412  -0.872354    0.008822   \n",
       "...       ...         ...       ...        ...        ...         ...   \n",
       "x95   27396.0    0.031886  1.823091  -6.885150  -1.190682    0.001523   \n",
       "x96   33362.0   10.525530  1.437581   8.210456   9.397548   10.358355   \n",
       "x97   40000.0   10.002814  1.986984   1.911272   8.665103    9.994318   \n",
       "x98   40000.0    0.497650  0.500001   0.000000   0.000000    0.000000   \n",
       "x100  40000.0  100.024743  5.247514  78.340735  96.516856  100.024977   \n",
       "\n",
       "             75%         max  \n",
       "y       0.000000    1.000000  \n",
       "x1      4.270295   13.837591  \n",
       "x2     21.083465   27.086468  \n",
       "x4      1.043354    5.150153  \n",
       "x5      0.892467    5.698128  \n",
       "...          ...         ...  \n",
       "x95     1.248742    7.631773  \n",
       "x96    11.448559   18.725468  \n",
       "x97    11.342574   17.861580  \n",
       "x98     1.000000    1.000000  \n",
       "x100  103.558762  122.406809  \n",
       "\n",
       "[89 rows x 8 columns]"
      ]
     },
     "execution_count": 9,
     "metadata": {},
     "output_type": "execute_result"
    }
   ],
   "source": [
    "df.describe().T"
   ]
  },
  {
   "cell_type": "code",
   "execution_count": 10,
   "metadata": {},
   "outputs": [
    {
     "data": {
      "image/png": "[encoded data removed]",
      "text/plain": [
       "<Figure size 1080x432 with 1 Axes>"
      ]
     },
     "metadata": {
      "image/png": {
       "height": 369,
       "width": 887
      },
      "needs_background": "light"
     },
     "output_type": "display_data"
    }
   ],
   "source": [
    "df['y'].value_counts(normalize=True).plot(kind='bar',figsize=(15,6))\n",
    "plt.ylabel('normalized count')\n",
    "plt.title('Two classes are imbalance')\n",
    "plt.savefig(\"../Figures/plot_01_1_imbalancedata.png\")\n",
    "\n",
    "plt.show()"
   ]
  },
  {
   "cell_type": "markdown",
   "metadata": {},
   "source": [
    "# Data is imbalance"
   ]
  },
  {
   "cell_type": "markdown",
   "metadata": {},
   "source": [
    "Check the column names and details as follow."
   ]
  },
  {
   "cell_type": "code",
   "execution_count": 11,
   "metadata": {},
   "outputs": [
    {
     "name": "stdout",
     "output_type": "stream",
     "text": [
      "<class 'pandas.core.frame.DataFrame'>\n",
      "RangeIndex: 40000 entries, 0 to 39999\n",
      "Columns: 101 entries, y to x100\n",
      "dtypes: float64(86), int64(3), object(12)\n",
      "memory usage: 30.8+ MB\n"
     ]
    }
   ],
   "source": [
    "df.info()"
   ]
  },
  {
   "cell_type": "code",
   "execution_count": 12,
   "metadata": {},
   "outputs": [
    {
     "data": {
      "text/html": [
       "<div>\n",
       "<style scoped>\n",
       "    .dataframe tbody tr th:only-of-type {\n",
       "        vertical-align: middle;\n",
       "    }\n",
       "\n",
       "    .dataframe tbody tr th {\n",
       "        vertical-align: top;\n",
       "    }\n",
       "\n",
       "    .dataframe thead th {\n",
       "        text-align: right;\n",
       "    }\n",
       "</style>\n",
       "<table border=\"1\" class=\"dataframe\">\n",
       "  <thead>\n",
       "    <tr style=\"text-align: right;\">\n",
       "      <th></th>\n",
       "      <th>y</th>\n",
       "      <th>x1</th>\n",
       "      <th>x2</th>\n",
       "      <th>x3</th>\n",
       "      <th>x4</th>\n",
       "      <th>x5</th>\n",
       "      <th>x6</th>\n",
       "      <th>x7</th>\n",
       "      <th>x8</th>\n",
       "      <th>x9</th>\n",
       "      <th>...</th>\n",
       "      <th>x91</th>\n",
       "      <th>x92</th>\n",
       "      <th>x93</th>\n",
       "      <th>x94</th>\n",
       "      <th>x95</th>\n",
       "      <th>x96</th>\n",
       "      <th>x97</th>\n",
       "      <th>x98</th>\n",
       "      <th>x99</th>\n",
       "      <th>x100</th>\n",
       "    </tr>\n",
       "  </thead>\n",
       "  <tbody>\n",
       "    <tr>\n",
       "      <th>0</th>\n",
       "      <td>0</td>\n",
       "      <td>0.165254</td>\n",
       "      <td>18.060003</td>\n",
       "      <td>Wed</td>\n",
       "      <td>1.077380</td>\n",
       "      <td>-1.339233</td>\n",
       "      <td>-1.584341</td>\n",
       "      <td>0.0062%</td>\n",
       "      <td>0.220784</td>\n",
       "      <td>1.816481</td>\n",
       "      <td>...</td>\n",
       "      <td>-0.397427</td>\n",
       "      <td>0.909479</td>\n",
       "      <td>no</td>\n",
       "      <td>5.492487</td>\n",
       "      <td>NaN</td>\n",
       "      <td>10.255579</td>\n",
       "      <td>7.627730</td>\n",
       "      <td>0</td>\n",
       "      <td>yes</td>\n",
       "      <td>104.251338</td>\n",
       "    </tr>\n",
       "    <tr>\n",
       "      <th>1</th>\n",
       "      <td>1</td>\n",
       "      <td>2.441471</td>\n",
       "      <td>18.416307</td>\n",
       "      <td>Friday</td>\n",
       "      <td>1.482586</td>\n",
       "      <td>0.920817</td>\n",
       "      <td>-0.759931</td>\n",
       "      <td>0.0064%</td>\n",
       "      <td>1.192441</td>\n",
       "      <td>3.513950</td>\n",
       "      <td>...</td>\n",
       "      <td>0.656651</td>\n",
       "      <td>9.093466</td>\n",
       "      <td>no</td>\n",
       "      <td>3.346429</td>\n",
       "      <td>4.321172</td>\n",
       "      <td>NaN</td>\n",
       "      <td>10.505284</td>\n",
       "      <td>1</td>\n",
       "      <td>yes</td>\n",
       "      <td>101.230645</td>\n",
       "    </tr>\n",
       "    <tr>\n",
       "      <th>2</th>\n",
       "      <td>1</td>\n",
       "      <td>4.427278</td>\n",
       "      <td>19.188092</td>\n",
       "      <td>Thursday</td>\n",
       "      <td>0.145652</td>\n",
       "      <td>0.366093</td>\n",
       "      <td>0.709962</td>\n",
       "      <td>-8e-04%</td>\n",
       "      <td>0.952323</td>\n",
       "      <td>0.782974</td>\n",
       "      <td>...</td>\n",
       "      <td>2.059615</td>\n",
       "      <td>0.305170</td>\n",
       "      <td>no</td>\n",
       "      <td>4.456565</td>\n",
       "      <td>NaN</td>\n",
       "      <td>8.754572</td>\n",
       "      <td>7.810979</td>\n",
       "      <td>0</td>\n",
       "      <td>yes</td>\n",
       "      <td>109.345215</td>\n",
       "    </tr>\n",
       "    <tr>\n",
       "      <th>3</th>\n",
       "      <td>0</td>\n",
       "      <td>3.925235</td>\n",
       "      <td>19.901257</td>\n",
       "      <td>Tuesday</td>\n",
       "      <td>1.763602</td>\n",
       "      <td>-0.251926</td>\n",
       "      <td>-0.827461</td>\n",
       "      <td>-0.0057%</td>\n",
       "      <td>-0.520756</td>\n",
       "      <td>1.825586</td>\n",
       "      <td>...</td>\n",
       "      <td>0.899392</td>\n",
       "      <td>5.971782</td>\n",
       "      <td>no</td>\n",
       "      <td>4.100022</td>\n",
       "      <td>1.151085</td>\n",
       "      <td>NaN</td>\n",
       "      <td>9.178325</td>\n",
       "      <td>1</td>\n",
       "      <td>yes</td>\n",
       "      <td>103.021970</td>\n",
       "    </tr>\n",
       "    <tr>\n",
       "      <th>4</th>\n",
       "      <td>0</td>\n",
       "      <td>2.868802</td>\n",
       "      <td>22.202473</td>\n",
       "      <td>Sunday</td>\n",
       "      <td>3.405119</td>\n",
       "      <td>0.083162</td>\n",
       "      <td>1.381504</td>\n",
       "      <td>0.0109%</td>\n",
       "      <td>-0.732739</td>\n",
       "      <td>2.151990</td>\n",
       "      <td>...</td>\n",
       "      <td>3.003595</td>\n",
       "      <td>1.046096</td>\n",
       "      <td>yes</td>\n",
       "      <td>3.234033</td>\n",
       "      <td>2.074927</td>\n",
       "      <td>9.987006</td>\n",
       "      <td>11.702664</td>\n",
       "      <td>0</td>\n",
       "      <td>yes</td>\n",
       "      <td>92.925935</td>\n",
       "    </tr>\n",
       "  </tbody>\n",
       "</table>\n",
       "<p>5 rows × 101 columns</p>\n",
       "</div>"
      ],
      "text/plain": [
       "   y        x1         x2        x3        x4        x5        x6        x7  \\\n",
       "0  0  0.165254  18.060003       Wed  1.077380 -1.339233 -1.584341   0.0062%   \n",
       "1  1  2.441471  18.416307    Friday  1.482586  0.920817 -0.759931   0.0064%   \n",
       "2  1  4.427278  19.188092  Thursday  0.145652  0.366093  0.709962   -8e-04%   \n",
       "3  0  3.925235  19.901257   Tuesday  1.763602 -0.251926 -0.827461  -0.0057%   \n",
       "4  0  2.868802  22.202473    Sunday  3.405119  0.083162  1.381504   0.0109%   \n",
       "\n",
       "         x8        x9  ...       x91       x92  x93       x94       x95  \\\n",
       "0  0.220784  1.816481  ... -0.397427  0.909479   no  5.492487       NaN   \n",
       "1  1.192441  3.513950  ...  0.656651  9.093466   no  3.346429  4.321172   \n",
       "2  0.952323  0.782974  ...  2.059615  0.305170   no  4.456565       NaN   \n",
       "3 -0.520756  1.825586  ...  0.899392  5.971782   no  4.100022  1.151085   \n",
       "4 -0.732739  2.151990  ...  3.003595  1.046096  yes  3.234033  2.074927   \n",
       "\n",
       "         x96        x97  x98  x99        x100  \n",
       "0  10.255579   7.627730    0  yes  104.251338  \n",
       "1        NaN  10.505284    1  yes  101.230645  \n",
       "2   8.754572   7.810979    0  yes  109.345215  \n",
       "3        NaN   9.178325    1  yes  103.021970  \n",
       "4   9.987006  11.702664    0  yes   92.925935  \n",
       "\n",
       "[5 rows x 101 columns]"
      ]
     },
     "execution_count": 12,
     "metadata": {},
     "output_type": "execute_result"
    }
   ],
   "source": [
    "df.head()"
   ]
  },
  {
   "cell_type": "markdown",
   "metadata": {},
   "source": [
    "# Check out data for duplicates\n"
   ]
  },
  {
   "cell_type": "code",
   "execution_count": 13,
   "metadata": {},
   "outputs": [
    {
     "name": "stdout",
     "output_type": "stream",
     "text": [
      "False\n"
     ]
    }
   ],
   "source": [
    "# calculate duplicates\n",
    "dups = df.duplicated()\n",
    "# report if there are any duplicates\n",
    "print(dups.any())\n",
    "# # list all duplicate rows\n",
    "# print(df[dups])"
   ]
  },
  {
   "cell_type": "markdown",
   "metadata": {},
   "source": [
    "No duplicates found"
   ]
  },
  {
   "cell_type": "code",
   "execution_count": 14,
   "metadata": {},
   "outputs": [
    {
     "data": {
      "text/plain": [
       "float64    86\n",
       "object     12\n",
       "int64       3\n",
       "dtype: int64"
      ]
     },
     "execution_count": 14,
     "metadata": {},
     "output_type": "execute_result"
    }
   ],
   "source": [
    "df.dtypes.value_counts()"
   ]
  },
  {
   "cell_type": "markdown",
   "metadata": {},
   "source": [
    "there are 3 types of data in the data set"
   ]
  },
  {
   "cell_type": "markdown",
   "metadata": {},
   "source": [
    "# Check out the object columns, number of uniques and number of NaNs"
   ]
  },
  {
   "cell_type": "code",
   "execution_count": 15,
   "metadata": {},
   "outputs": [
    {
     "name": "stdout",
     "output_type": "stream",
     "text": [
      "Index(['x3', 'x7', 'x19', 'x24', 'x31', 'x33', 'x39', 'x60', 'x65', 'x77',\n",
      "       'x93', 'x99'],\n",
      "      dtype='object')\n",
      "====================================================================================================\n",
      "NaNs % in  x24 = 9.64 % \n",
      "Number of uniqs = 2 \n",
      "\n",
      "NaNs % in  x33 = 17.9275 % \n",
      "Number of uniqs = 51 \n",
      "\n",
      "NaNs % in  x77 = 23.1425 % \n",
      "Number of uniqs = 7 \n",
      "\n",
      "NaNs % in  x99 = 32.09 % \n",
      "Number of uniqs = 1 \n",
      "\n",
      "number_of_Obj_cols_with_nan  4\n"
     ]
    }
   ],
   "source": [
    "# columns_obj_dtype = []\n",
    "# for col in df.columns:\n",
    "#     if df[col].dtypes == 'object':\n",
    "#         columns_obj_dtype.append(col)\n",
    "              \n",
    "df_categ = df.select_dtypes(include=['object'])\n",
    "print(df_categ.columns)\n",
    "columns_obj_dtype = df_categ.columns\n",
    "\n",
    "# print('columns_obj_dtype = ', columns_obj_dtype)\n",
    "\n",
    "print(100*'=')\n",
    "\n",
    "\n",
    "number_of_Obj_cols_with_nan = 0\n",
    "columns_obj_dtype_NaN = []\n",
    "\n",
    "\n",
    "for col in columns_obj_dtype:\n",
    "    if df_categ[col].isnull().sum() != 0:\n",
    "        number_of_Obj_cols_with_nan = number_of_Obj_cols_with_nan + 1\n",
    "        \n",
    "        columns_obj_dtype_NaN.append(col)\n",
    "        \n",
    "        print('NaNs % in ', col, '=', (df_categ[col].isnull().sum())*100/(df_categ.shape[0]), '%',\n",
    "              '\\nNumber of uniqs =', df_categ[col].nunique(), '\\n')\n",
    "print('number_of_Obj_cols_with_nan ', number_of_Obj_cols_with_nan)"
   ]
  },
  {
   "cell_type": "markdown",
   "metadata": {},
   "source": [
    "---\n",
    "we do have 4 columns containing NaN with obj dtype.\n",
    "\n",
    "Visualize the columns at the following bar plot."
   ]
  },
  {
   "cell_type": "code",
   "execution_count": 16,
   "metadata": {},
   "outputs": [
    {
     "data": {
      "image/png": "[encoded data removed]",
      "text/plain": [
       "<Figure size 1080x432 with 1 Axes>"
      ]
     },
     "metadata": {
      "image/png": {
       "height": 383,
       "width": 891
      },
      "needs_background": "light"
     },
     "output_type": "display_data"
    }
   ],
   "source": [
    "(df_categ[columns_obj_dtype_NaN].isnull().sum()*100/(df_categ.shape[0])).plot(kind='bar',figsize=(15,6))\n",
    "plt.xlabel('columns (dtype = Obj) with NaN')\n",
    "plt.ylabel('NaN %')\n",
    "plt.ylim(0,100)\n",
    "plt.savefig(\"../Figures/plot_01_1_nans_percen.png\")\n",
    "\n",
    "plt.show()"
   ]
  },
  {
   "cell_type": "code",
   "execution_count": 17,
   "metadata": {},
   "outputs": [
    {
     "data": {
      "text/plain": [
       "x3        14\n",
       "x7       663\n",
       "x19    40000\n",
       "x24        2\n",
       "x31        2\n",
       "x33       51\n",
       "x39        1\n",
       "x60       12\n",
       "x65        5\n",
       "x77        7\n",
       "x93        2\n",
       "x99        1\n",
       "dtype: int64"
      ]
     },
     "execution_count": 17,
     "metadata": {},
     "output_type": "execute_result"
    }
   ],
   "source": [
    "df_categ.nunique()"
   ]
  },
  {
   "cell_type": "markdown",
   "metadata": {},
   "source": [
    "# Checking out categorical columns one by one and make sure about values and types and etc"
   ]
  },
  {
   "cell_type": "markdown",
   "metadata": {},
   "source": [
    "check out the 'x3' column"
   ]
  },
  {
   "cell_type": "code",
   "execution_count": 18,
   "metadata": {},
   "outputs": [
    {
     "data": {
      "text/plain": [
       "array(['Wed', 'Friday', 'Thursday', 'Tuesday', 'Sunday', 'Saturday',\n",
       "       'Sat', 'Wednesday', 'Sun', 'Tue', 'Thur', 'Monday', 'Fri', 'Mon'],\n",
       "      dtype=object)"
      ]
     },
     "execution_count": 18,
     "metadata": {},
     "output_type": "execute_result"
    }
   ],
   "source": [
    "df_categ['x3'].unique()"
   ]
  },
  {
   "cell_type": "code",
   "execution_count": 19,
   "metadata": {},
   "outputs": [],
   "source": [
    "# https://stackoverflow.com/questions/60237488/python-replace-only-exact-word-in-string\n",
    "for i, string in enumerate(df_categ['x3'].values):\n",
    "    df_categ['x3'].values[i] = re.sub(r'\\bTue\\b', 'Tuesday', string)\n",
    "    \n",
    "for i, string in enumerate(df_categ['x3'].values):\n",
    "    df_categ['x3'].values[i] = re.sub(r'\\bSun\\b', 'Sunday', string)\n",
    "    \n",
    "for i, string in enumerate(df_categ['x3'].values):\n",
    "    df_categ['x3'].values[i] = re.sub(r'\\bSat\\b', 'Saturday', string)\n",
    "    \n",
    "for i, string in enumerate(df_categ['x3'].values):\n",
    "    df_categ['x3'].values[i] = re.sub(r'\\bFri\\b', 'Friday', string)\n",
    "    \n",
    "for i, string in enumerate(df_categ['x3'].values):\n",
    "    df_categ['x3'].values[i] = re.sub(r'\\bWed\\b', 'Wednesday', string)\n",
    "    \n",
    "for i, string in enumerate(df_categ['x3'].values):\n",
    "    df_categ['x3'].values[i] = re.sub(r'\\bMon\\b', 'Monday', string)\n",
    "    \n",
    "for i, string in enumerate(df_categ['x3'].values):\n",
    "    df_categ['x3'].values[i] = re.sub(r'\\bThur\\b', 'Thursday', string)\n"
   ]
  },
  {
   "cell_type": "code",
   "execution_count": 20,
   "metadata": {},
   "outputs": [
    {
     "data": {
      "text/plain": [
       "array(['Wednesday', 'Friday', 'Thursday', 'Tuesday', 'Sunday', 'Saturday',\n",
       "       'Monday'], dtype=object)"
      ]
     },
     "execution_count": 20,
     "metadata": {},
     "output_type": "execute_result"
    }
   ],
   "source": [
    "df_categ['x3'].unique()"
   ]
  },
  {
   "cell_type": "markdown",
   "metadata": {},
   "source": [
    "## x3 is nominal categorical feature (needs OneHotEncoder transformer) plus some edits should be done using customized function."
   ]
  },
  {
   "cell_type": "markdown",
   "metadata": {},
   "source": [
    "check out the 'x7' column"
   ]
  },
  {
   "cell_type": "code",
   "execution_count": 21,
   "metadata": {},
   "outputs": [
    {
     "data": {
      "text/plain": [
       "array(['0.0062%', '0.0064%', '-8e-04%', '-0.0057%', '0.0109%', '0.0079%',\n",
       "       '0.0174%', '-0.0106%', '0.0032%', '0.0091%', '-0.0052%',\n",
       "       '-0.0025%', '-0.0045%', '0.0068%', '-0.0137%', '-0.0014%',\n",
       "       '-0.0013%', '0.0066%', '0.0097%', '-0.0086%', '0.0023%',\n",
       "       '-0.0023%', '-0.0107%', '-0.0134%', '0.0058%', '-2e-04%',\n",
       "       '-0.0033%', '-0.0172%', '-0.0026%', '-0.0118%', '0.0105%',\n",
       "       '-0.0055%', '0.0095%', '0.0026%', '-0.0051%', '0.0054%',\n",
       "       '-0.0167%', '0.0015%', '-0.0037%', '0.0011%', '-0.0097%',\n",
       "       '-0.0016%', '-0.0155%', '0.015%', '-0.0032%', '2e-04%', '0.0122%',\n",
       "       '0.0082%', '-0.0054%', '-0.0017%', '0.0013%', '0.0025%',\n",
       "       '-0.0021%', '-0.017%', '-0.005%', '0.0014%', '-0.0103%', '-0.018%',\n",
       "       '-0.0077%', '-0.0115%', '-0.0018%', '6e-04%', '-0.0169%',\n",
       "       '0.0051%', '0.0093%', '-0.0043%', '0.0157%', '-0.0012%', '0.0056%',\n",
       "       '-0.0035%', '0.005%', '0.0073%', '0.0127%', '0.0098%', '-0.0022%',\n",
       "       '-0.0146%', '-0.0168%', '0.001%', '-0.016%', '0.0049%', '0.0034%',\n",
       "       '0.0043%', '0.0017%', '-0.0179%', '0.007%', '-0.003%', '-0.0059%',\n",
       "       '-0.004%', '0.017%', '0.0045%', '0.0052%', '-0.006%', '-0.0159%',\n",
       "       '-0.011%', '0.004%', '0.0149%', '0.0148%', '0.0203%', '-0.0019%',\n",
       "       '0.0061%', '-3e-04%', '-0.0176%', '-0.0102%', '0.0094%',\n",
       "       '-0.0131%', '-0.0027%', '5e-04%', '0.0048%', '-0.0058%',\n",
       "       '-0.0068%', '0.0229%', '0.0087%', '0.0212%', '0.0024%', '0.0019%',\n",
       "       '-0.0063%', '0.0112%', '0.0089%', '0.002%', '0.0262%', '-0.0064%',\n",
       "       '-1e-04%', '0.0154%', '-0.009%', '3e-04%', '0.0193%', '-0.0114%',\n",
       "       '-0.0105%', '-0.0165%', '0.0021%', '0.0039%', '0.0088%', '0.0156%',\n",
       "       '0.0133%', '-0.0073%', '-0.001%', '0.0162%', '0.0136%', '0.0092%',\n",
       "       '-0.0111%', '0.0219%', '0.006%', '0.0171%', '-0.0062%', '0.0146%',\n",
       "       '0.0044%', '-0.012%', '-0.0042%', '0.0113%', '0.009%', '0.0029%',\n",
       "       '-0.0074%', '-0.0121%', '0.0099%', '-0.0083%', '-0.0109%',\n",
       "       '-0.0138%', '-0.0071%', '0.0038%', '-0.022%', '0.018%', '0.0074%',\n",
       "       '1e-04%', '0.0114%', '9e-04%', '0.0028%', '-0.0135%', '-0.0089%',\n",
       "       '0.0167%', '0.0047%', '0.0164%', '0.0216%', '-0.0092%', '0.0081%',\n",
       "       '0.0103%', '-0.0181%', '-0.0195%', '-0.0213%', '0.0072%',\n",
       "       '0.0031%', '0.0111%', '-0.0041%', '-0.007%', '0.0059%', '0.0077%',\n",
       "       '0.0071%', '-0.0153%', '-0.0185%', '0.0053%', '-0.0117%',\n",
       "       '0.0027%', '0.01%', '0.0168%', '-0.0184%', '0.0022%', '0.0192%',\n",
       "       '0.0125%', '-0.0156%', '0.0159%', '-0.014%', '0.0085%', '-0.021%',\n",
       "       '-0.0183%', '-0.0036%', '-0.0149%', '-0.0053%', '0.0132%',\n",
       "       '-0.0145%', '0.0057%', '0.0151%', '0.023%', '0.0158%', '0.0108%',\n",
       "       '-0.0075%', '-0.0125%', '-0.0048%', '-0.0087%', '-0.0015%',\n",
       "       '0.0172%', '0.0115%', '-0.0024%', '-9e-04%', '-0.0108%', '0.0037%',\n",
       "       '0.0102%', '-0.0056%', '-0.002%', '-0.0067%', '0.0207%',\n",
       "       '-0.0157%', '4e-04%', '-0.0112%', '0.0041%', '0.0145%', '-0.0124%',\n",
       "       '-6e-04%', '0.003%', '0.0069%', '0.0065%', '-0.0273%', '-0.0116%',\n",
       "       '0.0124%', '-0.0275%', '-0.0226%', '0.0078%', '-0.0038%',\n",
       "       '0.0138%', '-0.025%', '0.0144%', '-0.0126%', '0.0063%', '0.0067%',\n",
       "       '0.0101%', '0.0033%', '0.0096%', '-0.0093%', '-0.0031%', '7e-04%',\n",
       "       '0.0042%', '-0.0082%', '-0.0029%', '0.0012%', '-0.0204%',\n",
       "       '-0.0046%', '0.0046%', '0.0185%', '-0.0207%', '-0.0151%',\n",
       "       '-0.0127%', '0.0116%', '-0.0163%', '-0.0094%', '-0.0061%',\n",
       "       '-0.0136%', '-0.0044%', '-0.0133%', '-0.0078%', '0%', '0.0215%',\n",
       "       '0.0121%', '-0.0079%', '-0.0095%', '-0.013%', '-7e-04%',\n",
       "       '-0.0143%', '-0.02%', '0.008%', '-0.0202%', '-0.0148%', '0.0161%',\n",
       "       '0.016%', '-0.0081%', '0.0118%', '0.0175%', '-0.0076%', '0.0265%',\n",
       "       '-0.0178%', '0.0226%', '0.0153%', '-0.0122%', '0.0165%', '0.0104%',\n",
       "       '0.0209%', '-0.0099%', '0.0222%', '0.0224%', '0.012%', '0.0036%',\n",
       "       '-0.0113%', '-0.0182%', '-0.0123%', '0.0083%', '0.0152%',\n",
       "       '0.0183%', '-0.0066%', '-0.0161%', '0.0139%', '-0.0098%',\n",
       "       '-0.0241%', '0.0288%', '0.0076%', '0.0086%', '0.011%', '-0.0132%',\n",
       "       '-0.01%', '-0.0144%', '-0.0047%', '-0.0119%', '-0.0034%',\n",
       "       '0.0018%', '-0.0011%', '0.014%', '-0.008%', '-0.0085%', '0.0084%',\n",
       "       '0.0107%', '0.0208%', '0.0142%', '0.0135%', '0.022%', '0.0016%',\n",
       "       '-0.0173%', '0.0055%', '0.0117%', '0.021%', '0.0137%', '-0.0141%',\n",
       "       '-0.0039%', '-0.0177%', '0.0232%', '-0.0292%', '0.0247%',\n",
       "       '0.0176%', '-0.0186%', '0.0035%', '0.0295%', '0.0188%', '0.0199%',\n",
       "       '-0.0262%', '-0.0259%', '-0.0272%', '0.0213%', '-0.0049%',\n",
       "       '-0.0193%', '-0.0028%', '0.0272%', '-0.0069%', '-0.0198%',\n",
       "       '-0.0166%', '0.0264%', '-5e-04%', '0.0301%', '-0.0171%', '0.0106%',\n",
       "       '0.0254%', '0.0195%', '0.0143%', '-0.0152%', '0.0198%', '0.0123%',\n",
       "       '0.0181%', '-0.0129%', '-0.0206%', '0.0266%', '-0.0084%',\n",
       "       '-0.0101%', '-0.0222%', '-0.0154%', '-0.0065%', '0.0267%',\n",
       "       '0.0255%', '0.0119%', '8e-04%', '-4e-04%', '-0.0277%', '0.0169%',\n",
       "       '-0.0091%', '0.0177%', '0.0184%', '-0.0276%', '-0.0235%',\n",
       "       '0.0134%', '0.0128%', '-0.0203%', '-0.0175%', '0.0189%', '0.0242%',\n",
       "       '0.0129%', '-0.0147%', '0.0131%', '0.0141%', '-0.015%', '0.0201%',\n",
       "       '-0.0142%', '0.0179%', '-0.026%', '0.0182%', '0.0335%', '-0.0197%',\n",
       "       '0.0206%', '-0.0139%', '-0.0254%', '0.0187%', '0.029%', '-0.0072%',\n",
       "       '-0.0208%', '0.0166%', '-0.0162%', '0.0231%', '0.0163%',\n",
       "       '-0.0194%', '-0.0221%', '0.0233%', '-0.0244%', '-0.0104%',\n",
       "       '0.0126%', '-0.0164%', '0.032%', '-0.0199%', '-0.0322%', '0.0173%',\n",
       "       '0.0075%', '-0.0265%', '-0.0128%', '-0.0158%', '-0.0249%',\n",
       "       '-0.0201%', '0.0256%', '-0.0188%', '-0.023%', '-0.0238%',\n",
       "       '-0.0214%', '-0.0278%', '0.0191%', '0.02%', '0.0194%', '-0.0228%',\n",
       "       '-0.0245%', '-0.0242%', '-0.0223%', '-0.019%', '0.0269%',\n",
       "       '0.0314%', '-0.0217%', '0.0235%', '0.0196%', '0.0323%', '0.0147%',\n",
       "       '0.0234%', '0.024%', '-0.0196%', '0.0204%', '-0.0192%', '0.026%',\n",
       "       '0.0305%', '-0.0174%', '0.0211%', '-0.0209%', '-0.0224%',\n",
       "       '-0.0281%', '-0.0247%', '-0.0096%', '0.0202%', '0.0227%',\n",
       "       '-0.0236%', '-0.0218%', '-0.0252%', '0.019%', '0.0155%', '0.0221%',\n",
       "       '-0.0215%', '0.0284%', '0.0251%', '-0.0191%', '-0.0219%',\n",
       "       '0.0178%', '0.0241%', '0.0186%', '0.0228%', '-0.0187%', '-0.0233%',\n",
       "       '0.0214%', '-0.0261%', '0.0271%', '-0.0271%', '-0.0269%',\n",
       "       '0.0274%', '0.0252%', '0.0225%', '-0.0257%', '-0.0308%', '0.0331%',\n",
       "       '-0.0234%', '0.0263%', '-0.0088%', '-0.0189%', '-0.0392%',\n",
       "       '-0.0297%', '-0.0211%', '0.0281%', '0.0243%', '0.0258%',\n",
       "       '-0.0264%', '-0.0246%', '0.0197%', '-0.0237%', '-0.0336%',\n",
       "       '0.0237%', '0.0217%', '0.013%', '-0.0314%', '-0.0216%', '0.0238%',\n",
       "       '0.0286%', '-0.0289%', '-0.0263%', '-0.0258%', '-0.0286%',\n",
       "       '-0.031%', '0.0268%', '0.0218%', '-0.0266%', '-0.0319%', '0.027%',\n",
       "       '-0.0205%', '-0.0282%', '-0.0225%', '0.028%', '-0.0255%', '0.025%',\n",
       "       '-0.0239%', '0.0297%', '0.0245%', '0.0244%', '-0.024%', '0.0249%',\n",
       "       '0.0223%', '0.0257%', '0.0296%', '-0.0227%', '0.0303%', '0.0248%',\n",
       "       '-0.0298%', '-0.0248%', '0.0334%', '-0.0327%', '-0.0232%',\n",
       "       '0.0277%', '0.0253%', '0.0246%', '0.0294%', '0.0328%', '-0.0212%',\n",
       "       '0.0239%', '0.0287%', '0.0311%', '0.0321%', '-0.028%', '0.0261%',\n",
       "       '-0.0283%', '0.0346%', '-0.0285%', '0.0359%', '0.0317%', '0.0278%',\n",
       "       '0.0312%', '0.0302%', '-0.0315%', '-0.0229%', '0.0205%', '0.0304%',\n",
       "       '-0.0279%', '0.0356%', '-0.0299%', '0.0298%', '-0.0345%',\n",
       "       '-0.0303%', '0.0339%', '0.0273%', '0.0236%', '0.0315%', '-0.0316%',\n",
       "       '-0.0307%', '-0.0323%', '-0.0253%', '-0.0294%', '-0.0231%',\n",
       "       '-0.0251%', '0.0292%', '-0.0332%', '0.0279%', '-0.0291%',\n",
       "       '0.0306%', '-0.0335%', '0.0283%', '0.0319%', '-0.0378%',\n",
       "       '-0.0267%', '0.0379%', '0.031%', '-0.0438%', '0.0349%', '0.0293%',\n",
       "       '-0.0288%', '-0.0301%', '-0.0268%', '-0.0302%', '0.0299%',\n",
       "       '0.0259%', '0.0337%', '0.0316%', '0.0276%', '-0.0408%', '0.0291%',\n",
       "       '-0.027%', '-0.0312%', '-0.0412%', '-0.0313%', '-0.029%',\n",
       "       '-0.0339%', '-0.0406%', '0.0318%', '-0.0328%', '0.0342%',\n",
       "       '0.0282%', '-0.0405%', '-0.0287%', '-0.0274%', '-0.0296%', '0.03%',\n",
       "       '0.0324%', '0.0344%', '-0.0324%', '0.0289%', '0.0325%', '-0.0243%',\n",
       "       '-0.0338%', '-0.0318%', '-0.0311%', '-0.0256%', '-0.0373%',\n",
       "       '0.0354%', '-0.0293%'], dtype=object)"
      ]
     },
     "execution_count": 21,
     "metadata": {},
     "output_type": "execute_result"
    }
   ],
   "source": [
    "df_categ['x7'].unique()"
   ]
  },
  {
   "cell_type": "markdown",
   "metadata": {},
   "source": [
    "## x7 column: the % sign should be cleaned from strings and I need to change the dtype and introduce it as numeric feature."
   ]
  },
  {
   "cell_type": "code",
   "execution_count": 22,
   "metadata": {},
   "outputs": [
    {
     "name": "stdout",
     "output_type": "stream",
     "text": [
      "object\n"
     ]
    },
    {
     "data": {
      "text/plain": [
       "dtype('float64')"
      ]
     },
     "execution_count": 22,
     "metadata": {},
     "output_type": "execute_result"
    }
   ],
   "source": [
    "df['x7'] = df['x7'].str.replace('%','')\n",
    "print(df['x7'].dtypes)\n",
    "df['x7'] = df['x7'].astype('float64')\n",
    "df['x7'].dtypes\n"
   ]
  },
  {
   "cell_type": "markdown",
   "metadata": {},
   "source": [
    "check out the 'x19' column"
   ]
  },
  {
   "cell_type": "code",
   "execution_count": 23,
   "metadata": {},
   "outputs": [
    {
     "data": {
      "text/plain": [
       "array(['$-908.650758424405', '$-1864.9622875143', '$-543.187402955527',\n",
       "       ..., '$834.95775080472', '$-48.1031003332715', '$96.0017151741518'],\n",
       "      dtype=object)"
      ]
     },
     "execution_count": 23,
     "metadata": {},
     "output_type": "execute_result"
    }
   ],
   "source": [
    "df_categ['x19'].unique()"
   ]
  },
  {
   "cell_type": "markdown",
   "metadata": {},
   "source": [
    "## x19 column: the % sign should be cleaned from strings and I need to change the dtype and introduce it as numeric feature."
   ]
  },
  {
   "cell_type": "code",
   "execution_count": 24,
   "metadata": {},
   "outputs": [
    {
     "data": {
      "text/plain": [
       "dtype('float64')"
      ]
     },
     "execution_count": 24,
     "metadata": {},
     "output_type": "execute_result"
    }
   ],
   "source": [
    "df_categ['x19'] = df_categ['x19'].str.replace('$','')\n",
    "df_categ['x19'].dtypes\n",
    "df_categ['x19'] = df_categ['x19'].astype('float64')\n",
    "df_categ['x19'].dtypes\n",
    "\n"
   ]
  },
  {
   "cell_type": "markdown",
   "metadata": {},
   "source": [
    "check out the 'x24' column"
   ]
  },
  {
   "cell_type": "code",
   "execution_count": 25,
   "metadata": {},
   "outputs": [
    {
     "data": {
      "text/plain": [
       "array(['female', 'male', nan], dtype=object)"
      ]
     },
     "execution_count": 25,
     "metadata": {},
     "output_type": "execute_result"
    }
   ],
   "source": [
    "df_categ['x24'].unique()"
   ]
  },
  {
   "cell_type": "markdown",
   "metadata": {},
   "source": [
    "## x24 column: is nominal category and needs to be transformed using One Hot Encoding"
   ]
  },
  {
   "cell_type": "markdown",
   "metadata": {},
   "source": [
    "check out the x31 column"
   ]
  },
  {
   "cell_type": "code",
   "execution_count": 26,
   "metadata": {},
   "outputs": [
    {
     "data": {
      "text/plain": [
       "array(['no', 'yes'], dtype=object)"
      ]
     },
     "execution_count": 26,
     "metadata": {},
     "output_type": "execute_result"
    }
   ],
   "source": [
    "df_categ['x31'].unique()"
   ]
  },
  {
   "cell_type": "markdown",
   "metadata": {},
   "source": [
    "## x31 column: is nominal category and needs to be transformed using One Hot Encoding"
   ]
  },
  {
   "cell_type": "markdown",
   "metadata": {},
   "source": [
    "check out the x33 column"
   ]
  },
  {
   "cell_type": "code",
   "execution_count": 27,
   "metadata": {},
   "outputs": [
    {
     "data": {
      "text/plain": [
       "array(['Colorado', 'Tennessee', 'Texas', 'Minnesota', 'New York',\n",
       "       'Florida', 'Nebraska', 'California', nan, 'North Dakota',\n",
       "       'Arizona', 'Alabama', 'Ohio', 'Pennsylvania', 'Iowa', 'Indiana',\n",
       "       'Vermont', 'Arkansas', 'Massachusetts', 'Illinois', 'Georgia',\n",
       "       'West Virginia', 'Connecticut', 'Virginia', 'North Carolina',\n",
       "       'Montana', 'New Mexico', 'New Hampshire', 'Michigan', 'DC',\n",
       "       'Washington', 'Louisiana', 'Kentucky', 'Utah', 'Missouri',\n",
       "       'Oregon', 'Oklahoma', 'Nevada', 'Wisconsin', 'New Jersey',\n",
       "       'Maryland', 'Maine', 'Alaska', 'Idaho', 'Wyoming', 'Rhode Island',\n",
       "       'South Dakota', 'Mississippi', 'Kansas', 'Delaware', 'Hawaii',\n",
       "       'South Carolina'], dtype=object)"
      ]
     },
     "execution_count": 27,
     "metadata": {},
     "output_type": "execute_result"
    }
   ],
   "source": [
    "df_categ['x33'].unique()"
   ]
  },
  {
   "cell_type": "code",
   "execution_count": null,
   "metadata": {},
   "outputs": [],
   "source": []
  },
  {
   "cell_type": "markdown",
   "metadata": {},
   "source": [
    "## x33 column: is nominal category and needs to be transformed using One Hot Encoding"
   ]
  },
  {
   "cell_type": "markdown",
   "metadata": {},
   "source": [
    "check out the x39 column"
   ]
  },
  {
   "cell_type": "code",
   "execution_count": 28,
   "metadata": {},
   "outputs": [
    {
     "data": {
      "text/plain": [
       "array(['5-10 miles'], dtype=object)"
      ]
     },
     "execution_count": 28,
     "metadata": {},
     "output_type": "execute_result"
    }
   ],
   "source": [
    "df_categ['x39'].unique()"
   ]
  },
  {
   "cell_type": "markdown",
   "metadata": {},
   "source": [
    "## Drop the column x39"
   ]
  },
  {
   "cell_type": "markdown",
   "metadata": {},
   "source": [
    "check out the x60 column"
   ]
  },
  {
   "cell_type": "code",
   "execution_count": 29,
   "metadata": {},
   "outputs": [
    {
     "data": {
      "text/plain": [
       "array(['August', 'April', 'September', 'January', 'December', 'March',\n",
       "       'July', 'November', 'June', 'February', 'October', 'May'],\n",
       "      dtype=object)"
      ]
     },
     "execution_count": 29,
     "metadata": {},
     "output_type": "execute_result"
    }
   ],
   "source": [
    "df_categ['x60'].unique()"
   ]
  },
  {
   "cell_type": "markdown",
   "metadata": {},
   "source": [
    "## x60 is nominal and OneHotEncoder should be used to transfer this column"
   ]
  },
  {
   "cell_type": "markdown",
   "metadata": {},
   "source": [
    "check out the x65 column"
   ]
  },
  {
   "cell_type": "code",
   "execution_count": 30,
   "metadata": {},
   "outputs": [
    {
     "data": {
      "text/plain": [
       "array(['farmers', 'allstate', 'geico', 'progressive', 'esurance'],\n",
       "      dtype=object)"
      ]
     },
     "execution_count": 30,
     "metadata": {},
     "output_type": "execute_result"
    }
   ],
   "source": [
    "df_categ['x65'].unique()"
   ]
  },
  {
   "cell_type": "markdown",
   "metadata": {},
   "source": [
    "## x65 is nominal and OneHotEncoder should be used to transfer this column"
   ]
  },
  {
   "cell_type": "markdown",
   "metadata": {},
   "source": [
    "check out the x77 column"
   ]
  },
  {
   "cell_type": "code",
   "execution_count": 31,
   "metadata": {},
   "outputs": [
    {
     "data": {
      "text/plain": [
       "array(['mercedes', 'subaru', 'nissan', 'toyota', nan, 'chevrolet',\n",
       "       'buick', 'ford'], dtype=object)"
      ]
     },
     "execution_count": 31,
     "metadata": {},
     "output_type": "execute_result"
    }
   ],
   "source": [
    "df_categ['x77'].unique()"
   ]
  },
  {
   "cell_type": "markdown",
   "metadata": {},
   "source": [
    "## x77 is nominal and OneHotEncoder should be used to transfer this column\n"
   ]
  },
  {
   "cell_type": "markdown",
   "metadata": {},
   "source": [
    "check out the x93 column"
   ]
  },
  {
   "cell_type": "code",
   "execution_count": 32,
   "metadata": {},
   "outputs": [
    {
     "data": {
      "text/plain": [
       "array(['no', 'yes'], dtype=object)"
      ]
     },
     "execution_count": 32,
     "metadata": {},
     "output_type": "execute_result"
    }
   ],
   "source": [
    "df_categ['x93'].unique()"
   ]
  },
  {
   "cell_type": "markdown",
   "metadata": {},
   "source": [
    "## x93 is nominal and OneHotEncoder should be used to transfer this column\n"
   ]
  },
  {
   "cell_type": "markdown",
   "metadata": {},
   "source": [
    "check out the x99 (it has just one value - it is usedful)"
   ]
  },
  {
   "cell_type": "code",
   "execution_count": 33,
   "metadata": {},
   "outputs": [
    {
     "data": {
      "text/plain": [
       "array(['yes', nan], dtype=object)"
      ]
     },
     "execution_count": 33,
     "metadata": {},
     "output_type": "execute_result"
    }
   ],
   "source": [
    "df_categ['x99'].unique()"
   ]
  },
  {
   "cell_type": "markdown",
   "metadata": {},
   "source": [
    "## X99 should be droped - it has just one category. The x24, x33, and x77 columns NaN values needs to be replaced by their mode.\n"
   ]
  },
  {
   "cell_type": "markdown",
   "metadata": {},
   "source": [
    "# Recap for categorical columns\n",
    "\n",
    "* x3 is nominal categorical feature (needs OneHotEncoder transformer) and custom function edit is needed\n",
    "* x7 column: the % sign should be cleaned from strings and I need to change the dtype and introduce it as numeric feature.\n",
    "* x19 column: the % sign should be cleaned from strings and I need to change the dtype and introduce it as numeric feature.\n",
    "* x24 column: is nominal category and needs to be transformed using One Hot Encoding\n",
    "* x31 column: is nominal category and needs to be transformed using One Hot Encoding\n",
    "* x33 column: is nominal category and needs to be transformed using One Hot Encoding\n",
    "* x39 should be droped the column \n",
    "* x60 is nominal and OneHotEncoder should be used to transfer this column\n",
    "* x65 is nominal and OneHotEncoder should be used to transfer this column\n",
    "* x77 is nominal and OneHotEncoder should be used to transfer this column\n",
    "* x93 is nominal and OneHotEncoder should be used to transfer this column\n",
    "* X99 should be droped - it has just one category. \n",
    "* The x24, x33, and x77 columns NaN values needs to be replaced by their mode.\n"
   ]
  },
  {
   "cell_type": "code",
   "execution_count": 34,
   "metadata": {},
   "outputs": [],
   "source": [
    "# OneHotEncoding columns\n",
    "cols_to_be_OneHotEncoded = ['x3','x24','x31','x33',\n",
    "                            'x60','x65','x77','x93']\n",
    "\n",
    "cols_to_be_droped = ['x39','x99']\n",
    "\n",
    "cols_to_be_imputed = ['x24','x33','x77']\n",
    "\n",
    "cols_to_be_edited_custom_fun = ['x3', 'x7','x19']"
   ]
  },
  {
   "cell_type": "code",
   "execution_count": null,
   "metadata": {},
   "outputs": [],
   "source": []
  },
  {
   "cell_type": "markdown",
   "metadata": {},
   "source": [
    "# Custom transform\n",
    "\n",
    "I need to use custom function transform\n"
   ]
  },
  {
   "cell_type": "code",
   "execution_count": 35,
   "metadata": {},
   "outputs": [
    {
     "data": {
      "text/plain": [
       "array(['Wed', 'Friday', 'Thursday', 'Tuesday', 'Sunday', 'Saturday',\n",
       "       'Sat', 'Wednesday', 'Sun', 'Tue', 'Thur', 'Monday', 'Fri', 'Mon'],\n",
       "      dtype=object)"
      ]
     },
     "execution_count": 35,
     "metadata": {},
     "output_type": "execute_result"
    }
   ],
   "source": [
    "df['x3'].unique()"
   ]
  },
  {
   "cell_type": "code",
   "execution_count": 36,
   "metadata": {},
   "outputs": [],
   "source": [
    "# file_path = \"../DataSet/\"\n",
    "# file_name = \"exercise_40_train.csv\"\n",
    "# df = pd.read_csv(file_path+file_name)\n",
    "\n",
    "# X = df[['x3']]\n",
    "# print(X.shape)\n",
    "# print(type(X))\n",
    "\n",
    "# # extract the first letter from each string\n",
    "# def fix_x3_wed(df):\n",
    "    \n",
    "#     return df.apply(lambda x: re.sub(r'\\bWed\\b', 'Wednesday', str(x)))\n",
    "\n",
    "# fix_x3_wed = FunctionTransformer(fix_x3_wed)\n",
    "\n",
    "# ct = make_column_transformer((fix_x3_wed, ['x3']))\n",
    "\n",
    "# ct.fit_transform(X)"
   ]
  },
  {
   "cell_type": "markdown",
   "metadata": {},
   "source": [
    "i get error here! cant make custom transformer! I move on.\n",
    "\n",
    "```\n",
    "ValueError: The output of the 'functiontransformer' transformer should be 2D (scipy matrix, array, or pandas DataFrame).\n",
    "\n",
    "\n",
    "```"
   ]
  },
  {
   "cell_type": "code",
   "execution_count": 37,
   "metadata": {},
   "outputs": [],
   "source": [
    "# for i, string in enumerate(df['x3'].values):\n",
    "#     df['x3'].values[i] = re.sub(r'\\bTue\\b', 'Tuesday', string)\n",
    "    \n",
    "# for i, string in enumerate(df['x3'].values):\n",
    "#     df['x3'].values[i] = re.sub(r'\\bSun\\b', 'Sunday', string)\n",
    "    \n",
    "# for i, string in enumerate(df['x3'].values):\n",
    "#     df['x3'].values[i] = re.sub(r'\\bSat\\b', 'Saturday', string)\n",
    "    \n",
    "# for i, string in enumerate(df['x3'].values):\n",
    "#     df['x3'].values[i] = re.sub(r'\\bFri\\b', 'Friday', string)\n",
    "    \n",
    "# for i, string in enumerate(df['x3'].values):\n",
    "#     df['x3'].values[i] = re.sub(r'\\bWed\\b', 'Wednesday', string)\n",
    "    \n",
    "# for i, string in enumerate(df['x3'].values):\n",
    "#     df['x3'].values[i] = re.sub(r'\\bMon\\b', 'Monday', string)\n",
    "    \n",
    "# for i, string in enumerate(df['x3'].values):\n",
    "#     df['x3'].values[i] = re.sub(r'\\bThur\\b', 'Thursday', string)"
   ]
  },
  {
   "cell_type": "markdown",
   "metadata": {},
   "source": [
    "# Categorical feature selection"
   ]
  },
  {
   "cell_type": "markdown",
   "metadata": {},
   "source": [
    "let's score the features using select Kbest "
   ]
  },
  {
   "cell_type": "code",
   "execution_count": 38,
   "metadata": {},
   "outputs": [],
   "source": [
    "# logicbot \n",
    "# evaluation of a model fit using mutual information input features\n",
    "from pandas import read_csv\n",
    "from sklearn.preprocessing import LabelEncoder\n",
    "from sklearn.preprocessing import OrdinalEncoder\n",
    "from sklearn.feature_selection import SelectKBest\n",
    "from sklearn.feature_selection import mutual_info_classif\n",
    "from sklearn.model_selection import train_test_split\n",
    "from sklearn.linear_model import LogisticRegression\n",
    "from sklearn.metrics import accuracy_score"
   ]
  },
  {
   "cell_type": "code",
   "execution_count": 39,
   "metadata": {},
   "outputs": [],
   "source": [
    "# file_path = \"../DataSet/\"\n",
    "# file_name = \"exercise_40_train.csv\"\n",
    "# df = pd.read_csv(file_path+file_name)"
   ]
  },
  {
   "cell_type": "code",
   "execution_count": 46,
   "metadata": {},
   "outputs": [],
   "source": [
    "# df_categ\n",
    "dataset_features = df_categ.values\n",
    "dataset_target = df_categ.values\n",
    "# split into input (X) and output (y) variables\n",
    "X = dataset_features[:, 3:] #exclude the $ column\n",
    "y = dataset_target[:,0]"
   ]
  },
  {
   "cell_type": "code",
   "execution_count": 47,
   "metadata": {},
   "outputs": [
    {
     "data": {
      "text/plain": [
       "array(['female', 'no', 'Colorado', '5-10 miles', 'August', 'farmers',\n",
       "       'mercedes', 'no', 'yes'], dtype=object)"
      ]
     },
     "execution_count": 47,
     "metadata": {},
     "output_type": "execute_result"
    }
   ],
   "source": [
    "X[0]"
   ]
  },
  {
   "cell_type": "code",
   "execution_count": 48,
   "metadata": {},
   "outputs": [],
   "source": [
    "# imp = SimpleImputer(strategy=\"most_frequent\")\n",
    "# imp.fit_transform(X)"
   ]
  },
  {
   "cell_type": "code",
   "execution_count": 49,
   "metadata": {},
   "outputs": [
    {
     "name": "stdout",
     "output_type": "stream",
     "text": [
      "Accuracy: 85.65\n"
     ]
    }
   ],
   "source": [
    "\n",
    "# load the dataset\n",
    "def load_dataset():\n",
    "    \n",
    "    # load the dataset as a pandas DataFrame\n",
    "    # df_catego\n",
    "    dataset_features = df_categ.values\n",
    "    dataset_target = df.values\n",
    "    # split into input (X) and output (y) variables\n",
    "    X = dataset_features[:, 3:]\n",
    "    y = dataset_target[:,0]\n",
    "\n",
    "    \n",
    "    return X, y\n",
    " \n",
    "# prepare input data\n",
    "def prepare_inputs(X_train, X_test):\n",
    "    \n",
    "    imp = SimpleImputer(strategy=\"most_frequent\")\n",
    "    imp.fit(X_train)\n",
    "    \n",
    "    X_train_imp = imp.transform(X_train)\n",
    "    X_test_imp = imp.transform(X_test)    \n",
    "    \n",
    "    \n",
    "    oe = OrdinalEncoder()\n",
    "    oe.fit(X_train_imp)\n",
    "    \n",
    "    X_train_enc = oe.transform(X_train_imp)\n",
    "    X_test_enc = oe.transform(X_test_imp)\n",
    "    \n",
    "    return X_train_enc, X_test_enc\n",
    " \n",
    "# prepare target\n",
    "def prepare_targets(y_train, y_test):\n",
    "    \n",
    "    le = LabelEncoder()\n",
    "    le.fit(y_train)\n",
    "    \n",
    "    y_train_enc = le.transform(y_train)\n",
    "    y_test_enc = le.transform(y_test)\n",
    "    \n",
    "    return y_train_enc, y_test_enc\n",
    " \n",
    "# feature selection\n",
    "def select_features(X_train, y_train, X_test):\n",
    "    fs = SelectKBest(score_func=mutual_info_classif, k=4)\n",
    "    fs.fit(X_train, y_train)\n",
    "    X_train_fs = fs.transform(X_train)\n",
    "    X_test_fs = fs.transform(X_test)\n",
    "    return X_train_fs, X_test_fs, fs\n",
    " \n",
    "\n",
    "# load the dataset\n",
    "X, y = load_dataset()\n",
    "\n",
    "# split into train and test sets\n",
    "X_train, X_test, y_train, y_test = train_test_split(X, y, test_size=0.33, random_state=1)\n",
    "\n",
    "# prepare input data\n",
    "X_train_enc, X_test_enc = prepare_inputs(X_train, X_test)\n",
    "\n",
    "# prepare output data\n",
    "y_train_enc, y_test_enc = prepare_targets(y_train, y_test)\n",
    "\n",
    "# feature selection\n",
    "X_train_fs, X_test_fs, fs = select_features(X_train_enc, y_train_enc, X_test_enc)\n",
    "\n",
    "weights = {0:0.85, 1:0.14}\n",
    "# fit the model\n",
    "model = LogisticRegression(solver='lbfgs', class_weight=weights)\n",
    "model.fit(X_train_fs, y_train_enc)\n",
    "\n",
    "# evaluate the model\n",
    "yhat = model.predict(X_test_fs)\n",
    "\n",
    "# evaluate predictions\n",
    "accuracy = accuracy_score(y_test_enc, yhat)\n",
    "print('Accuracy: %.2f' % (accuracy*100))"
   ]
  },
  {
   "cell_type": "code",
   "execution_count": 50,
   "metadata": {},
   "outputs": [],
   "source": [
    "from matplotlib import pyplot"
   ]
  },
  {
   "cell_type": "code",
   "execution_count": 51,
   "metadata": {},
   "outputs": [
    {
     "name": "stdout",
     "output_type": "stream",
     "text": [
      "Feature 0: 0.002342\n",
      "Feature 1: 0.004263\n",
      "Feature 2: 0.001902\n",
      "Feature 3: 0.001658\n",
      "Feature 4: 0.000000\n",
      "Feature 5: 0.002721\n",
      "Feature 6: 0.002061\n",
      "Feature 7: 0.003576\n",
      "Feature 8: 0.001586\n"
     ]
    },
    {
     "data": {
      "image/png": "[encoded data removed]",
      "text/plain": [
       "<Figure size 1080x432 with 1 Axes>"
      ]
     },
     "metadata": {
      "image/png": {
       "height": 381,
       "width": 907
      },
      "needs_background": "light"
     },
     "output_type": "display_data"
    }
   ],
   "source": [
    "# load the dataset\n",
    "X, y = load_dataset()\n",
    "\n",
    "# split into train and test sets\n",
    "X_train, X_test, y_train, y_test = train_test_split(X, y, test_size=0.33, random_state=1)\n",
    "\n",
    "# prepare input data\n",
    "X_train_enc, X_test_enc = prepare_inputs(X_train, X_test)\n",
    "# prepare output data\n",
    "y_train_enc, y_test_enc = prepare_targets(y_train, y_test)\n",
    "# feature selection\n",
    "X_train_fs, X_test_fs, fs = select_features(X_train_enc, y_train_enc, X_test_enc)\n",
    "# what are scores for the features\n",
    "scr_list = []\n",
    "for i in range(len(fs.scores_)):\n",
    "    scr_list.append(fs.scores_[i])\n",
    "    print('Feature %d: %f' % (i, fs.scores_[i]))\n",
    "    \n",
    "    \n",
    "\n",
    "# plot the scores\n",
    "scr_list_pd = pd.DataFrame(scr_list)\n",
    "# print(scr_list_pd)\n",
    "\n",
    "scr_list_pd = scr_list_pd.rename(index={0: 'x24',1:'x31', 2:'x33', 3:'x39', 4:'x60',\n",
    "                                  5:'x65', 6:'x77', 7:'x93', 8:'x99'})\n",
    "\n",
    "\n",
    "scr_list_pd.plot(kind='bar', figsize=(15,6), label=False)\n",
    "plt.ylabel('score')\n",
    "plt.title('Scores for categorical features')\n",
    "plt.savefig(\"../Figures/plot_01_1_categ_selectkbest.png\")\n",
    "\n",
    "plt.show()"
   ]
  },
  {
   "cell_type": "code",
   "execution_count": 54,
   "metadata": {},
   "outputs": [
    {
     "name": "stdout",
     "output_type": "stream",
     "text": [
      "['female' 'no' 'Colorado' '5-10 miles' 'August' 'farmers' 'mercedes' 'no'\n",
      " 'yes']\n",
      "Index(['x3', 'x7', 'x19', 'x24', 'x31', 'x33', 'x39', 'x60', 'x65', 'x77',\n",
      "       'x93', 'x99'],\n",
      "      dtype='object')\n"
     ]
    },
    {
     "data": {
      "text/html": [
       "<div>\n",
       "<style scoped>\n",
       "    .dataframe tbody tr th:only-of-type {\n",
       "        vertical-align: middle;\n",
       "    }\n",
       "\n",
       "    .dataframe tbody tr th {\n",
       "        vertical-align: top;\n",
       "    }\n",
       "\n",
       "    .dataframe thead th {\n",
       "        text-align: right;\n",
       "    }\n",
       "</style>\n",
       "<table border=\"1\" class=\"dataframe\">\n",
       "  <thead>\n",
       "    <tr style=\"text-align: right;\">\n",
       "      <th></th>\n",
       "      <th>x3</th>\n",
       "      <th>x7</th>\n",
       "      <th>x19</th>\n",
       "      <th>x24</th>\n",
       "      <th>x31</th>\n",
       "      <th>x33</th>\n",
       "      <th>x39</th>\n",
       "      <th>x60</th>\n",
       "      <th>x65</th>\n",
       "      <th>x77</th>\n",
       "      <th>x93</th>\n",
       "      <th>x99</th>\n",
       "    </tr>\n",
       "  </thead>\n",
       "  <tbody>\n",
       "    <tr>\n",
       "      <th>0</th>\n",
       "      <td>Wednesday</td>\n",
       "      <td>0.0062%</td>\n",
       "      <td>-908.650758</td>\n",
       "      <td>female</td>\n",
       "      <td>no</td>\n",
       "      <td>Colorado</td>\n",
       "      <td>5-10 miles</td>\n",
       "      <td>August</td>\n",
       "      <td>farmers</td>\n",
       "      <td>mercedes</td>\n",
       "      <td>no</td>\n",
       "      <td>yes</td>\n",
       "    </tr>\n",
       "    <tr>\n",
       "      <th>1</th>\n",
       "      <td>Friday</td>\n",
       "      <td>0.0064%</td>\n",
       "      <td>-1864.962288</td>\n",
       "      <td>male</td>\n",
       "      <td>no</td>\n",
       "      <td>Tennessee</td>\n",
       "      <td>5-10 miles</td>\n",
       "      <td>April</td>\n",
       "      <td>allstate</td>\n",
       "      <td>mercedes</td>\n",
       "      <td>no</td>\n",
       "      <td>yes</td>\n",
       "    </tr>\n",
       "  </tbody>\n",
       "</table>\n",
       "</div>"
      ],
      "text/plain": [
       "          x3       x7          x19     x24 x31        x33         x39     x60  \\\n",
       "0  Wednesday  0.0062%  -908.650758  female  no   Colorado  5-10 miles  August   \n",
       "1     Friday  0.0064% -1864.962288    male  no  Tennessee  5-10 miles   April   \n",
       "\n",
       "        x65       x77 x93  x99  \n",
       "0   farmers  mercedes  no  yes  \n",
       "1  allstate  mercedes  no  yes  "
      ]
     },
     "execution_count": 54,
     "metadata": {},
     "output_type": "execute_result"
    }
   ],
   "source": [
    "print(X[0])\n",
    "\n",
    "print(df_categ.columns)\n",
    "\n",
    "df_categ.head(2)"
   ]
  },
  {
   "cell_type": "code",
   "execution_count": null,
   "metadata": {},
   "outputs": [],
   "source": [
    "X[0]"
   ]
  },
  {
   "cell_type": "markdown",
   "metadata": {},
   "source": [
    "Using column transform and preforming two transformation on one column"
   ]
  },
  {
   "cell_type": "code",
   "execution_count": 55,
   "metadata": {},
   "outputs": [],
   "source": [
    "two_transformer_pipe = make_pipeline(SimpleImputer(strategy=\"most_frequent\"), \n",
    "                                     OneHotEncoder())\n",
    "\n",
    "col_transform = ColumnTransformer(transformers=[(\"two_transformer_pipe\", \n",
    "                                                 two_transformer_pipe, \n",
    "                                                 df_categ.columns)])\n"
   ]
  },
  {
   "cell_type": "code",
   "execution_count": null,
   "metadata": {},
   "outputs": [],
   "source": [
    "# col_transform.fit_transform(X)"
   ]
  },
  {
   "cell_type": "code",
   "execution_count": null,
   "metadata": {},
   "outputs": [],
   "source": [
    "# a = pd.DataFrame(col_transform.fit_transform(X.head()))"
   ]
  },
  {
   "cell_type": "code",
   "execution_count": 56,
   "metadata": {},
   "outputs": [
    {
     "data": {
      "text/plain": [
       "0    0.854925\n",
       "1    0.145075\n",
       "Name: y, dtype: float64"
      ]
     },
     "execution_count": 56,
     "metadata": {},
     "output_type": "execute_result"
    }
   ],
   "source": [
    "df['y'].value_counts(normalize=True)"
   ]
  },
  {
   "cell_type": "code",
   "execution_count": 57,
   "metadata": {},
   "outputs": [],
   "source": [
    "from sklearn.model_selection import RepeatedStratifiedKFold\n",
    "\n",
    "weights = {0:0.85, 1:0.14}\n",
    "\n",
    "# model = LogisticRegression(solver='saga', class_weight=weights)\n",
    "# # # define evaluation procedure\n",
    "# cv = RepeatedStratifiedKFold(n_splits=10, n_repeats=3, random_state=1)\n",
    "# # # evaluate model\n",
    "# cross_val_score(model, X, y, scoring='roc_auc', cv=cv, n_jobs=-1)\n",
    "\n",
    "# logreg = LogisticRegression(solver='sag',class_weight=weights)\n",
    "# pipe = make_pipeline(col_transform, logreg)\n",
    "# cross_val_score(pipe, X, y, cv=cv, scoring='roc_auc', n_jobs=-1)"
   ]
  },
  {
   "cell_type": "code",
   "execution_count": 58,
   "metadata": {},
   "outputs": [
    {
     "data": {
      "image/png": "[encoded data removed]",
      "text/plain": [
       "<Figure size 576x360 with 1 Axes>"
      ]
     },
     "metadata": {
      "image/png": {
       "height": 331,
       "width": 474
      },
      "needs_background": "light"
     },
     "output_type": "display_data"
    }
   ],
   "source": [
    "X = df[['x3', 'x24', 'x31', 'x33', 'x60', 'x65', 'x77', 'x93']]\n",
    "\n",
    "y = df['y']\n",
    "\n",
    "x_3_trans_pipe = make_pipeline(SimpleImputer(strategy=\"most_frequent\"), OneHotEncoder())\n",
    "\n",
    "col_transform  = make_column_transformer((x_3_trans_pipe, ['x3', 'x24', 'x31','x33', 'x60', 'x65','x77', 'x93']))\n",
    "\n",
    "\n",
    "weights = {0:0.85, 1:0.14}\n",
    "logreg = LogisticRegression(solver='sag',class_weight=weights)\n",
    "pipe2 = make_pipeline(col_transform, logreg)\n",
    "scor = cross_val_score(pipe2, X, y, cv=10, scoring='roc_auc')\n",
    "\n",
    "scor = pd.DataFrame(scor)\n",
    "# plt.ylim(0,1)\n",
    "scor.plot(kind='box', vert=False, figsize=(8,5))\n",
    "plt.xlabel('AUC')\n",
    "plt.title('Ten fold cross-validation using categories features')\n",
    "plt.savefig(\"../Figures/plot_01_1_boxplot.png\")\n",
    "\n",
    "plt.show()"
   ]
  },
  {
   "cell_type": "code",
   "execution_count": null,
   "metadata": {},
   "outputs": [],
   "source": []
  },
  {
   "cell_type": "code",
   "execution_count": null,
   "metadata": {},
   "outputs": [],
   "source": []
  }
 ],
 "metadata": {
  "kernelspec": {
   "display_name": "Python 3",
   "language": "python",
   "name": "python3"
  },
  "language_info": {
   "codemirror_mode": {
    "name": "ipython",
    "version": 3
   },
   "file_extension": ".py",
   "mimetype": "text/x-python",
   "name": "python",
   "nbconvert_exporter": "python",
   "pygments_lexer": "ipython3",
   "version": "3.7.0"
  }
 },
 "nbformat": 4,
 "nbformat_minor": 2
}
