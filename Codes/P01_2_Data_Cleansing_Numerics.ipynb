{
 "cells": [
  {
   "cell_type": "markdown",
   "metadata": {},
   "source": [
    "# P01 - Data Cleansing and evaluation"
   ]
  },
  {
   "cell_type": "code",
   "execution_count": 147,
   "metadata": {},
   "outputs": [],
   "source": [
    "import pandas as pd\n",
    "import numpy as np\n",
    "import regex as re\n",
    "import warnings\n",
    "warnings.filterwarnings('ignore')\n",
    "from nltk.corpus import stopwords \n",
    "from nltk.stem.porter import PorterStemmer\n",
    "from nltk.stem import WordNetLemmatizer\n",
    "import pickle\n",
    "\n",
    "import matplotlib.pyplot as plt\n",
    "import re"
   ]
  },
  {
   "cell_type": "code",
   "execution_count": 148,
   "metadata": {},
   "outputs": [],
   "source": [
    "import seaborn as sns\n",
    "from sklearn.model_selection import train_test_split"
   ]
  },
  {
   "cell_type": "code",
   "execution_count": 149,
   "metadata": {},
   "outputs": [],
   "source": [
    "%config InlineBackend.figure_format = 'retina'"
   ]
  },
  {
   "cell_type": "code",
   "execution_count": 150,
   "metadata": {},
   "outputs": [],
   "source": [
    "import warnings\n",
    "warnings.filterwarnings('ignore')"
   ]
  },
  {
   "cell_type": "code",
   "execution_count": 151,
   "metadata": {},
   "outputs": [],
   "source": [
    "import pandas as pd\n",
    "from sklearn.compose import make_column_transformer\n",
    "from sklearn.preprocessing import OneHotEncoder\n",
    "from sklearn.linear_model import LogisticRegression\n",
    "from sklearn.pipeline import make_pipeline\n",
    "from sklearn.model_selection import cross_val_score"
   ]
  },
  {
   "cell_type": "markdown",
   "metadata": {},
   "source": [
    "# Read data set"
   ]
  },
  {
   "cell_type": "code",
   "execution_count": 152,
   "metadata": {},
   "outputs": [],
   "source": [
    "file_path = \"../DataSet/\"\n",
    "file_name = \"exercise_40_train.csv\"\n",
    "df = pd.read_csv(file_path+file_name)"
   ]
  },
  {
   "cell_type": "code",
   "execution_count": 153,
   "metadata": {},
   "outputs": [
    {
     "data": {
      "text/plain": [
       "(40000, 101)"
      ]
     },
     "execution_count": 153,
     "metadata": {},
     "output_type": "execute_result"
    }
   ],
   "source": [
    "df.shape"
   ]
  },
  {
   "cell_type": "code",
   "execution_count": 154,
   "metadata": {},
   "outputs": [
    {
     "data": {
      "text/html": [
       "<div>\n",
       "<style scoped>\n",
       "    .dataframe tbody tr th:only-of-type {\n",
       "        vertical-align: middle;\n",
       "    }\n",
       "\n",
       "    .dataframe tbody tr th {\n",
       "        vertical-align: top;\n",
       "    }\n",
       "\n",
       "    .dataframe thead th {\n",
       "        text-align: right;\n",
       "    }\n",
       "</style>\n",
       "<table border=\"1\" class=\"dataframe\">\n",
       "  <thead>\n",
       "    <tr style=\"text-align: right;\">\n",
       "      <th></th>\n",
       "      <th>count</th>\n",
       "      <th>mean</th>\n",
       "      <th>std</th>\n",
       "      <th>min</th>\n",
       "      <th>25%</th>\n",
       "      <th>50%</th>\n",
       "      <th>75%</th>\n",
       "      <th>max</th>\n",
       "    </tr>\n",
       "  </thead>\n",
       "  <tbody>\n",
       "    <tr>\n",
       "      <th>y</th>\n",
       "      <td>40000.0</td>\n",
       "      <td>0.145075</td>\n",
       "      <td>0.352181</td>\n",
       "      <td>0.000000</td>\n",
       "      <td>0.000000</td>\n",
       "      <td>0.000000</td>\n",
       "      <td>0.000000</td>\n",
       "      <td>1.000000</td>\n",
       "    </tr>\n",
       "    <tr>\n",
       "      <th>x1</th>\n",
       "      <td>40000.0</td>\n",
       "      <td>2.999958</td>\n",
       "      <td>1.994490</td>\n",
       "      <td>-3.648431</td>\n",
       "      <td>1.592714</td>\n",
       "      <td>2.875892</td>\n",
       "      <td>4.270295</td>\n",
       "      <td>13.837591</td>\n",
       "    </tr>\n",
       "    <tr>\n",
       "      <th>x2</th>\n",
       "      <td>40000.0</td>\n",
       "      <td>20.004865</td>\n",
       "      <td>1.604291</td>\n",
       "      <td>13.714945</td>\n",
       "      <td>18.921388</td>\n",
       "      <td>20.005944</td>\n",
       "      <td>21.083465</td>\n",
       "      <td>27.086468</td>\n",
       "    </tr>\n",
       "    <tr>\n",
       "      <th>x4</th>\n",
       "      <td>40000.0</td>\n",
       "      <td>0.002950</td>\n",
       "      <td>1.462185</td>\n",
       "      <td>-5.137161</td>\n",
       "      <td>-1.026799</td>\n",
       "      <td>0.002263</td>\n",
       "      <td>1.043354</td>\n",
       "      <td>5.150153</td>\n",
       "    </tr>\n",
       "    <tr>\n",
       "      <th>x5</th>\n",
       "      <td>37572.0</td>\n",
       "      <td>0.005396</td>\n",
       "      <td>1.297952</td>\n",
       "      <td>-5.616412</td>\n",
       "      <td>-0.872354</td>\n",
       "      <td>0.008822</td>\n",
       "      <td>0.892467</td>\n",
       "      <td>5.698128</td>\n",
       "    </tr>\n",
       "    <tr>\n",
       "      <th>...</th>\n",
       "      <td>...</td>\n",
       "      <td>...</td>\n",
       "      <td>...</td>\n",
       "      <td>...</td>\n",
       "      <td>...</td>\n",
       "      <td>...</td>\n",
       "      <td>...</td>\n",
       "      <td>...</td>\n",
       "    </tr>\n",
       "    <tr>\n",
       "      <th>x95</th>\n",
       "      <td>27396.0</td>\n",
       "      <td>0.031886</td>\n",
       "      <td>1.823091</td>\n",
       "      <td>-6.885150</td>\n",
       "      <td>-1.190682</td>\n",
       "      <td>0.001523</td>\n",
       "      <td>1.248742</td>\n",
       "      <td>7.631773</td>\n",
       "    </tr>\n",
       "    <tr>\n",
       "      <th>x96</th>\n",
       "      <td>33362.0</td>\n",
       "      <td>10.525530</td>\n",
       "      <td>1.437581</td>\n",
       "      <td>8.210456</td>\n",
       "      <td>9.397548</td>\n",
       "      <td>10.358355</td>\n",
       "      <td>11.448559</td>\n",
       "      <td>18.725468</td>\n",
       "    </tr>\n",
       "    <tr>\n",
       "      <th>x97</th>\n",
       "      <td>40000.0</td>\n",
       "      <td>10.002814</td>\n",
       "      <td>1.986984</td>\n",
       "      <td>1.911272</td>\n",
       "      <td>8.665103</td>\n",
       "      <td>9.994318</td>\n",
       "      <td>11.342574</td>\n",
       "      <td>17.861580</td>\n",
       "    </tr>\n",
       "    <tr>\n",
       "      <th>x98</th>\n",
       "      <td>40000.0</td>\n",
       "      <td>0.497650</td>\n",
       "      <td>0.500001</td>\n",
       "      <td>0.000000</td>\n",
       "      <td>0.000000</td>\n",
       "      <td>0.000000</td>\n",
       "      <td>1.000000</td>\n",
       "      <td>1.000000</td>\n",
       "    </tr>\n",
       "    <tr>\n",
       "      <th>x100</th>\n",
       "      <td>40000.0</td>\n",
       "      <td>100.024743</td>\n",
       "      <td>5.247514</td>\n",
       "      <td>78.340735</td>\n",
       "      <td>96.516856</td>\n",
       "      <td>100.024977</td>\n",
       "      <td>103.558762</td>\n",
       "      <td>122.406809</td>\n",
       "    </tr>\n",
       "  </tbody>\n",
       "</table>\n",
       "<p>89 rows × 8 columns</p>\n",
       "</div>"
      ],
      "text/plain": [
       "        count        mean       std        min        25%         50%  \\\n",
       "y     40000.0    0.145075  0.352181   0.000000   0.000000    0.000000   \n",
       "x1    40000.0    2.999958  1.994490  -3.648431   1.592714    2.875892   \n",
       "x2    40000.0   20.004865  1.604291  13.714945  18.921388   20.005944   \n",
       "x4    40000.0    0.002950  1.462185  -5.137161  -1.026799    0.002263   \n",
       "x5    37572.0    0.005396  1.297952  -5.616412  -0.872354    0.008822   \n",
       "...       ...         ...       ...        ...        ...         ...   \n",
       "x95   27396.0    0.031886  1.823091  -6.885150  -1.190682    0.001523   \n",
       "x96   33362.0   10.525530  1.437581   8.210456   9.397548   10.358355   \n",
       "x97   40000.0   10.002814  1.986984   1.911272   8.665103    9.994318   \n",
       "x98   40000.0    0.497650  0.500001   0.000000   0.000000    0.000000   \n",
       "x100  40000.0  100.024743  5.247514  78.340735  96.516856  100.024977   \n",
       "\n",
       "             75%         max  \n",
       "y       0.000000    1.000000  \n",
       "x1      4.270295   13.837591  \n",
       "x2     21.083465   27.086468  \n",
       "x4      1.043354    5.150153  \n",
       "x5      0.892467    5.698128  \n",
       "...          ...         ...  \n",
       "x95     1.248742    7.631773  \n",
       "x96    11.448559   18.725468  \n",
       "x97    11.342574   17.861580  \n",
       "x98     1.000000    1.000000  \n",
       "x100  103.558762  122.406809  \n",
       "\n",
       "[89 rows x 8 columns]"
      ]
     },
     "execution_count": 154,
     "metadata": {},
     "output_type": "execute_result"
    }
   ],
   "source": [
    "df.describe().T"
   ]
  },
  {
   "cell_type": "code",
   "execution_count": 155,
   "metadata": {},
   "outputs": [
    {
     "data": {
      "image/png": "[encoded data removed]",
      "text/plain": [
       "<Figure size 1080x432 with 1 Axes>"
      ]
     },
     "metadata": {
      "image/png": {
       "height": 369,
       "width": 887
      },
      "needs_background": "light"
     },
     "output_type": "display_data"
    }
   ],
   "source": [
    "df['y'].value_counts(normalize=True).plot(kind='bar',figsize=(15,6))\n",
    "plt.ylabel('normalized count')\n",
    "plt.title('Two classes are imbalance')\n",
    "plt.show()"
   ]
  },
  {
   "cell_type": "markdown",
   "metadata": {},
   "source": [
    "# Data is imbalance"
   ]
  },
  {
   "cell_type": "markdown",
   "metadata": {},
   "source": [
    "Check the column names and details as follow."
   ]
  },
  {
   "cell_type": "code",
   "execution_count": 156,
   "metadata": {},
   "outputs": [
    {
     "name": "stdout",
     "output_type": "stream",
     "text": [
      "<class 'pandas.core.frame.DataFrame'>\n",
      "RangeIndex: 40000 entries, 0 to 39999\n",
      "Columns: 101 entries, y to x100\n",
      "dtypes: float64(86), int64(3), object(12)\n",
      "memory usage: 30.8+ MB\n"
     ]
    }
   ],
   "source": [
    "df.info()"
   ]
  },
  {
   "cell_type": "code",
   "execution_count": 157,
   "metadata": {},
   "outputs": [
    {
     "data": {
      "text/html": [
       "<div>\n",
       "<style scoped>\n",
       "    .dataframe tbody tr th:only-of-type {\n",
       "        vertical-align: middle;\n",
       "    }\n",
       "\n",
       "    .dataframe tbody tr th {\n",
       "        vertical-align: top;\n",
       "    }\n",
       "\n",
       "    .dataframe thead th {\n",
       "        text-align: right;\n",
       "    }\n",
       "</style>\n",
       "<table border=\"1\" class=\"dataframe\">\n",
       "  <thead>\n",
       "    <tr style=\"text-align: right;\">\n",
       "      <th></th>\n",
       "      <th>y</th>\n",
       "      <th>x1</th>\n",
       "      <th>x2</th>\n",
       "      <th>x3</th>\n",
       "      <th>x4</th>\n",
       "      <th>x5</th>\n",
       "      <th>x6</th>\n",
       "      <th>x7</th>\n",
       "      <th>x8</th>\n",
       "      <th>x9</th>\n",
       "      <th>...</th>\n",
       "      <th>x91</th>\n",
       "      <th>x92</th>\n",
       "      <th>x93</th>\n",
       "      <th>x94</th>\n",
       "      <th>x95</th>\n",
       "      <th>x96</th>\n",
       "      <th>x97</th>\n",
       "      <th>x98</th>\n",
       "      <th>x99</th>\n",
       "      <th>x100</th>\n",
       "    </tr>\n",
       "  </thead>\n",
       "  <tbody>\n",
       "    <tr>\n",
       "      <th>0</th>\n",
       "      <td>0</td>\n",
       "      <td>0.165254</td>\n",
       "      <td>18.060003</td>\n",
       "      <td>Wed</td>\n",
       "      <td>1.077380</td>\n",
       "      <td>-1.339233</td>\n",
       "      <td>-1.584341</td>\n",
       "      <td>0.0062%</td>\n",
       "      <td>0.220784</td>\n",
       "      <td>1.816481</td>\n",
       "      <td>...</td>\n",
       "      <td>-0.397427</td>\n",
       "      <td>0.909479</td>\n",
       "      <td>no</td>\n",
       "      <td>5.492487</td>\n",
       "      <td>NaN</td>\n",
       "      <td>10.255579</td>\n",
       "      <td>7.627730</td>\n",
       "      <td>0</td>\n",
       "      <td>yes</td>\n",
       "      <td>104.251338</td>\n",
       "    </tr>\n",
       "    <tr>\n",
       "      <th>1</th>\n",
       "      <td>1</td>\n",
       "      <td>2.441471</td>\n",
       "      <td>18.416307</td>\n",
       "      <td>Friday</td>\n",
       "      <td>1.482586</td>\n",
       "      <td>0.920817</td>\n",
       "      <td>-0.759931</td>\n",
       "      <td>0.0064%</td>\n",
       "      <td>1.192441</td>\n",
       "      <td>3.513950</td>\n",
       "      <td>...</td>\n",
       "      <td>0.656651</td>\n",
       "      <td>9.093466</td>\n",
       "      <td>no</td>\n",
       "      <td>3.346429</td>\n",
       "      <td>4.321172</td>\n",
       "      <td>NaN</td>\n",
       "      <td>10.505284</td>\n",
       "      <td>1</td>\n",
       "      <td>yes</td>\n",
       "      <td>101.230645</td>\n",
       "    </tr>\n",
       "    <tr>\n",
       "      <th>2</th>\n",
       "      <td>1</td>\n",
       "      <td>4.427278</td>\n",
       "      <td>19.188092</td>\n",
       "      <td>Thursday</td>\n",
       "      <td>0.145652</td>\n",
       "      <td>0.366093</td>\n",
       "      <td>0.709962</td>\n",
       "      <td>-8e-04%</td>\n",
       "      <td>0.952323</td>\n",
       "      <td>0.782974</td>\n",
       "      <td>...</td>\n",
       "      <td>2.059615</td>\n",
       "      <td>0.305170</td>\n",
       "      <td>no</td>\n",
       "      <td>4.456565</td>\n",
       "      <td>NaN</td>\n",
       "      <td>8.754572</td>\n",
       "      <td>7.810979</td>\n",
       "      <td>0</td>\n",
       "      <td>yes</td>\n",
       "      <td>109.345215</td>\n",
       "    </tr>\n",
       "    <tr>\n",
       "      <th>3</th>\n",
       "      <td>0</td>\n",
       "      <td>3.925235</td>\n",
       "      <td>19.901257</td>\n",
       "      <td>Tuesday</td>\n",
       "      <td>1.763602</td>\n",
       "      <td>-0.251926</td>\n",
       "      <td>-0.827461</td>\n",
       "      <td>-0.0057%</td>\n",
       "      <td>-0.520756</td>\n",
       "      <td>1.825586</td>\n",
       "      <td>...</td>\n",
       "      <td>0.899392</td>\n",
       "      <td>5.971782</td>\n",
       "      <td>no</td>\n",
       "      <td>4.100022</td>\n",
       "      <td>1.151085</td>\n",
       "      <td>NaN</td>\n",
       "      <td>9.178325</td>\n",
       "      <td>1</td>\n",
       "      <td>yes</td>\n",
       "      <td>103.021970</td>\n",
       "    </tr>\n",
       "    <tr>\n",
       "      <th>4</th>\n",
       "      <td>0</td>\n",
       "      <td>2.868802</td>\n",
       "      <td>22.202473</td>\n",
       "      <td>Sunday</td>\n",
       "      <td>3.405119</td>\n",
       "      <td>0.083162</td>\n",
       "      <td>1.381504</td>\n",
       "      <td>0.0109%</td>\n",
       "      <td>-0.732739</td>\n",
       "      <td>2.151990</td>\n",
       "      <td>...</td>\n",
       "      <td>3.003595</td>\n",
       "      <td>1.046096</td>\n",
       "      <td>yes</td>\n",
       "      <td>3.234033</td>\n",
       "      <td>2.074927</td>\n",
       "      <td>9.987006</td>\n",
       "      <td>11.702664</td>\n",
       "      <td>0</td>\n",
       "      <td>yes</td>\n",
       "      <td>92.925935</td>\n",
       "    </tr>\n",
       "  </tbody>\n",
       "</table>\n",
       "<p>5 rows × 101 columns</p>\n",
       "</div>"
      ],
      "text/plain": [
       "   y        x1         x2        x3        x4        x5        x6        x7  \\\n",
       "0  0  0.165254  18.060003       Wed  1.077380 -1.339233 -1.584341   0.0062%   \n",
       "1  1  2.441471  18.416307    Friday  1.482586  0.920817 -0.759931   0.0064%   \n",
       "2  1  4.427278  19.188092  Thursday  0.145652  0.366093  0.709962   -8e-04%   \n",
       "3  0  3.925235  19.901257   Tuesday  1.763602 -0.251926 -0.827461  -0.0057%   \n",
       "4  0  2.868802  22.202473    Sunday  3.405119  0.083162  1.381504   0.0109%   \n",
       "\n",
       "         x8        x9  ...       x91       x92  x93       x94       x95  \\\n",
       "0  0.220784  1.816481  ... -0.397427  0.909479   no  5.492487       NaN   \n",
       "1  1.192441  3.513950  ...  0.656651  9.093466   no  3.346429  4.321172   \n",
       "2  0.952323  0.782974  ...  2.059615  0.305170   no  4.456565       NaN   \n",
       "3 -0.520756  1.825586  ...  0.899392  5.971782   no  4.100022  1.151085   \n",
       "4 -0.732739  2.151990  ...  3.003595  1.046096  yes  3.234033  2.074927   \n",
       "\n",
       "         x96        x97  x98  x99        x100  \n",
       "0  10.255579   7.627730    0  yes  104.251338  \n",
       "1        NaN  10.505284    1  yes  101.230645  \n",
       "2   8.754572   7.810979    0  yes  109.345215  \n",
       "3        NaN   9.178325    1  yes  103.021970  \n",
       "4   9.987006  11.702664    0  yes   92.925935  \n",
       "\n",
       "[5 rows x 101 columns]"
      ]
     },
     "execution_count": 157,
     "metadata": {},
     "output_type": "execute_result"
    }
   ],
   "source": [
    "df.head()"
   ]
  },
  {
   "cell_type": "markdown",
   "metadata": {},
   "source": [
    "# Check out data for duplicates\n"
   ]
  },
  {
   "cell_type": "code",
   "execution_count": 158,
   "metadata": {},
   "outputs": [
    {
     "name": "stdout",
     "output_type": "stream",
     "text": [
      "False\n"
     ]
    }
   ],
   "source": [
    "# calculate duplicates\n",
    "dups = df.duplicated()\n",
    "# report if there are any duplicates\n",
    "print(dups.any())\n",
    "# # list all duplicate rows\n",
    "# print(df[dups])"
   ]
  },
  {
   "cell_type": "markdown",
   "metadata": {},
   "source": [
    "No duplicates found"
   ]
  },
  {
   "cell_type": "code",
   "execution_count": 159,
   "metadata": {},
   "outputs": [
    {
     "data": {
      "text/plain": [
       "float64    86\n",
       "object     12\n",
       "int64       3\n",
       "dtype: int64"
      ]
     },
     "execution_count": 159,
     "metadata": {},
     "output_type": "execute_result"
    }
   ],
   "source": [
    "df.dtypes.value_counts()"
   ]
  },
  {
   "cell_type": "markdown",
   "metadata": {},
   "source": [
    "there are 3 types of data in the data set"
   ]
  },
  {
   "cell_type": "markdown",
   "metadata": {},
   "source": [
    "# Check out the object columns, number of uniques and number of NaNs"
   ]
  },
  {
   "cell_type": "code",
   "execution_count": 162,
   "metadata": {},
   "outputs": [
    {
     "name": "stdout",
     "output_type": "stream",
     "text": [
      "Index(['x3', 'x7', 'x19', 'x24', 'x31', 'x33', 'x39', 'x60', 'x65', 'x77',\n",
      "       'x93', 'x99'],\n",
      "      dtype='object')\n",
      "====================================================================================================\n",
      "NaNs % in  x24 = 9.64 % \n",
      "Number of uniqs = 2 \n",
      "\n",
      "NaNs % in  x33 = 17.9275 % \n",
      "Number of uniqs = 51 \n",
      "\n",
      "NaNs % in  x77 = 23.1425 % \n",
      "Number of uniqs = 7 \n",
      "\n",
      "NaNs % in  x99 = 32.09 % \n",
      "Number of uniqs = 1 \n",
      "\n",
      "number_of_Obj_cols_with_nan  4\n"
     ]
    }
   ],
   "source": [
    "# columns_obj_dtype = []\n",
    "# for col in df.columns:\n",
    "#     if df[col].dtypes == 'object':\n",
    "#         columns_obj_dtype.append(col)\n",
    "              \n",
    "df_categ = df.select_dtypes(include=['object'])\n",
    "print(df_categ.columns)\n",
    "columns_obj_dtype = df_categ.columns\n",
    "\n",
    "# print('columns_obj_dtype = ', columns_obj_dtype)\n",
    "\n",
    "print(100*'=')\n",
    "\n",
    "\n",
    "number_of_Obj_cols_with_nan = 0\n",
    "columns_obj_dtype_NaN = []\n",
    "\n",
    "\n",
    "for col in columns_obj_dtype:\n",
    "    if df_categ[col].isnull().sum() != 0:\n",
    "        number_of_Obj_cols_with_nan = number_of_Obj_cols_with_nan + 1\n",
    "        \n",
    "        columns_obj_dtype_NaN.append(col)\n",
    "        \n",
    "        print('NaNs % in ', col, '=', (df_categ[col].isnull().sum())*100/(df_categ.shape[0]), '%',\n",
    "              '\\nNumber of uniqs =', df_categ[col].nunique(), '\\n')\n",
    "print('number_of_Obj_cols_with_nan ', number_of_Obj_cols_with_nan)"
   ]
  },
  {
   "cell_type": "markdown",
   "metadata": {},
   "source": [
    "---\n",
    "we do have 4 columns containing NaN with obj dtype.\n",
    "\n",
    "Visualize the columns at the following bar plot."
   ]
  },
  {
   "cell_type": "code",
   "execution_count": 163,
   "metadata": {},
   "outputs": [
    {
     "data": {
      "image/png": "[encoded data removed]",
      "text/plain": [
       "<Figure size 1080x432 with 1 Axes>"
      ]
     },
     "metadata": {
      "image/png": {
       "height": 383,
       "width": 891
      },
      "needs_background": "light"
     },
     "output_type": "display_data"
    }
   ],
   "source": [
    "(df_categ[columns_obj_dtype_NaN].isnull().sum()*100/(df_categ.shape[0])).plot(kind='bar',figsize=(15,6))\n",
    "plt.xlabel('columns (dtype = Obj) with NaN')\n",
    "plt.ylabel('NaN %')\n",
    "plt.ylim(0,100)\n",
    "plt.show()"
   ]
  },
  {
   "cell_type": "code",
   "execution_count": 164,
   "metadata": {},
   "outputs": [
    {
     "data": {
      "text/plain": [
       "x3        14\n",
       "x7       663\n",
       "x19    40000\n",
       "x24        2\n",
       "x31        2\n",
       "x33       51\n",
       "x39        1\n",
       "x60       12\n",
       "x65        5\n",
       "x77        7\n",
       "x93        2\n",
       "x99        1\n",
       "dtype: int64"
      ]
     },
     "execution_count": 164,
     "metadata": {},
     "output_type": "execute_result"
    }
   ],
   "source": [
    "df_categ.nunique()"
   ]
  },
  {
   "cell_type": "markdown",
   "metadata": {},
   "source": [
    "# Checking out categorical columns one by one and make sure about values and types and etc"
   ]
  },
  {
   "cell_type": "markdown",
   "metadata": {},
   "source": [
    "check out the 'x3' column"
   ]
  },
  {
   "cell_type": "code",
   "execution_count": 165,
   "metadata": {},
   "outputs": [
    {
     "data": {
      "text/plain": [
       "array(['Wed', 'Friday', 'Thursday', 'Tuesday', 'Sunday', 'Saturday',\n",
       "       'Sat', 'Wednesday', 'Sun', 'Tue', 'Thur', 'Monday', 'Fri', 'Mon'],\n",
       "      dtype=object)"
      ]
     },
     "execution_count": 165,
     "metadata": {},
     "output_type": "execute_result"
    }
   ],
   "source": [
    "df_categ['x3'].unique()"
   ]
  },
  {
   "cell_type": "code",
   "execution_count": 166,
   "metadata": {},
   "outputs": [],
   "source": [
    "# https://stackoverflow.com/questions/60237488/python-replace-only-exact-word-in-string\n",
    "for i, string in enumerate(df_categ['x3'].values):\n",
    "    df_categ['x3'].values[i] = re.sub(r'\\bTue\\b', 'Tuesday', string)\n",
    "    \n",
    "for i, string in enumerate(df_categ['x3'].values):\n",
    "    df_categ['x3'].values[i] = re.sub(r'\\bSun\\b', 'Sunday', string)\n",
    "    \n",
    "for i, string in enumerate(df_categ['x3'].values):\n",
    "    df_categ['x3'].values[i] = re.sub(r'\\bSat\\b', 'Saturday', string)\n",
    "    \n",
    "for i, string in enumerate(df_categ['x3'].values):\n",
    "    df_categ['x3'].values[i] = re.sub(r'\\bFri\\b', 'Friday', string)\n",
    "    \n",
    "for i, string in enumerate(df_categ['x3'].values):\n",
    "    df_categ['x3'].values[i] = re.sub(r'\\bWed\\b', 'Wednesday', string)\n",
    "    \n",
    "for i, string in enumerate(df_categ['x3'].values):\n",
    "    df_categ['x3'].values[i] = re.sub(r'\\bMon\\b', 'Monday', string)\n",
    "    \n",
    "for i, string in enumerate(df_categ['x3'].values):\n",
    "    df_categ['x3'].values[i] = re.sub(r'\\bThur\\b', 'Thursday', string)\n"
   ]
  },
  {
   "cell_type": "code",
   "execution_count": 167,
   "metadata": {},
   "outputs": [
    {
     "data": {
      "text/plain": [
       "array(['Wednesday', 'Friday', 'Thursday', 'Tuesday', 'Sunday', 'Saturday',\n",
       "       'Monday'], dtype=object)"
      ]
     },
     "execution_count": 167,
     "metadata": {},
     "output_type": "execute_result"
    }
   ],
   "source": [
    "df_categ['x3'].unique()"
   ]
  },
  {
   "cell_type": "markdown",
   "metadata": {},
   "source": [
    "## x3 is nominal categorical feature (needs OneHotEncoder transformer) plus some edits should be done using customized function."
   ]
  },
  {
   "cell_type": "markdown",
   "metadata": {},
   "source": [
    "check out the 'x7' column"
   ]
  },
  {
   "cell_type": "code",
   "execution_count": 168,
   "metadata": {},
   "outputs": [
    {
     "data": {
      "text/plain": [
       "array(['0.0062%', '0.0064%', '-8e-04%', '-0.0057%', '0.0109%', '0.0079%',\n",
       "       '0.0174%', '-0.0106%', '0.0032%', '0.0091%', '-0.0052%',\n",
       "       '-0.0025%', '-0.0045%', '0.0068%', '-0.0137%', '-0.0014%',\n",
       "       '-0.0013%', '0.0066%', '0.0097%', '-0.0086%', '0.0023%',\n",
       "       '-0.0023%', '-0.0107%', '-0.0134%', '0.0058%', '-2e-04%',\n",
       "       '-0.0033%', '-0.0172%', '-0.0026%', '-0.0118%', '0.0105%',\n",
       "       '-0.0055%', '0.0095%', '0.0026%', '-0.0051%', '0.0054%',\n",
       "       '-0.0167%', '0.0015%', '-0.0037%', '0.0011%', '-0.0097%',\n",
       "       '-0.0016%', '-0.0155%', '0.015%', '-0.0032%', '2e-04%', '0.0122%',\n",
       "       '0.0082%', '-0.0054%', '-0.0017%', '0.0013%', '0.0025%',\n",
       "       '-0.0021%', '-0.017%', '-0.005%', '0.0014%', '-0.0103%', '-0.018%',\n",
       "       '-0.0077%', '-0.0115%', '-0.0018%', '6e-04%', '-0.0169%',\n",
       "       '0.0051%', '0.0093%', '-0.0043%', '0.0157%', '-0.0012%', '0.0056%',\n",
       "       '-0.0035%', '0.005%', '0.0073%', '0.0127%', '0.0098%', '-0.0022%',\n",
       "       '-0.0146%', '-0.0168%', '0.001%', '-0.016%', '0.0049%', '0.0034%',\n",
       "       '0.0043%', '0.0017%', '-0.0179%', '0.007%', '-0.003%', '-0.0059%',\n",
       "       '-0.004%', '0.017%', '0.0045%', '0.0052%', '-0.006%', '-0.0159%',\n",
       "       '-0.011%', '0.004%', '0.0149%', '0.0148%', '0.0203%', '-0.0019%',\n",
       "       '0.0061%', '-3e-04%', '-0.0176%', '-0.0102%', '0.0094%',\n",
       "       '-0.0131%', '-0.0027%', '5e-04%', '0.0048%', '-0.0058%',\n",
       "       '-0.0068%', '0.0229%', '0.0087%', '0.0212%', '0.0024%', '0.0019%',\n",
       "       '-0.0063%', '0.0112%', '0.0089%', '0.002%', '0.0262%', '-0.0064%',\n",
       "       '-1e-04%', '0.0154%', '-0.009%', '3e-04%', '0.0193%', '-0.0114%',\n",
       "       '-0.0105%', '-0.0165%', '0.0021%', '0.0039%', '0.0088%', '0.0156%',\n",
       "       '0.0133%', '-0.0073%', '-0.001%', '0.0162%', '0.0136%', '0.0092%',\n",
       "       '-0.0111%', '0.0219%', '0.006%', '0.0171%', '-0.0062%', '0.0146%',\n",
       "       '0.0044%', '-0.012%', '-0.0042%', '0.0113%', '0.009%', '0.0029%',\n",
       "       '-0.0074%', '-0.0121%', '0.0099%', '-0.0083%', '-0.0109%',\n",
       "       '-0.0138%', '-0.0071%', '0.0038%', '-0.022%', '0.018%', '0.0074%',\n",
       "       '1e-04%', '0.0114%', '9e-04%', '0.0028%', '-0.0135%', '-0.0089%',\n",
       "       '0.0167%', '0.0047%', '0.0164%', '0.0216%', '-0.0092%', '0.0081%',\n",
       "       '0.0103%', '-0.0181%', '-0.0195%', '-0.0213%', '0.0072%',\n",
       "       '0.0031%', '0.0111%', '-0.0041%', '-0.007%', '0.0059%', '0.0077%',\n",
       "       '0.0071%', '-0.0153%', '-0.0185%', '0.0053%', '-0.0117%',\n",
       "       '0.0027%', '0.01%', '0.0168%', '-0.0184%', '0.0022%', '0.0192%',\n",
       "       '0.0125%', '-0.0156%', '0.0159%', '-0.014%', '0.0085%', '-0.021%',\n",
       "       '-0.0183%', '-0.0036%', '-0.0149%', '-0.0053%', '0.0132%',\n",
       "       '-0.0145%', '0.0057%', '0.0151%', '0.023%', '0.0158%', '0.0108%',\n",
       "       '-0.0075%', '-0.0125%', '-0.0048%', '-0.0087%', '-0.0015%',\n",
       "       '0.0172%', '0.0115%', '-0.0024%', '-9e-04%', '-0.0108%', '0.0037%',\n",
       "       '0.0102%', '-0.0056%', '-0.002%', '-0.0067%', '0.0207%',\n",
       "       '-0.0157%', '4e-04%', '-0.0112%', '0.0041%', '0.0145%', '-0.0124%',\n",
       "       '-6e-04%', '0.003%', '0.0069%', '0.0065%', '-0.0273%', '-0.0116%',\n",
       "       '0.0124%', '-0.0275%', '-0.0226%', '0.0078%', '-0.0038%',\n",
       "       '0.0138%', '-0.025%', '0.0144%', '-0.0126%', '0.0063%', '0.0067%',\n",
       "       '0.0101%', '0.0033%', '0.0096%', '-0.0093%', '-0.0031%', '7e-04%',\n",
       "       '0.0042%', '-0.0082%', '-0.0029%', '0.0012%', '-0.0204%',\n",
       "       '-0.0046%', '0.0046%', '0.0185%', '-0.0207%', '-0.0151%',\n",
       "       '-0.0127%', '0.0116%', '-0.0163%', '-0.0094%', '-0.0061%',\n",
       "       '-0.0136%', '-0.0044%', '-0.0133%', '-0.0078%', '0%', '0.0215%',\n",
       "       '0.0121%', '-0.0079%', '-0.0095%', '-0.013%', '-7e-04%',\n",
       "       '-0.0143%', '-0.02%', '0.008%', '-0.0202%', '-0.0148%', '0.0161%',\n",
       "       '0.016%', '-0.0081%', '0.0118%', '0.0175%', '-0.0076%', '0.0265%',\n",
       "       '-0.0178%', '0.0226%', '0.0153%', '-0.0122%', '0.0165%', '0.0104%',\n",
       "       '0.0209%', '-0.0099%', '0.0222%', '0.0224%', '0.012%', '0.0036%',\n",
       "       '-0.0113%', '-0.0182%', '-0.0123%', '0.0083%', '0.0152%',\n",
       "       '0.0183%', '-0.0066%', '-0.0161%', '0.0139%', '-0.0098%',\n",
       "       '-0.0241%', '0.0288%', '0.0076%', '0.0086%', '0.011%', '-0.0132%',\n",
       "       '-0.01%', '-0.0144%', '-0.0047%', '-0.0119%', '-0.0034%',\n",
       "       '0.0018%', '-0.0011%', '0.014%', '-0.008%', '-0.0085%', '0.0084%',\n",
       "       '0.0107%', '0.0208%', '0.0142%', '0.0135%', '0.022%', '0.0016%',\n",
       "       '-0.0173%', '0.0055%', '0.0117%', '0.021%', '0.0137%', '-0.0141%',\n",
       "       '-0.0039%', '-0.0177%', '0.0232%', '-0.0292%', '0.0247%',\n",
       "       '0.0176%', '-0.0186%', '0.0035%', '0.0295%', '0.0188%', '0.0199%',\n",
       "       '-0.0262%', '-0.0259%', '-0.0272%', '0.0213%', '-0.0049%',\n",
       "       '-0.0193%', '-0.0028%', '0.0272%', '-0.0069%', '-0.0198%',\n",
       "       '-0.0166%', '0.0264%', '-5e-04%', '0.0301%', '-0.0171%', '0.0106%',\n",
       "       '0.0254%', '0.0195%', '0.0143%', '-0.0152%', '0.0198%', '0.0123%',\n",
       "       '0.0181%', '-0.0129%', '-0.0206%', '0.0266%', '-0.0084%',\n",
       "       '-0.0101%', '-0.0222%', '-0.0154%', '-0.0065%', '0.0267%',\n",
       "       '0.0255%', '0.0119%', '8e-04%', '-4e-04%', '-0.0277%', '0.0169%',\n",
       "       '-0.0091%', '0.0177%', '0.0184%', '-0.0276%', '-0.0235%',\n",
       "       '0.0134%', '0.0128%', '-0.0203%', '-0.0175%', '0.0189%', '0.0242%',\n",
       "       '0.0129%', '-0.0147%', '0.0131%', '0.0141%', '-0.015%', '0.0201%',\n",
       "       '-0.0142%', '0.0179%', '-0.026%', '0.0182%', '0.0335%', '-0.0197%',\n",
       "       '0.0206%', '-0.0139%', '-0.0254%', '0.0187%', '0.029%', '-0.0072%',\n",
       "       '-0.0208%', '0.0166%', '-0.0162%', '0.0231%', '0.0163%',\n",
       "       '-0.0194%', '-0.0221%', '0.0233%', '-0.0244%', '-0.0104%',\n",
       "       '0.0126%', '-0.0164%', '0.032%', '-0.0199%', '-0.0322%', '0.0173%',\n",
       "       '0.0075%', '-0.0265%', '-0.0128%', '-0.0158%', '-0.0249%',\n",
       "       '-0.0201%', '0.0256%', '-0.0188%', '-0.023%', '-0.0238%',\n",
       "       '-0.0214%', '-0.0278%', '0.0191%', '0.02%', '0.0194%', '-0.0228%',\n",
       "       '-0.0245%', '-0.0242%', '-0.0223%', '-0.019%', '0.0269%',\n",
       "       '0.0314%', '-0.0217%', '0.0235%', '0.0196%', '0.0323%', '0.0147%',\n",
       "       '0.0234%', '0.024%', '-0.0196%', '0.0204%', '-0.0192%', '0.026%',\n",
       "       '0.0305%', '-0.0174%', '0.0211%', '-0.0209%', '-0.0224%',\n",
       "       '-0.0281%', '-0.0247%', '-0.0096%', '0.0202%', '0.0227%',\n",
       "       '-0.0236%', '-0.0218%', '-0.0252%', '0.019%', '0.0155%', '0.0221%',\n",
       "       '-0.0215%', '0.0284%', '0.0251%', '-0.0191%', '-0.0219%',\n",
       "       '0.0178%', '0.0241%', '0.0186%', '0.0228%', '-0.0187%', '-0.0233%',\n",
       "       '0.0214%', '-0.0261%', '0.0271%', '-0.0271%', '-0.0269%',\n",
       "       '0.0274%', '0.0252%', '0.0225%', '-0.0257%', '-0.0308%', '0.0331%',\n",
       "       '-0.0234%', '0.0263%', '-0.0088%', '-0.0189%', '-0.0392%',\n",
       "       '-0.0297%', '-0.0211%', '0.0281%', '0.0243%', '0.0258%',\n",
       "       '-0.0264%', '-0.0246%', '0.0197%', '-0.0237%', '-0.0336%',\n",
       "       '0.0237%', '0.0217%', '0.013%', '-0.0314%', '-0.0216%', '0.0238%',\n",
       "       '0.0286%', '-0.0289%', '-0.0263%', '-0.0258%', '-0.0286%',\n",
       "       '-0.031%', '0.0268%', '0.0218%', '-0.0266%', '-0.0319%', '0.027%',\n",
       "       '-0.0205%', '-0.0282%', '-0.0225%', '0.028%', '-0.0255%', '0.025%',\n",
       "       '-0.0239%', '0.0297%', '0.0245%', '0.0244%', '-0.024%', '0.0249%',\n",
       "       '0.0223%', '0.0257%', '0.0296%', '-0.0227%', '0.0303%', '0.0248%',\n",
       "       '-0.0298%', '-0.0248%', '0.0334%', '-0.0327%', '-0.0232%',\n",
       "       '0.0277%', '0.0253%', '0.0246%', '0.0294%', '0.0328%', '-0.0212%',\n",
       "       '0.0239%', '0.0287%', '0.0311%', '0.0321%', '-0.028%', '0.0261%',\n",
       "       '-0.0283%', '0.0346%', '-0.0285%', '0.0359%', '0.0317%', '0.0278%',\n",
       "       '0.0312%', '0.0302%', '-0.0315%', '-0.0229%', '0.0205%', '0.0304%',\n",
       "       '-0.0279%', '0.0356%', '-0.0299%', '0.0298%', '-0.0345%',\n",
       "       '-0.0303%', '0.0339%', '0.0273%', '0.0236%', '0.0315%', '-0.0316%',\n",
       "       '-0.0307%', '-0.0323%', '-0.0253%', '-0.0294%', '-0.0231%',\n",
       "       '-0.0251%', '0.0292%', '-0.0332%', '0.0279%', '-0.0291%',\n",
       "       '0.0306%', '-0.0335%', '0.0283%', '0.0319%', '-0.0378%',\n",
       "       '-0.0267%', '0.0379%', '0.031%', '-0.0438%', '0.0349%', '0.0293%',\n",
       "       '-0.0288%', '-0.0301%', '-0.0268%', '-0.0302%', '0.0299%',\n",
       "       '0.0259%', '0.0337%', '0.0316%', '0.0276%', '-0.0408%', '0.0291%',\n",
       "       '-0.027%', '-0.0312%', '-0.0412%', '-0.0313%', '-0.029%',\n",
       "       '-0.0339%', '-0.0406%', '0.0318%', '-0.0328%', '0.0342%',\n",
       "       '0.0282%', '-0.0405%', '-0.0287%', '-0.0274%', '-0.0296%', '0.03%',\n",
       "       '0.0324%', '0.0344%', '-0.0324%', '0.0289%', '0.0325%', '-0.0243%',\n",
       "       '-0.0338%', '-0.0318%', '-0.0311%', '-0.0256%', '-0.0373%',\n",
       "       '0.0354%', '-0.0293%'], dtype=object)"
      ]
     },
     "execution_count": 168,
     "metadata": {},
     "output_type": "execute_result"
    }
   ],
   "source": [
    "df_categ['x7'].unique()"
   ]
  },
  {
   "cell_type": "markdown",
   "metadata": {},
   "source": [
    "## x7 column: the % sign should be cleaned from strings and I need to change the dtype and introduce it as numeric feature."
   ]
  },
  {
   "cell_type": "code",
   "execution_count": 169,
   "metadata": {},
   "outputs": [
    {
     "name": "stdout",
     "output_type": "stream",
     "text": [
      "object\n"
     ]
    },
    {
     "data": {
      "text/plain": [
       "dtype('float64')"
      ]
     },
     "execution_count": 169,
     "metadata": {},
     "output_type": "execute_result"
    }
   ],
   "source": [
    "df['x7'] = df['x7'].str.replace('%','')\n",
    "print(df['x7'].dtypes)\n",
    "df['x7'] = df['x7'].astype('float64')\n",
    "df['x7'].dtypes\n"
   ]
  },
  {
   "cell_type": "markdown",
   "metadata": {},
   "source": [
    "check out the 'x19' column"
   ]
  },
  {
   "cell_type": "code",
   "execution_count": 170,
   "metadata": {},
   "outputs": [
    {
     "data": {
      "text/plain": [
       "array(['$-908.650758424405', '$-1864.9622875143', '$-543.187402955527',\n",
       "       ..., '$834.95775080472', '$-48.1031003332715', '$96.0017151741518'],\n",
       "      dtype=object)"
      ]
     },
     "execution_count": 170,
     "metadata": {},
     "output_type": "execute_result"
    }
   ],
   "source": [
    "df_categ['x19'].unique()"
   ]
  },
  {
   "cell_type": "markdown",
   "metadata": {},
   "source": [
    "## x19 column: the % sign should be cleaned from strings and I need to change the dtype and introduce it as numeric feature."
   ]
  },
  {
   "cell_type": "code",
   "execution_count": 172,
   "metadata": {},
   "outputs": [
    {
     "data": {
      "text/plain": [
       "dtype('float64')"
      ]
     },
     "execution_count": 172,
     "metadata": {},
     "output_type": "execute_result"
    }
   ],
   "source": [
    "df_categ['x19'] = df_categ['x19'].str.replace('$','')\n",
    "df_categ['x19'].dtypes\n",
    "df_categ['x19'] = df_categ['x19'].astype('float64')\n",
    "df_categ['x19'].dtypes\n",
    "\n"
   ]
  },
  {
   "cell_type": "markdown",
   "metadata": {},
   "source": [
    "check out the 'x24' column"
   ]
  },
  {
   "cell_type": "code",
   "execution_count": 173,
   "metadata": {},
   "outputs": [
    {
     "data": {
      "text/plain": [
       "array(['female', 'male', nan], dtype=object)"
      ]
     },
     "execution_count": 173,
     "metadata": {},
     "output_type": "execute_result"
    }
   ],
   "source": [
    "df_categ['x24'].unique()"
   ]
  },
  {
   "cell_type": "markdown",
   "metadata": {},
   "source": [
    "## x24 column: is nominal category and needs to be transformed using One Hot Encoding"
   ]
  },
  {
   "cell_type": "markdown",
   "metadata": {},
   "source": [
    "check out the x31 column"
   ]
  },
  {
   "cell_type": "code",
   "execution_count": 174,
   "metadata": {},
   "outputs": [
    {
     "data": {
      "text/plain": [
       "array(['no', 'yes'], dtype=object)"
      ]
     },
     "execution_count": 174,
     "metadata": {},
     "output_type": "execute_result"
    }
   ],
   "source": [
    "df_categ['x31'].unique()"
   ]
  },
  {
   "cell_type": "markdown",
   "metadata": {},
   "source": [
    "## x31 column: is nominal category and needs to be transformed using One Hot Encoding"
   ]
  },
  {
   "cell_type": "markdown",
   "metadata": {},
   "source": [
    "check out the x33 column"
   ]
  },
  {
   "cell_type": "code",
   "execution_count": 175,
   "metadata": {},
   "outputs": [
    {
     "data": {
      "text/plain": [
       "array(['Colorado', 'Tennessee', 'Texas', 'Minnesota', 'New York',\n",
       "       'Florida', 'Nebraska', 'California', nan, 'North Dakota',\n",
       "       'Arizona', 'Alabama', 'Ohio', 'Pennsylvania', 'Iowa', 'Indiana',\n",
       "       'Vermont', 'Arkansas', 'Massachusetts', 'Illinois', 'Georgia',\n",
       "       'West Virginia', 'Connecticut', 'Virginia', 'North Carolina',\n",
       "       'Montana', 'New Mexico', 'New Hampshire', 'Michigan', 'DC',\n",
       "       'Washington', 'Louisiana', 'Kentucky', 'Utah', 'Missouri',\n",
       "       'Oregon', 'Oklahoma', 'Nevada', 'Wisconsin', 'New Jersey',\n",
       "       'Maryland', 'Maine', 'Alaska', 'Idaho', 'Wyoming', 'Rhode Island',\n",
       "       'South Dakota', 'Mississippi', 'Kansas', 'Delaware', 'Hawaii',\n",
       "       'South Carolina'], dtype=object)"
      ]
     },
     "execution_count": 175,
     "metadata": {},
     "output_type": "execute_result"
    }
   ],
   "source": [
    "df_categ['x33'].unique()"
   ]
  },
  {
   "cell_type": "code",
   "execution_count": null,
   "metadata": {},
   "outputs": [],
   "source": []
  },
  {
   "cell_type": "markdown",
   "metadata": {},
   "source": [
    "## x33 column: is nominal category and needs to be transformed using One Hot Encoding"
   ]
  },
  {
   "cell_type": "markdown",
   "metadata": {},
   "source": [
    "check out the x39 column"
   ]
  },
  {
   "cell_type": "code",
   "execution_count": 176,
   "metadata": {},
   "outputs": [
    {
     "data": {
      "text/plain": [
       "array(['5-10 miles'], dtype=object)"
      ]
     },
     "execution_count": 176,
     "metadata": {},
     "output_type": "execute_result"
    }
   ],
   "source": [
    "df_categ['x39'].unique()"
   ]
  },
  {
   "cell_type": "markdown",
   "metadata": {},
   "source": [
    "## Drop the column x39"
   ]
  },
  {
   "cell_type": "markdown",
   "metadata": {},
   "source": [
    "check out the x60 column"
   ]
  },
  {
   "cell_type": "code",
   "execution_count": 177,
   "metadata": {},
   "outputs": [
    {
     "data": {
      "text/plain": [
       "array(['August', 'April', 'September', 'January', 'December', 'March',\n",
       "       'July', 'November', 'June', 'February', 'October', 'May'],\n",
       "      dtype=object)"
      ]
     },
     "execution_count": 177,
     "metadata": {},
     "output_type": "execute_result"
    }
   ],
   "source": [
    "df_categ['x60'].unique()"
   ]
  },
  {
   "cell_type": "markdown",
   "metadata": {},
   "source": [
    "## x60 is nominal and OneHotEncoder should be used to transfer this column"
   ]
  },
  {
   "cell_type": "markdown",
   "metadata": {},
   "source": [
    "check out the x65 column"
   ]
  },
  {
   "cell_type": "code",
   "execution_count": 178,
   "metadata": {},
   "outputs": [
    {
     "data": {
      "text/plain": [
       "array(['farmers', 'allstate', 'geico', 'progressive', 'esurance'],\n",
       "      dtype=object)"
      ]
     },
     "execution_count": 178,
     "metadata": {},
     "output_type": "execute_result"
    }
   ],
   "source": [
    "df_categ['x65'].unique()"
   ]
  },
  {
   "cell_type": "markdown",
   "metadata": {},
   "source": [
    "## x65 is nominal and OneHotEncoder should be used to transfer this column"
   ]
  },
  {
   "cell_type": "markdown",
   "metadata": {},
   "source": [
    "check out the x77 column"
   ]
  },
  {
   "cell_type": "code",
   "execution_count": 179,
   "metadata": {},
   "outputs": [
    {
     "data": {
      "text/plain": [
       "array(['mercedes', 'subaru', 'nissan', 'toyota', nan, 'chevrolet',\n",
       "       'buick', 'ford'], dtype=object)"
      ]
     },
     "execution_count": 179,
     "metadata": {},
     "output_type": "execute_result"
    }
   ],
   "source": [
    "df_categ['x77'].unique()"
   ]
  },
  {
   "cell_type": "markdown",
   "metadata": {},
   "source": [
    "## x77 is nominal and OneHotEncoder should be used to transfer this column\n"
   ]
  },
  {
   "cell_type": "markdown",
   "metadata": {},
   "source": [
    "check out the x93 column"
   ]
  },
  {
   "cell_type": "code",
   "execution_count": 180,
   "metadata": {},
   "outputs": [
    {
     "data": {
      "text/plain": [
       "array(['no', 'yes'], dtype=object)"
      ]
     },
     "execution_count": 180,
     "metadata": {},
     "output_type": "execute_result"
    }
   ],
   "source": [
    "df_categ['x93'].unique()"
   ]
  },
  {
   "cell_type": "markdown",
   "metadata": {},
   "source": [
    "## x93 is nominal and OneHotEncoder should be used to transfer this column\n"
   ]
  },
  {
   "cell_type": "markdown",
   "metadata": {},
   "source": [
    "check out the x99 (it has just one value - it is usedful)"
   ]
  },
  {
   "cell_type": "code",
   "execution_count": 181,
   "metadata": {},
   "outputs": [
    {
     "data": {
      "text/plain": [
       "array(['yes', nan], dtype=object)"
      ]
     },
     "execution_count": 181,
     "metadata": {},
     "output_type": "execute_result"
    }
   ],
   "source": [
    "df_categ['x99'].unique()"
   ]
  },
  {
   "cell_type": "markdown",
   "metadata": {},
   "source": [
    "## X99 should be droped - it has just one category. The x24, x33, and x77 columns NaN values needs to be replaced by their mode.\n"
   ]
  },
  {
   "cell_type": "markdown",
   "metadata": {},
   "source": [
    "# Recap#1 for categorical columns"
   ]
  },
  {
   "cell_type": "markdown",
   "metadata": {},
   "source": [
    "* x3 is nominal categorical feature (needs OneHotEncoder transformer) and custom function edit is needed\n",
    "* x7 column: the % sign should be cleaned from strings and I need to change the dtype and introduce it as numeric feature.\n",
    "* x19 column: the % sign should be cleaned from strings and I need to change the dtype and introduce it as numeric feature.\n",
    "* x24 column: is nominal category and needs to be transformed using One Hot Encoding\n",
    "* x31 column: is nominal category and needs to be transformed using One Hot Encoding\n",
    "* x33 column: is nominal category and needs to be transformed using One Hot Encoding\n",
    "* x39 should be droped the column \n",
    "* x60 is nominal and OneHotEncoder should be used to transfer this column\n",
    "* x65 is nominal and OneHotEncoder should be used to transfer this column\n",
    "* x77 is nominal and OneHotEncoder should be used to transfer this column\n",
    "* x93 is nominal and OneHotEncoder should be used to transfer this column\n",
    "* X99 should be droped - it has just one category. \n",
    "* The x24, x33, and x77 columns NaN values needs to be replaced by their mode.\n"
   ]
  },
  {
   "cell_type": "code",
   "execution_count": 39,
   "metadata": {},
   "outputs": [],
   "source": [
    "# OneHotEncoding columns\n",
    "cols_to_be_OneHotEncoded = ['x3','x24','x31','x33',\n",
    "                            'x60','x65','x77','x93']\n",
    "\n",
    "cols_to_be_droped = ['x39','x99']\n",
    "\n",
    "cols_to_be_imputed = ['x24','x33','x77']\n",
    "\n",
    "cols_to_be_edited_custom_fun = ['x3', 'x7','x19']"
   ]
  },
  {
   "cell_type": "code",
   "execution_count": null,
   "metadata": {},
   "outputs": [],
   "source": []
  },
  {
   "cell_type": "code",
   "execution_count": null,
   "metadata": {},
   "outputs": [],
   "source": []
  },
  {
   "cell_type": "code",
   "execution_count": null,
   "metadata": {},
   "outputs": [],
   "source": []
  },
  {
   "cell_type": "code",
   "execution_count": null,
   "metadata": {},
   "outputs": [],
   "source": []
  },
  {
   "cell_type": "code",
   "execution_count": null,
   "metadata": {},
   "outputs": [],
   "source": []
  },
  {
   "cell_type": "code",
   "execution_count": null,
   "metadata": {},
   "outputs": [],
   "source": []
  },
  {
   "cell_type": "code",
   "execution_count": null,
   "metadata": {},
   "outputs": [],
   "source": []
  },
  {
   "cell_type": "code",
   "execution_count": null,
   "metadata": {},
   "outputs": [],
   "source": []
  },
  {
   "cell_type": "code",
   "execution_count": null,
   "metadata": {},
   "outputs": [],
   "source": []
  },
  {
   "cell_type": "code",
   "execution_count": null,
   "metadata": {},
   "outputs": [],
   "source": []
  },
  {
   "cell_type": "markdown",
   "metadata": {},
   "source": [
    "# Dealing with NaNs in numerical columns NaN"
   ]
  },
  {
   "cell_type": "markdown",
   "metadata": {},
   "source": [
    "Check out the numerics columns, number of uniques and number of NaNs"
   ]
  },
  {
   "cell_type": "code",
   "execution_count": 113,
   "metadata": {},
   "outputs": [
    {
     "data": {
      "text/plain": [
       "float64    88\n",
       "object     10\n",
       "int64       3\n",
       "dtype: int64"
      ]
     },
     "execution_count": 113,
     "metadata": {},
     "output_type": "execute_result"
    }
   ],
   "source": [
    "df.dtypes.value_counts()"
   ]
  },
  {
   "cell_type": "code",
   "execution_count": 117,
   "metadata": {},
   "outputs": [],
   "source": [
    "df_numeric = df.select_dtypes(include=['float64', 'int64'])\n",
    "# df_numeric.columns"
   ]
  },
  {
   "cell_type": "code",
   "execution_count": 118,
   "metadata": {},
   "outputs": [
    {
     "name": "stdout",
     "output_type": "stream",
     "text": [
      "columns_numeric_dtype =  Index(['y', 'x1', 'x2', 'x4', 'x5', 'x6', 'x7', 'x8', 'x9', 'x10', 'x11',\n",
      "       'x12', 'x13', 'x14', 'x15', 'x16', 'x17', 'x18', 'x19', 'x20', 'x21',\n",
      "       'x22', 'x23', 'x25', 'x26', 'x27', 'x28', 'x29', 'x30', 'x32', 'x34',\n",
      "       'x35', 'x36', 'x37', 'x38', 'x40', 'x41', 'x42', 'x43', 'x44', 'x45',\n",
      "       'x46', 'x47', 'x48', 'x49', 'x50', 'x51', 'x52', 'x53', 'x54', 'x55',\n",
      "       'x56', 'x57', 'x58', 'x59', 'x61', 'x62', 'x63', 'x64', 'x66', 'x67',\n",
      "       'x68', 'x69', 'x70', 'x71', 'x72', 'x73', 'x74', 'x75', 'x76', 'x78',\n",
      "       'x79', 'x80', 'x81', 'x82', 'x83', 'x84', 'x85', 'x86', 'x87', 'x88',\n",
      "       'x89', 'x90', 'x91', 'x92', 'x94', 'x95', 'x96', 'x97', 'x98', 'x100'],\n",
      "      dtype='object')\n",
      "====================================================================================================\n"
     ]
    }
   ],
   "source": [
    "# columns_numeric_dtype = []\n",
    "# for col in df.columns:\n",
    "#     if df[col].dtypes == 'float64' or df[col].dtypes == 'int64':\n",
    "#         columns_numeric_dtype.append(col)\n",
    "        \n",
    "columns_numeric_dtype = df_numeric.columns\n",
    "print('columns_numeric_dtype = ', columns_numeric_dtype)\n",
    "\n",
    "print(100*'=')"
   ]
  },
  {
   "cell_type": "code",
   "execution_count": 119,
   "metadata": {},
   "outputs": [
    {
     "name": "stdout",
     "output_type": "stream",
     "text": [
      "<class 'pandas.core.frame.DataFrame'>\n",
      "RangeIndex: 40000 entries, 0 to 39999\n",
      "Data columns (total 91 columns):\n",
      " #   Column  Non-Null Count  Dtype  \n",
      "---  ------  --------------  -----  \n",
      " 0   y       40000 non-null  int64  \n",
      " 1   x1      40000 non-null  float64\n",
      " 2   x2      40000 non-null  float64\n",
      " 3   x4      40000 non-null  float64\n",
      " 4   x5      37572 non-null  float64\n",
      " 5   x6      40000 non-null  float64\n",
      " 6   x7      40000 non-null  float64\n",
      " 7   x8      40000 non-null  float64\n",
      " 8   x9      40000 non-null  float64\n",
      " 9   x10     40000 non-null  float64\n",
      " 10  x11     34890 non-null  float64\n",
      " 11  x12     40000 non-null  float64\n",
      " 12  x13     40000 non-null  float64\n",
      " 13  x14     30136 non-null  float64\n",
      " 14  x15     40000 non-null  float64\n",
      " 15  x16     28788 non-null  float64\n",
      " 16  x17     40000 non-null  float64\n",
      " 17  x18     40000 non-null  float64\n",
      " 18  x19     40000 non-null  float64\n",
      " 19  x20     40000 non-null  float64\n",
      " 20  x21     40000 non-null  float64\n",
      " 21  x22     37613 non-null  float64\n",
      " 22  x23     40000 non-null  float64\n",
      " 23  x25     40000 non-null  float64\n",
      " 24  x26     37567 non-null  float64\n",
      " 25  x27     40000 non-null  float64\n",
      " 26  x28     40000 non-null  float64\n",
      " 27  x29     40000 non-null  float64\n",
      " 28  x30     7664 non-null   float64\n",
      " 29  x32     40000 non-null  float64\n",
      " 30  x34     40000 non-null  float64\n",
      " 31  x35     40000 non-null  float64\n",
      " 32  x36     40000 non-null  float64\n",
      " 33  x37     40000 non-null  float64\n",
      " 34  x38     37598 non-null  float64\n",
      " 35  x40     40000 non-null  float64\n",
      " 36  x41     30497 non-null  float64\n",
      " 37  x42     30271 non-null  float64\n",
      " 38  x43     40000 non-null  float64\n",
      " 39  x44     5753 non-null   float64\n",
      " 40  x45     31991 non-null  float64\n",
      " 41  x46     40000 non-null  float64\n",
      " 42  x47     40000 non-null  float64\n",
      " 43  x48     40000 non-null  float64\n",
      " 44  x49     27177 non-null  float64\n",
      " 45  x50     40000 non-null  float64\n",
      " 46  x51     40000 non-null  float64\n",
      " 47  x52     23818 non-null  float64\n",
      " 48  x53     40000 non-null  float64\n",
      " 49  x54     27272 non-null  float64\n",
      " 50  x55     22304 non-null  float64\n",
      " 51  x56     40000 non-null  float64\n",
      " 52  x57     7536 non-null   float64\n",
      " 53  x58     40000 non-null  float64\n",
      " 54  x59     40000 non-null  int64  \n",
      " 55  x61     32707 non-null  float64\n",
      " 56  x62     40000 non-null  float64\n",
      " 57  x63     37580 non-null  float64\n",
      " 58  x64     34899 non-null  float64\n",
      " 59  x66     40000 non-null  float64\n",
      " 60  x67     37575 non-null  float64\n",
      " 61  x68     37616 non-null  float64\n",
      " 62  x69     40000 non-null  float64\n",
      " 63  x70     40000 non-null  float64\n",
      " 64  x71     40000 non-null  float64\n",
      " 65  x72     40000 non-null  float64\n",
      " 66  x73     40000 non-null  float64\n",
      " 67  x74     27084 non-null  float64\n",
      " 68  x75     34755 non-null  float64\n",
      " 69  x76     34751 non-null  float64\n",
      " 70  x78     28627 non-null  float64\n",
      " 71  x79     37570 non-null  float64\n",
      " 72  x80     34744 non-null  float64\n",
      " 73  x81     40000 non-null  float64\n",
      " 74  x82     40000 non-null  float64\n",
      " 75  x83     37572 non-null  float64\n",
      " 76  x84     40000 non-null  float64\n",
      " 77  x85     30285 non-null  float64\n",
      " 78  x86     37593 non-null  float64\n",
      " 79  x87     40000 non-null  float64\n",
      " 80  x88     37669 non-null  float64\n",
      " 81  x89     29309 non-null  float64\n",
      " 82  x90     40000 non-null  float64\n",
      " 83  x91     34741 non-null  float64\n",
      " 84  x92     37565 non-null  float64\n",
      " 85  x94     37660 non-null  float64\n",
      " 86  x95     27396 non-null  float64\n",
      " 87  x96     33362 non-null  float64\n",
      " 88  x97     40000 non-null  float64\n",
      " 89  x98     40000 non-null  int64  \n",
      " 90  x100    40000 non-null  float64\n",
      "dtypes: float64(88), int64(3)\n",
      "memory usage: 27.8 MB\n"
     ]
    }
   ],
   "source": [
    "df[columns_numeric_dtype].info()"
   ]
  },
  {
   "cell_type": "code",
   "execution_count": 42,
   "metadata": {},
   "outputs": [
    {
     "name": "stdout",
     "output_type": "stream",
     "text": [
      "NaNs % in column  x5 = 6.07 %\n",
      "NaNs % in column  x11 = 12.775 %\n",
      "NaNs % in column  x14 = 24.66 %\n",
      "NaNs % in column  x16 = 28.03 %\n",
      "NaNs % in column  x22 = 5.9675 %\n",
      "NaNs % in column  x26 = 6.0825 %\n",
      "NaNs % in column  x30 = 80.84 %\n",
      "NaNs % in column  x38 = 6.005 %\n",
      "NaNs % in column  x41 = 23.7575 %\n",
      "NaNs % in column  x42 = 24.3225 %\n",
      "NaNs % in column  x44 = 85.6175 %\n",
      "NaNs % in column  x45 = 20.0225 %\n",
      "NaNs % in column  x49 = 32.0575 %\n",
      "NaNs % in column  x52 = 40.455 %\n",
      "NaNs % in column  x54 = 31.82 %\n",
      "NaNs % in column  x55 = 44.24 %\n",
      "NaNs % in column  x57 = 81.16 %\n",
      "NaNs % in column  x61 = 18.2325 %\n",
      "NaNs % in column  x63 = 6.05 %\n",
      "NaNs % in column  x64 = 12.7525 %\n",
      "NaNs % in column  x67 = 6.0625 %\n",
      "NaNs % in column  x68 = 5.96 %\n",
      "NaNs % in column  x74 = 32.29 %\n",
      "NaNs % in column  x75 = 13.1125 %\n",
      "NaNs % in column  x76 = 13.1225 %\n",
      "NaNs % in column  x78 = 28.4325 %\n",
      "NaNs % in column  x79 = 6.075 %\n",
      "NaNs % in column  x80 = 13.14 %\n",
      "NaNs % in column  x83 = 6.07 %\n",
      "NaNs % in column  x85 = 24.2875 %\n",
      "NaNs % in column  x86 = 6.0175 %\n",
      "NaNs % in column  x88 = 5.8275 %\n",
      "NaNs % in column  x89 = 26.7275 %\n",
      "NaNs % in column  x91 = 13.1475 %\n",
      "NaNs % in column  x92 = 6.0875 %\n",
      "NaNs % in column  x94 = 5.85 %\n",
      "NaNs % in column  x95 = 31.51 %\n",
      "NaNs % in column  x96 = 16.595 %\n",
      "\n",
      "number_of_numeric_cols_with_nan  38\n"
     ]
    }
   ],
   "source": [
    "# check the object columns uniqueness\n",
    "number_of_numeric_cols_with_nan = 0\n",
    "\n",
    "columns_numeric_dtype_NaN = []\n",
    "for col in columns_numeric_dtype:\n",
    "    if df[col].isnull().sum() != 0:\n",
    "        number_of_numeric_cols_with_nan = number_of_numeric_cols_with_nan+1\n",
    "        columns_numeric_dtype_NaN.append(col)\n",
    "        print('NaNs % in column ', col, '=', \n",
    "              df[col].isnull().sum()*100/(df.shape[0]), '%')#, 'var = ', df[col].var())\n",
    "\n",
    "        # also if there is NaN add the column to cols_to_be_imputed\n",
    "        cols_to_be_imputed.append(col)\n",
    "        \n",
    "        # also if the NaN% is greater than 50% drop it (add the column to drop col list)\n",
    "        if df[col].isnull().sum()*100/(df.shape[0]) > 50:\n",
    "            \n",
    "            cols_to_be_droped.append(col)\n",
    "\n",
    "print('\\nnumber_of_numeric_cols_with_nan ', number_of_numeric_cols_with_nan)"
   ]
  },
  {
   "cell_type": "code",
   "execution_count": 120,
   "metadata": {},
   "outputs": [
    {
     "name": "stdout",
     "output_type": "stream",
     "text": [
      "cols_to_be_droped =  ['x39', 'x99', 'x30', 'x44', 'x57']\n"
     ]
    }
   ],
   "source": [
    "# column to be droped are\n",
    "print('cols_to_be_droped = ', cols_to_be_droped)"
   ]
  },
  {
   "cell_type": "markdown",
   "metadata": {},
   "source": [
    "# Column 'x39', 'x99', 'x30', 'x44', 'x57' have more than 50% nan and should be droped"
   ]
  },
  {
   "cell_type": "code",
   "execution_count": null,
   "metadata": {},
   "outputs": [],
   "source": []
  },
  {
   "cell_type": "markdown",
   "metadata": {},
   "source": [
    "Let's calculate the average number of NaNs in numeric columns containing NaN "
   ]
  },
  {
   "cell_type": "code",
   "execution_count": 121,
   "metadata": {},
   "outputs": [
    {
     "name": "stdout",
     "output_type": "stream",
     "text": [
      "average_percentage_NaN 22.4 %\n"
     ]
    }
   ],
   "source": [
    "average_percentage_NaN = (df[columns_numeric_dtype_NaN].isnull().sum().sum()*100/\\\n",
    "                          (df.shape[0]))/len(columns_numeric_dtype_NaN)\n",
    "average_percentage_NaN = round(average_percentage_NaN,1)\n",
    "print(f'average_percentage_NaN {average_percentage_NaN} %')"
   ]
  },
  {
   "cell_type": "code",
   "execution_count": 122,
   "metadata": {},
   "outputs": [
    {
     "data": {
      "image/png": "[encoded data removed]",
      "text/plain": [
       "<Figure size 1080x432 with 1 Axes>"
      ]
     },
     "metadata": {
      "image/png": {
       "height": 379,
       "width": 884
      },
      "needs_background": "light"
     },
     "output_type": "display_data"
    }
   ],
   "source": [
    "(df[columns_numeric_dtype_NaN].isnull().sum()*100/(df.shape[0])).plot(kind='bar',figsize=(15,6), label='NaN %')\n",
    "\n",
    "\n",
    "plt.hlines(average_percentage_NaN,0,38, \n",
    "           linestyles='--',colors='r', label='Average % of NaN in all numeric columns')\n",
    "\n",
    "plt.xlabel('columns (dtype = numeric) with NaN')\n",
    "plt.ylabel('NaN %')\n",
    "plt.legend()\n",
    "plt.show()"
   ]
  },
  {
   "cell_type": "markdown",
   "metadata": {},
   "source": [
    "so far so good. \n",
    "columns to be droped are:\n",
    "    "
   ]
  },
  {
   "cell_type": "code",
   "execution_count": 45,
   "metadata": {},
   "outputs": [
    {
     "name": "stdout",
     "output_type": "stream",
     "text": [
      "cols_to_be_droped\n",
      " ['x39', 'x99', 'x30', 'x44', 'x57']\n"
     ]
    }
   ],
   "source": [
    "print('cols_to_be_droped\\n', cols_to_be_droped)"
   ]
  },
  {
   "cell_type": "markdown",
   "metadata": {},
   "source": [
    "columns to be imputed are:"
   ]
  },
  {
   "cell_type": "code",
   "execution_count": 46,
   "metadata": {},
   "outputs": [
    {
     "name": "stdout",
     "output_type": "stream",
     "text": [
      "cols_to_be_imputed\n",
      " ['x24', 'x33', 'x77', 'x5', 'x11', 'x14', 'x16', 'x22', 'x26', 'x30', 'x38', 'x41', 'x42', 'x44', 'x45', 'x49', 'x52', 'x54', 'x55', 'x57', 'x61', 'x63', 'x64', 'x67', 'x68', 'x74', 'x75', 'x76', 'x78', 'x79', 'x80', 'x83', 'x85', 'x86', 'x88', 'x89', 'x91', 'x92', 'x94', 'x95', 'x96']\n"
     ]
    }
   ],
   "source": [
    "print('cols_to_be_imputed\\n', cols_to_be_imputed)"
   ]
  },
  {
   "cell_type": "markdown",
   "metadata": {},
   "source": [
    "columns to be OneHotEncoded are:"
   ]
  },
  {
   "cell_type": "code",
   "execution_count": 47,
   "metadata": {},
   "outputs": [
    {
     "name": "stdout",
     "output_type": "stream",
     "text": [
      "cols_to_be_OneHotEncoded\n",
      " ['x3', 'x24', 'x31', 'x33', 'x60', 'x65', 'x77', 'x93']\n"
     ]
    }
   ],
   "source": [
    "print('cols_to_be_OneHotEncoded\\n', cols_to_be_OneHotEncoded)"
   ]
  },
  {
   "cell_type": "markdown",
   "metadata": {},
   "source": [
    "columns to be applied by custom_fun are:"
   ]
  },
  {
   "cell_type": "code",
   "execution_count": 48,
   "metadata": {},
   "outputs": [
    {
     "name": "stdout",
     "output_type": "stream",
     "text": [
      "cols_to_be_edited_custom_fun\n",
      " ['x3', 'x7', 'x19']\n"
     ]
    }
   ],
   "source": [
    "print('cols_to_be_edited_custom_fun\\n', cols_to_be_edited_custom_fun)"
   ]
  },
  {
   "cell_type": "markdown",
   "metadata": {},
   "source": [
    "# Skewness\n",
    "\n",
    "Checking out the numeric features skewness"
   ]
  },
  {
   "cell_type": "code",
   "execution_count": 49,
   "metadata": {},
   "outputs": [
    {
     "data": {
      "text/plain": [
       "y       2.015685\n",
       "x1      0.382880\n",
       "x2      0.010218\n",
       "x4      0.007023\n",
       "x5     -0.005447\n",
       "          ...   \n",
       "x95     0.049023\n",
       "x96     0.632746\n",
       "x97     0.019503\n",
       "x98     0.009400\n",
       "x100   -0.010159\n",
       "Length: 91, dtype: float64"
      ]
     },
     "execution_count": 49,
     "metadata": {},
     "output_type": "execute_result"
    }
   ],
   "source": [
    "df_numerics = df.select_dtypes(include=['float64','int64'])\n",
    "df_numerics.skew()"
   ]
  },
  {
   "cell_type": "markdown",
   "metadata": {},
   "source": [
    "dropping out the target column and checking out the average skewness in numeric features"
   ]
  },
  {
   "cell_type": "code",
   "execution_count": 50,
   "metadata": {},
   "outputs": [],
   "source": [
    "numeric_feature_cols = list(df_numerics.columns)\n",
    "# numeric_cols"
   ]
  },
  {
   "cell_type": "code",
   "execution_count": 51,
   "metadata": {},
   "outputs": [],
   "source": [
    "numeric_feature_cols.remove('y')"
   ]
  },
  {
   "cell_type": "code",
   "execution_count": 52,
   "metadata": {},
   "outputs": [
    {
     "data": {
      "text/plain": [
       "0.4138154260419578"
      ]
     },
     "execution_count": 52,
     "metadata": {},
     "output_type": "execute_result"
    }
   ],
   "source": [
    "df_numerics[numeric_feature_cols].skew().mean()"
   ]
  },
  {
   "cell_type": "code",
   "execution_count": 53,
   "metadata": {},
   "outputs": [
    {
     "data": {
      "text/plain": [
       "1.0319199127060816"
      ]
     },
     "execution_count": 53,
     "metadata": {},
     "output_type": "execute_result"
    }
   ],
   "source": [
    "df_numerics[numeric_feature_cols].skew().std()"
   ]
  },
  {
   "cell_type": "code",
   "execution_count": 54,
   "metadata": {},
   "outputs": [
    {
     "data": {
      "image/png": "[encoded data removed]",
      "text/plain": [
       "<Figure size 1080x360 with 1 Axes>"
      ]
     },
     "metadata": {
      "image/png": {
       "height": 318,
       "width": 884
      },
      "needs_background": "light"
     },
     "output_type": "display_data"
    }
   ],
   "source": [
    "df_numerics[numeric_feature_cols].skew().plot(kind='hist',\n",
    "                                              bins=100,\n",
    "                                              figsize=(15,5))\n",
    "plt.title('Numeric features skewness distribution')\n",
    "plt.show()"
   ]
  },
  {
   "cell_type": "code",
   "execution_count": 55,
   "metadata": {},
   "outputs": [
    {
     "name": "stdout",
     "output_type": "stream",
     "text": [
      "0.38288013485562417\n"
     ]
    },
    {
     "data": {
      "image/png": "[encoded data removed]",
      "text/plain": [
       "<Figure size 432x288 with 1 Axes>"
      ]
     },
     "metadata": {
      "image/png": {
       "height": 248,
       "width": 395
      },
      "needs_background": "light"
     },
     "output_type": "display_data"
    }
   ],
   "source": [
    "df_numerics['x1'].plot(kind='hist', bins=100)\n",
    "print(df_numerics['x1'].skew())"
   ]
  },
  {
   "cell_type": "markdown",
   "metadata": {},
   "source": [
    "filtering out the columns with skewness greater than 1 and less than -1"
   ]
  },
  {
   "cell_type": "code",
   "execution_count": 56,
   "metadata": {},
   "outputs": [
    {
     "name": "stdout",
     "output_type": "stream",
     "text": [
      "['x13', 'x21', 'x32', 'x35', 'x44', 'x59', 'x67', 'x73', 'x75', 'x79', 'x84', 'x89']\n"
     ]
    }
   ],
   "source": [
    "cols_with_high_skewness = []\n",
    "cols_with_high_skewness_WithNoTrg = []\n",
    "for i, col in enumerate(df_numerics.columns):\n",
    "    if df_numerics.skew()[i]>1 or df_numerics.skew()[i]<-1:\n",
    "        cols_with_high_skewness.append(col)\n",
    "        cols_with_high_skewness_WithNoTrg.append(col)\n",
    "cols_with_high_skewness_WithNoTrg.remove('y')\n",
    "print(cols_with_high_skewness_WithNoTrg)"
   ]
  },
  {
   "cell_type": "code",
   "execution_count": 57,
   "metadata": {},
   "outputs": [],
   "source": [
    "# df_numerics\n",
    "# df_numerics[cols_with_high_skewness_WithNoTrg].skew().mean()"
   ]
  },
  {
   "cell_type": "code",
   "execution_count": 58,
   "metadata": {},
   "outputs": [],
   "source": [
    "# cols_with_high_skewness.remove('y')"
   ]
  },
  {
   "cell_type": "code",
   "execution_count": 59,
   "metadata": {},
   "outputs": [
    {
     "data": {
      "image/png": "[encoded data removed]",
      "text/plain": [
       "<Figure size 576x1080 with 12 Axes>"
      ]
     },
     "metadata": {
      "image/png": {
       "height": 846,
       "width": 499
      },
      "needs_background": "light"
     },
     "output_type": "display_data"
    }
   ],
   "source": [
    "df_numerics[cols_with_high_skewness_WithNoTrg].plot(kind=\"hist\",\n",
    "                                                    bins=100, \n",
    "                                                    log=True, subplots=True,\n",
    "                                                    figsize=(8,15),\n",
    "                                                    )\n",
    "\n",
    "plt.show()"
   ]
  },
  {
   "cell_type": "code",
   "execution_count": 60,
   "metadata": {},
   "outputs": [
    {
     "name": "stdout",
     "output_type": "stream",
     "text": [
      "col =  y len is  2\n",
      "col =  x7 len is  663\n",
      "col =  x59 len is  2\n",
      "col =  x79 len is  3\n",
      "col =  x98 len is  2\n"
     ]
    }
   ],
   "source": [
    "for col in df_numerics.columns:\n",
    "    if len(df_numerics[col].unique()) < 1000:\n",
    "        \n",
    "        print('col = ', col, 'len is ', len(df_numerics[col].unique()))"
   ]
  },
  {
   "cell_type": "markdown",
   "metadata": {},
   "source": [
    "# Three features inside the numeric df need to be transformed using One Hot Encoding. These are features with 0-1 values and should be treated like category features.\n",
    "These are 0-1 features and should be treated like category features.\n",
    "\n",
    "columns are x59 and x79 and x98"
   ]
  },
  {
   "cell_type": "code",
   "execution_count": 61,
   "metadata": {},
   "outputs": [
    {
     "name": "stdout",
     "output_type": "stream",
     "text": [
      "2.6732635637856945\n"
     ]
    },
    {
     "data": {
      "image/png": "[encoded data removed]",
      "text/plain": [
       "<Figure size 432x288 with 1 Axes>"
      ]
     },
     "metadata": {
      "image/png": {
       "height": 248,
       "width": 401
      },
      "needs_background": "light"
     },
     "output_type": "display_data"
    }
   ],
   "source": [
    "df_numerics['x59'].plot(kind='hist', bins=100,legend=True)\n",
    "print(df_numerics['x59'].skew())"
   ]
  },
  {
   "cell_type": "code",
   "execution_count": 62,
   "metadata": {},
   "outputs": [
    {
     "data": {
      "text/plain": [
       "0    36014\n",
       "1     3986\n",
       "Name: x59, dtype: int64"
      ]
     },
     "execution_count": 62,
     "metadata": {},
     "output_type": "execute_result"
    }
   ],
   "source": [
    "df['x59'].value_counts()"
   ]
  },
  {
   "cell_type": "code",
   "execution_count": 63,
   "metadata": {},
   "outputs": [
    {
     "name": "stdout",
     "output_type": "stream",
     "text": [
      "-2.6530393476566356\n"
     ]
    },
    {
     "data": {
      "image/png": "[encoded data removed]",
      "text/plain": [
       "<Figure size 432x288 with 1 Axes>"
      ]
     },
     "metadata": {
      "image/png": {
       "height": 249,
       "width": 401
      },
      "needs_background": "light"
     },
     "output_type": "display_data"
    }
   ],
   "source": [
    "df_numerics['x79'].plot(kind='hist', bins=100,legend=True)\n",
    "print(df_numerics['x79'].skew())"
   ]
  },
  {
   "cell_type": "code",
   "execution_count": 64,
   "metadata": {},
   "outputs": [
    {
     "data": {
      "text/plain": [
       "1.0    33785\n",
       "0.0     3785\n",
       "Name: x79, dtype: int64"
      ]
     },
     "execution_count": 64,
     "metadata": {},
     "output_type": "execute_result"
    }
   ],
   "source": [
    "df['x79'].value_counts()"
   ]
  },
  {
   "cell_type": "code",
   "execution_count": 65,
   "metadata": {},
   "outputs": [],
   "source": [
    "# df_numerics.columns"
   ]
  },
  {
   "cell_type": "code",
   "execution_count": 66,
   "metadata": {},
   "outputs": [],
   "source": [
    "# for col in df_numerics.columns:\n",
    "#     if len(df_numerics[col].unique()) < 1000:\n",
    "        \n",
    "#         print('col = ', col, 'len is ', len(df_numerics[col].unique()))"
   ]
  },
  {
   "cell_type": "code",
   "execution_count": 67,
   "metadata": {},
   "outputs": [],
   "source": [
    "# len(df_numerics['x79'].unique())"
   ]
  },
  {
   "cell_type": "code",
   "execution_count": 68,
   "metadata": {},
   "outputs": [
    {
     "name": "stdout",
     "output_type": "stream",
     "text": [
      "0.009400456345505535\n"
     ]
    },
    {
     "data": {
      "image/png": "[encoded data removed]",
      "text/plain": [
       "<Figure size 432x288 with 1 Axes>"
      ]
     },
     "metadata": {
      "image/png": {
       "height": 248,
       "width": 401
      },
      "needs_background": "light"
     },
     "output_type": "display_data"
    }
   ],
   "source": [
    "df_numerics['x98'].plot(kind='hist', bins=100,legend=True)\n",
    "print(df_numerics['x98'].skew())"
   ]
  },
  {
   "cell_type": "code",
   "execution_count": null,
   "metadata": {},
   "outputs": [],
   "source": []
  },
  {
   "cell_type": "code",
   "execution_count": 69,
   "metadata": {},
   "outputs": [],
   "source": [
    "# df_numerics_corr = df_numerics[cols_with_high_skewness].corr()\n",
    "# plt.figure(figsize=(6,6))\n",
    "# sns.heatmap(df_numerics_corr[['y']].sort_values(by=['y'],ascending=False),\n",
    "#             vmin=-1,\n",
    "#             cmap='coolwarm',\n",
    "#             annot=True);"
   ]
  },
  {
   "cell_type": "code",
   "execution_count": null,
   "metadata": {},
   "outputs": [],
   "source": []
  },
  {
   "cell_type": "markdown",
   "metadata": {},
   "source": [
    "# Outliers\n",
    "\n",
    "Checking out the outliers "
   ]
  },
  {
   "cell_type": "code",
   "execution_count": 70,
   "metadata": {},
   "outputs": [
    {
     "data": {
      "text/plain": [
       "float64    88\n",
       "object     10\n",
       "int64       3\n",
       "dtype: int64"
      ]
     },
     "execution_count": 70,
     "metadata": {},
     "output_type": "execute_result"
    }
   ],
   "source": [
    "df.dtypes.value_counts()"
   ]
  },
  {
   "cell_type": "code",
   "execution_count": 71,
   "metadata": {},
   "outputs": [],
   "source": [
    "# df_numerics = df[df.dtypes == 'float64']\n",
    "df_numerics = df.select_dtypes(include=['float64','int64'])"
   ]
  },
  {
   "cell_type": "code",
   "execution_count": 72,
   "metadata": {},
   "outputs": [
    {
     "data": {
      "text/plain": [
       "Index(['y', 'x1', 'x2', 'x4', 'x5', 'x6', 'x7', 'x8', 'x9', 'x10', 'x11',\n",
       "       'x12', 'x13', 'x14', 'x15', 'x16', 'x17', 'x18', 'x19', 'x20', 'x21',\n",
       "       'x22', 'x23', 'x25', 'x26', 'x27', 'x28', 'x29', 'x30', 'x32', 'x34',\n",
       "       'x35', 'x36', 'x37', 'x38', 'x40', 'x41', 'x42', 'x43', 'x44', 'x45',\n",
       "       'x46', 'x47', 'x48', 'x49', 'x50', 'x51', 'x52', 'x53', 'x54', 'x55',\n",
       "       'x56', 'x57', 'x58', 'x59', 'x61', 'x62', 'x63', 'x64', 'x66', 'x67',\n",
       "       'x68', 'x69', 'x70', 'x71', 'x72', 'x73', 'x74', 'x75', 'x76', 'x78',\n",
       "       'x79', 'x80', 'x81', 'x82', 'x83', 'x84', 'x85', 'x86', 'x87', 'x88',\n",
       "       'x89', 'x90', 'x91', 'x92', 'x94', 'x95', 'x96', 'x97', 'x98', 'x100'],\n",
       "      dtype='object')"
      ]
     },
     "execution_count": 72,
     "metadata": {},
     "output_type": "execute_result"
    }
   ],
   "source": [
    "df_numerics.columns"
   ]
  },
  {
   "cell_type": "code",
   "execution_count": 73,
   "metadata": {},
   "outputs": [
    {
     "data": {
      "image/png": "[encoded data removed]",
      "text/plain": [
       "<Figure size 1080x360 with 8 Axes>"
      ]
     },
     "metadata": {
      "image/png": {
       "height": 302,
       "width": 882
      },
      "needs_background": "light"
     },
     "output_type": "display_data"
    }
   ],
   "source": [
    "df_numerics[['x1', 'x2', 'x4', 'x6', 'x7', 'x8', 'x9', 'x10']].plot(kind=\"box\",subplots=True,figsize=(15,5))\n",
    "plt.show()"
   ]
  },
  {
   "cell_type": "code",
   "execution_count": 74,
   "metadata": {},
   "outputs": [],
   "source": [
    "from sklearn.neighbors import LocalOutlierFactor"
   ]
  },
  {
   "cell_type": "code",
   "execution_count": 75,
   "metadata": {},
   "outputs": [
    {
     "name": "stdout",
     "output_type": "stream",
     "text": [
      "before applying LOF (40000, 8)\n"
     ]
    }
   ],
   "source": [
    "df_numerics_sub = df_numerics[['x1', 'x2', 'x4', 'x6', 'x7', 'x8', 'x9', 'x10']]\n",
    "print('before applying LOF', df_numerics_sub.shape)"
   ]
  },
  {
   "cell_type": "code",
   "execution_count": 76,
   "metadata": {},
   "outputs": [],
   "source": [
    "# identify outliers in the df_numerics dataset\n",
    "lof = LocalOutlierFactor(n_neighbors=500)\n",
    "yhat = lof.fit_predict(df_numerics_sub)"
   ]
  },
  {
   "cell_type": "code",
   "execution_count": null,
   "metadata": {},
   "outputs": [],
   "source": []
  },
  {
   "cell_type": "code",
   "execution_count": 77,
   "metadata": {},
   "outputs": [
    {
     "name": "stdout",
     "output_type": "stream",
     "text": [
      "after applying LOF (39784, 8)\n"
     ]
    }
   ],
   "source": [
    "# select all rows that are not outliers\n",
    "mask = yhat != -1\n",
    "df_numerics_no_outlier = df_numerics_sub[mask]\n",
    "print('after applying LOF', df_numerics_no_outlier.shape)\n",
    "# summarize the shape of the updated training dataset\n",
    "# df_numerics_no_outlier.head()"
   ]
  },
  {
   "cell_type": "code",
   "execution_count": 78,
   "metadata": {},
   "outputs": [
    {
     "data": {
      "image/png": "[encoded data removed]",
      "text/plain": [
       "<Figure size 1080x360 with 8 Axes>"
      ]
     },
     "metadata": {
      "image/png": {
       "height": 302,
       "width": 873
      },
      "needs_background": "light"
     },
     "output_type": "display_data"
    }
   ],
   "source": [
    "df_numerics_no_outlier[['x1', 'x2', 'x4', 'x6', \n",
    "                        'x7', 'x8', 'x9', 'x10']].plot(kind=\"box\",\n",
    "                                                       subplots=True,figsize=(15,5))\n",
    "plt.show()"
   ]
  },
  {
   "cell_type": "markdown",
   "metadata": {},
   "source": [
    "Outlier detection using Isolation Forest"
   ]
  },
  {
   "cell_type": "code",
   "execution_count": 79,
   "metadata": {},
   "outputs": [
    {
     "name": "stdout",
     "output_type": "stream",
     "text": [
      "before applying LOF (40000, 8)\n",
      "after applying LOF (20000, 8)\n"
     ]
    },
    {
     "data": {
      "image/png": "[encoded data removed]",
      "text/plain": [
       "<Figure size 1080x360 with 8 Axes>"
      ]
     },
     "metadata": {
      "image/png": {
       "height": 304,
       "width": 864
      },
      "needs_background": "light"
     },
     "output_type": "display_data"
    }
   ],
   "source": [
    "\n",
    "# https://machinelearningmastery.com/model-based-outlier-detection-and-removal-in-python/\n",
    "from sklearn.ensemble import IsolationForest\n",
    "iso = IsolationForest(contamination=0.5)\n",
    "yhat_IsolationForest = iso.fit_predict(df_numerics_sub)\n",
    "\n",
    "# select all rows that are not outliers\n",
    "mask = yhat_IsolationForest != -1\n",
    "df_numerics_no_outlier = df_numerics_sub[mask]\n",
    "print('before applying LOF', df_numerics_sub.shape)\n",
    "print('after applying LOF', df_numerics_no_outlier.shape)\n",
    "\n",
    "df_numerics_no_outlier[['x1', 'x2', 'x4', 'x6', \n",
    "                        'x7', 'x8', 'x9', 'x10']].plot(kind=\"box\",\n",
    "                                                       subplots=True,figsize=(15,5))\n",
    "plt.show()"
   ]
  },
  {
   "cell_type": "markdown",
   "metadata": {},
   "source": [
    "Outlier detection using EllipticEnvelope"
   ]
  },
  {
   "cell_type": "code",
   "execution_count": 80,
   "metadata": {},
   "outputs": [
    {
     "name": "stdout",
     "output_type": "stream",
     "text": [
      "before applying LOF (40000, 8)\n",
      "after applying LOF (39600, 8)\n"
     ]
    },
    {
     "data": {
      "image/png": "[encoded data removed]",
      "text/plain": [
       "<Figure size 1080x360 with 8 Axes>"
      ]
     },
     "metadata": {
      "image/png": {
       "height": 304,
       "width": 873
      },
      "needs_background": "light"
     },
     "output_type": "display_data"
    }
   ],
   "source": [
    "from sklearn.covariance import EllipticEnvelope\n",
    "# identify outliers in the training dataset\n",
    "ee = EllipticEnvelope(contamination=0.01)\n",
    "yhat_EllipticEnvelope = ee.fit_predict(df_numerics_sub)\n",
    "\n",
    "# select all rows that are not outliers\n",
    "mask = yhat_EllipticEnvelope != -1\n",
    "df_numerics_no_outlier = df_numerics_sub[mask]\n",
    "print('before applying LOF', df_numerics_sub.shape)\n",
    "print('after applying LOF', df_numerics_no_outlier.shape)\n",
    "\n",
    "df_numerics_no_outlier[['x1', 'x2', 'x4', 'x6', \n",
    "                        'x7', 'x8', 'x9', 'x10']].plot(kind=\"box\",\n",
    "                                                       subplots=True,figsize=(15,5))\n",
    "plt.show()"
   ]
  },
  {
   "cell_type": "markdown",
   "metadata": {},
   "source": [
    "# I use Isolation Forest for outlier detection"
   ]
  },
  {
   "cell_type": "markdown",
   "metadata": {},
   "source": [
    "Note that the LOF should be applied after imputing the features."
   ]
  },
  {
   "cell_type": "code",
   "execution_count": 81,
   "metadata": {},
   "outputs": [],
   "source": [
    "from sklearn.impute import SimpleImputer\n",
    "from sklearn.linear_model import LogisticRegression\n",
    "from sklearn.pipeline import make_pipeline\n",
    "\n",
    "from sklearn.compose import ColumnTransformer"
   ]
  },
  {
   "cell_type": "code",
   "execution_count": 82,
   "metadata": {},
   "outputs": [
    {
     "data": {
      "text/plain": [
       "Index(['x1', 'x2', 'x4', 'x6', 'x7', 'x8', 'x9', 'x10'], dtype='object')"
      ]
     },
     "execution_count": 82,
     "metadata": {},
     "output_type": "execute_result"
    }
   ],
   "source": [
    "df_numerics_sub.columns"
   ]
  },
  {
   "cell_type": "markdown",
   "metadata": {},
   "source": [
    "# Custom transform\n",
    "\n",
    "I need to use custom function transform\n"
   ]
  },
  {
   "cell_type": "code",
   "execution_count": 83,
   "metadata": {},
   "outputs": [],
   "source": [
    "from sklearn.preprocessing import FunctionTransformer"
   ]
  },
  {
   "cell_type": "code",
   "execution_count": 84,
   "metadata": {},
   "outputs": [
    {
     "data": {
      "text/plain": [
       "array(['Wednesday', 'Friday', 'Thursday', 'Tuesday', 'Sunday', 'Saturday',\n",
       "       'Monday'], dtype=object)"
      ]
     },
     "execution_count": 84,
     "metadata": {},
     "output_type": "execute_result"
    }
   ],
   "source": [
    "df['x3'].unique()"
   ]
  },
  {
   "cell_type": "code",
   "execution_count": 85,
   "metadata": {},
   "outputs": [],
   "source": [
    "# file_path = \"../DataSet/\"\n",
    "# file_name = \"exercise_40_train.csv\"\n",
    "# df = pd.read_csv(file_path+file_name)\n",
    "\n",
    "# X = df[['x3']]\n",
    "# print(X.shape)\n",
    "# print(type(X))\n",
    "\n",
    "# # extract the first letter from each string\n",
    "# def fix_x3_wed(df):\n",
    "    \n",
    "#     return df.apply(lambda x: re.sub(r'\\bWed\\b', 'Wednesday', str(x)))\n",
    "\n",
    "# fix_x3_wed = FunctionTransformer(fix_x3_wed)\n",
    "\n",
    "# ct = make_column_transformer((fix_x3_wed, ['x3']))\n",
    "\n",
    "# ct.fit_transform(X)"
   ]
  },
  {
   "cell_type": "markdown",
   "metadata": {},
   "source": [
    "i get error here! cant make custom transformer! I move on.\n",
    "\n",
    "```\n",
    "ValueError: The output of the 'functiontransformer' transformer should be 2D (scipy matrix, array, or pandas DataFrame).\n",
    "\n",
    "\n",
    "```"
   ]
  },
  {
   "cell_type": "code",
   "execution_count": 86,
   "metadata": {},
   "outputs": [],
   "source": [
    "# for i, string in enumerate(df['x3'].values):\n",
    "#     df['x3'].values[i] = re.sub(r'\\bTue\\b', 'Tuesday', string)\n",
    "    \n",
    "# for i, string in enumerate(df['x3'].values):\n",
    "#     df['x3'].values[i] = re.sub(r'\\bSun\\b', 'Sunday', string)\n",
    "    \n",
    "# for i, string in enumerate(df['x3'].values):\n",
    "#     df['x3'].values[i] = re.sub(r'\\bSat\\b', 'Saturday', string)\n",
    "    \n",
    "# for i, string in enumerate(df['x3'].values):\n",
    "#     df['x3'].values[i] = re.sub(r'\\bFri\\b', 'Friday', string)\n",
    "    \n",
    "# for i, string in enumerate(df['x3'].values):\n",
    "#     df['x3'].values[i] = re.sub(r'\\bWed\\b', 'Wednesday', string)\n",
    "    \n",
    "# for i, string in enumerate(df['x3'].values):\n",
    "#     df['x3'].values[i] = re.sub(r'\\bMon\\b', 'Monday', string)\n",
    "    \n",
    "# for i, string in enumerate(df['x3'].values):\n",
    "#     df['x3'].values[i] = re.sub(r'\\bThur\\b', 'Thursday', string)"
   ]
  },
  {
   "cell_type": "markdown",
   "metadata": {},
   "source": [
    "# Numerical feature selection"
   ]
  },
  {
   "cell_type": "code",
   "execution_count": 88,
   "metadata": {},
   "outputs": [
    {
     "data": {
      "text/plain": [
       "Index(['y', 'x1', 'x2', 'x4', 'x5', 'x6', 'x7', 'x8', 'x9', 'x10', 'x11',\n",
       "       'x12', 'x13', 'x14', 'x15', 'x16', 'x17', 'x18', 'x19', 'x20', 'x21',\n",
       "       'x22', 'x23', 'x25', 'x26', 'x27', 'x28', 'x29', 'x30', 'x32', 'x34',\n",
       "       'x35', 'x36', 'x37', 'x38', 'x40', 'x41', 'x42', 'x43', 'x44', 'x45',\n",
       "       'x46', 'x47', 'x48', 'x49', 'x50', 'x51', 'x52', 'x53', 'x54', 'x55',\n",
       "       'x56', 'x57', 'x58', 'x59', 'x61', 'x62', 'x63', 'x64', 'x66', 'x67',\n",
       "       'x68', 'x69', 'x70', 'x71', 'x72', 'x73', 'x74', 'x75', 'x76', 'x78',\n",
       "       'x79', 'x80', 'x81', 'x82', 'x83', 'x84', 'x85', 'x86', 'x87', 'x88',\n",
       "       'x89', 'x90', 'x91', 'x92', 'x94', 'x95', 'x96', 'x97', 'x98', 'x100'],\n",
       "      dtype='object')"
      ]
     },
     "execution_count": 88,
     "metadata": {},
     "output_type": "execute_result"
    }
   ],
   "source": [
    "df_numerics.columns"
   ]
  },
  {
   "cell_type": "code",
   "execution_count": 89,
   "metadata": {},
   "outputs": [
    {
     "data": {
      "text/html": [
       "<div>\n",
       "<style scoped>\n",
       "    .dataframe tbody tr th:only-of-type {\n",
       "        vertical-align: middle;\n",
       "    }\n",
       "\n",
       "    .dataframe tbody tr th {\n",
       "        vertical-align: top;\n",
       "    }\n",
       "\n",
       "    .dataframe thead th {\n",
       "        text-align: right;\n",
       "    }\n",
       "</style>\n",
       "<table border=\"1\" class=\"dataframe\">\n",
       "  <thead>\n",
       "    <tr style=\"text-align: right;\">\n",
       "      <th></th>\n",
       "      <th>x1</th>\n",
       "      <th>x2</th>\n",
       "      <th>x4</th>\n",
       "      <th>x6</th>\n",
       "      <th>x7</th>\n",
       "      <th>x8</th>\n",
       "      <th>x9</th>\n",
       "      <th>x10</th>\n",
       "    </tr>\n",
       "  </thead>\n",
       "  <tbody>\n",
       "    <tr>\n",
       "      <th>0</th>\n",
       "      <td>0.165254</td>\n",
       "      <td>18.060003</td>\n",
       "      <td>1.077380</td>\n",
       "      <td>-1.584341</td>\n",
       "      <td>0.0062</td>\n",
       "      <td>0.220784</td>\n",
       "      <td>1.816481</td>\n",
       "      <td>1.171788</td>\n",
       "    </tr>\n",
       "    <tr>\n",
       "      <th>1</th>\n",
       "      <td>2.441471</td>\n",
       "      <td>18.416307</td>\n",
       "      <td>1.482586</td>\n",
       "      <td>-0.759931</td>\n",
       "      <td>0.0064</td>\n",
       "      <td>1.192441</td>\n",
       "      <td>3.513950</td>\n",
       "      <td>1.419900</td>\n",
       "    </tr>\n",
       "    <tr>\n",
       "      <th>2</th>\n",
       "      <td>4.427278</td>\n",
       "      <td>19.188092</td>\n",
       "      <td>0.145652</td>\n",
       "      <td>0.709962</td>\n",
       "      <td>-0.0008</td>\n",
       "      <td>0.952323</td>\n",
       "      <td>0.782974</td>\n",
       "      <td>-1.247022</td>\n",
       "    </tr>\n",
       "    <tr>\n",
       "      <th>3</th>\n",
       "      <td>3.925235</td>\n",
       "      <td>19.901257</td>\n",
       "      <td>1.763602</td>\n",
       "      <td>-0.827461</td>\n",
       "      <td>-0.0057</td>\n",
       "      <td>-0.520756</td>\n",
       "      <td>1.825586</td>\n",
       "      <td>2.223038</td>\n",
       "    </tr>\n",
       "    <tr>\n",
       "      <th>4</th>\n",
       "      <td>2.868802</td>\n",
       "      <td>22.202473</td>\n",
       "      <td>3.405119</td>\n",
       "      <td>1.381504</td>\n",
       "      <td>0.0109</td>\n",
       "      <td>-0.732739</td>\n",
       "      <td>2.151990</td>\n",
       "      <td>-0.275406</td>\n",
       "    </tr>\n",
       "  </tbody>\n",
       "</table>\n",
       "</div>"
      ],
      "text/plain": [
       "         x1         x2        x4        x6      x7        x8        x9  \\\n",
       "0  0.165254  18.060003  1.077380 -1.584341  0.0062  0.220784  1.816481   \n",
       "1  2.441471  18.416307  1.482586 -0.759931  0.0064  1.192441  3.513950   \n",
       "2  4.427278  19.188092  0.145652  0.709962 -0.0008  0.952323  0.782974   \n",
       "3  3.925235  19.901257  1.763602 -0.827461 -0.0057 -0.520756  1.825586   \n",
       "4  2.868802  22.202473  3.405119  1.381504  0.0109 -0.732739  2.151990   \n",
       "\n",
       "        x10  \n",
       "0  1.171788  \n",
       "1  1.419900  \n",
       "2 -1.247022  \n",
       "3  2.223038  \n",
       "4 -0.275406  "
      ]
     },
     "execution_count": 89,
     "metadata": {},
     "output_type": "execute_result"
    }
   ],
   "source": [
    "X = df_numerics[['x1', 'x2', 'x4', 'x6', 'x7', 'x8', 'x9', 'x10']]\n",
    "X.head()"
   ]
  },
  {
   "cell_type": "code",
   "execution_count": 92,
   "metadata": {},
   "outputs": [
    {
     "data": {
      "text/plain": [
       "(40000,)"
      ]
     },
     "execution_count": 92,
     "metadata": {},
     "output_type": "execute_result"
    }
   ],
   "source": [
    "y = df['y']\n",
    "y.shape"
   ]
  },
  {
   "cell_type": "code",
   "execution_count": 104,
   "metadata": {},
   "outputs": [],
   "source": [
    "from sklearn.feature_selection import SelectKBest\n",
    "from sklearn.feature_selection import f_classif\n",
    "from sklearn.pipeline import Pipeline\n",
    "from sklearn.model_selection import RepeatedStratifiedKFold\n",
    "from matplotlib import pyplot\n"
   ]
  },
  {
   "cell_type": "code",
   "execution_count": 111,
   "metadata": {},
   "outputs": [
    {
     "name": "stdout",
     "output_type": "stream",
     "text": [
      "mean =  0.6837689399627734 | std = 0.00925713929221736\n",
      "mean =  0.6232660369419872 | std = 0.015080878234000429\n",
      "mean =  0.6166889795048769 | std = 0.014034688277277907\n",
      "mean =  0.5774379133943591 | std = 0.025753320710461904\n",
      "mean =  0.5626027405119483 | std = 0.016892879617143815\n",
      "mean =  0.5842055115144311 | std = 0.021651788593892943\n",
      "mean =  0.5897268838077192 | std = 0.01983765695574182\n",
      "mean =  0.5942019877506088 | std = 0.012972934748374536\n"
     ]
    },
    {
     "data": {
      "image/png": "[encoded data removed]",
      "text/plain": [
       "<Figure size 432x288 with 1 Axes>"
      ]
     },
     "metadata": {
      "image/png": {
       "height": 248,
       "width": 385
      },
      "needs_background": "light"
     },
     "output_type": "display_data"
    }
   ],
   "source": [
    "# evaluate a given model using cross-validation\n",
    "def evaluate_model(model):\n",
    "    cv = RepeatedStratifiedKFold(n_splits=10, n_repeats=3, random_state=1)\n",
    "    scores = cross_val_score(model, X, y, scoring='roc_auc', cv=cv, n_jobs=-1)\n",
    "    return scores\n",
    "\n",
    "\n",
    "\n",
    "# define dataset\n",
    "# X, y = load_dataset('pima-indians-diabetes.csv')\n",
    "# define number of features to evaluate\n",
    "num_features = [i+1 for i in range(X.shape[1])]\n",
    "# enumerate each number of features\n",
    "results = list()\n",
    "for k in num_features:\n",
    "    \n",
    "    weights = weights = {0:0.85, 1:0.14}\n",
    "    \n",
    "    # create pipeline\n",
    "    \n",
    "    model = LogisticRegression(solver='liblinear', class_weight=weights)\n",
    "    fs = SelectKBest(score_func=f_classif, k=k)\n",
    "    pipeline = Pipeline(steps=[('anova',fs), ('lr', model)])\n",
    "    # evaluate the model\n",
    "    scores = evaluate_model(pipeline)\n",
    "    results.append(scores)\n",
    "    \n",
    "    # summarize the results\n",
    "    print('mean = ',scores.mean(), '| std =', scores.std())\n",
    "#     print('>%d %.3f (%.3f)' % (k, mean(scores), std(scores)))\n",
    "# plot model performance for comparison\n",
    "pyplot.boxplot(results, labels=num_features, showmeans=True)\n",
    "pyplot.show()"
   ]
  },
  {
   "cell_type": "code",
   "execution_count": null,
   "metadata": {},
   "outputs": [],
   "source": []
  },
  {
   "cell_type": "code",
   "execution_count": null,
   "metadata": {},
   "outputs": [],
   "source": []
  },
  {
   "cell_type": "code",
   "execution_count": null,
   "metadata": {},
   "outputs": [],
   "source": []
  },
  {
   "cell_type": "code",
   "execution_count": null,
   "metadata": {},
   "outputs": [],
   "source": []
  },
  {
   "cell_type": "code",
   "execution_count": null,
   "metadata": {},
   "outputs": [],
   "source": []
  },
  {
   "cell_type": "code",
   "execution_count": null,
   "metadata": {},
   "outputs": [],
   "source": []
  },
  {
   "cell_type": "code",
   "execution_count": null,
   "metadata": {},
   "outputs": [],
   "source": []
  },
  {
   "cell_type": "code",
   "execution_count": null,
   "metadata": {},
   "outputs": [],
   "source": []
  },
  {
   "cell_type": "markdown",
   "metadata": {},
   "source": [
    "# Categorical feature selection"
   ]
  },
  {
   "cell_type": "code",
   "execution_count": 112,
   "metadata": {},
   "outputs": [
    {
     "data": {
      "text/plain": [
       "float64    88\n",
       "object     10\n",
       "int64       3\n",
       "dtype: int64"
      ]
     },
     "execution_count": 112,
     "metadata": {},
     "output_type": "execute_result"
    }
   ],
   "source": [
    "df.dtypes.value_counts()"
   ]
  },
  {
   "cell_type": "code",
   "execution_count": null,
   "metadata": {},
   "outputs": [],
   "source": [
    "df_catego = df.select_dtypes(include=['object'])\n",
    "print(df_catego.shape)\n",
    "print(df_catego.columns)"
   ]
  },
  {
   "cell_type": "code",
   "execution_count": null,
   "metadata": {},
   "outputs": [],
   "source": [
    "X = df_catego\n",
    "y = df['y']"
   ]
  },
  {
   "cell_type": "code",
   "execution_count": null,
   "metadata": {},
   "outputs": [],
   "source": [
    "y.shape"
   ]
  },
  {
   "cell_type": "markdown",
   "metadata": {},
   "source": [
    "Using column transform and preforming two transformation on one column"
   ]
  },
  {
   "cell_type": "code",
   "execution_count": null,
   "metadata": {},
   "outputs": [],
   "source": [
    "df['y'].value_counts(normalize=True)"
   ]
  },
  {
   "cell_type": "code",
   "execution_count": null,
   "metadata": {},
   "outputs": [],
   "source": [
    "two_transformer_pipe = make_pipeline(SimpleImputer(strategy=\"most_frequent\"), OneHotEncoder())\n",
    "\n",
    "col_transform = ColumnTransformer(transformers=[(\"two_transformer_pipe\", \n",
    "                                                 two_transformer_pipe, \n",
    "                                                 df_catego.columns)])\n"
   ]
  },
  {
   "cell_type": "code",
   "execution_count": null,
   "metadata": {},
   "outputs": [],
   "source": [
    "a = pd.DataFrame(col_transform.fit_transform(X.head()))"
   ]
  },
  {
   "cell_type": "code",
   "execution_count": null,
   "metadata": {},
   "outputs": [],
   "source": [
    "# a.isnull().sum()"
   ]
  },
  {
   "cell_type": "code",
   "execution_count": null,
   "metadata": {},
   "outputs": [],
   "source": [
    "from sklearn.model_selection import RepeatedStratifiedKFold\n",
    "\n",
    "weights = {0:0.85, 1:0.14}\n",
    "\n",
    "model = LogisticRegression(solver='saga', class_weight=weights)\n",
    "# # define evaluation procedure\n",
    "cv = RepeatedStratifiedKFold(n_splits=10, n_repeats=3, random_state=1)\n",
    "# # evaluate model\n",
    "cross_val_score(model, X, y, scoring='roc_auc', cv=cv, n_jobs=-1)\n",
    "\n",
    "# logreg = LogisticRegression(solver='sag',class_weight=weights)\n",
    "# pipe = make_pipeline(col_transform, logreg)\n",
    "# cross_val_score(pipe, X, y, cv=cv, scoring='roc_auc', n_jobs=-1)"
   ]
  },
  {
   "cell_type": "code",
   "execution_count": null,
   "metadata": {},
   "outputs": [],
   "source": []
  },
  {
   "cell_type": "code",
   "execution_count": null,
   "metadata": {},
   "outputs": [],
   "source": []
  },
  {
   "cell_type": "code",
   "execution_count": null,
   "metadata": {},
   "outputs": [],
   "source": []
  },
  {
   "cell_type": "code",
   "execution_count": null,
   "metadata": {},
   "outputs": [],
   "source": []
  },
  {
   "cell_type": "code",
   "execution_count": null,
   "metadata": {},
   "outputs": [],
   "source": []
  },
  {
   "cell_type": "code",
   "execution_count": null,
   "metadata": {},
   "outputs": [],
   "source": [
    "X = df[['x3', 'x24', 'x31', 'x33', 'x60', 'x65', 'x77', 'x93']]\n",
    "\n",
    "y = df['y']\n",
    "\n",
    "x_3_trans_pipe = make_pipeline(SimpleImputer(strategy=\"most_frequent\"), OneHotEncoder())\n",
    "\n",
    "# col_transform = ColumnTransformer(transformers=[(\"x_3_trans_pipe\", \n",
    "#                                                  x_3_trans_pipe,['x3', 'x24', 'x31', \n",
    "#                                                                  'x33', 'x60', 'x65'])])\n",
    "\n",
    "\n",
    "col_transform  = make_column_transformer((x_3_trans_pipe, ['x3', 'x24', 'x31',\n",
    "                                                           'x33', 'x60', 'x65', \n",
    "                                                           'x77', 'x93']))\n",
    "\n",
    "\n",
    "\n",
    "logreg = LogisticRegression(solver='sag')\n",
    "pipe2 = make_pipeline(col_transform, logreg)\n",
    "cross_val_score(pipe2, X, y, cv=5, scoring='roc_auc')"
   ]
  },
  {
   "cell_type": "code",
   "execution_count": null,
   "metadata": {},
   "outputs": [],
   "source": []
  },
  {
   "cell_type": "code",
   "execution_count": null,
   "metadata": {},
   "outputs": [],
   "source": [
    "# col_transform.fit_transform(X)"
   ]
  },
  {
   "cell_type": "code",
   "execution_count": null,
   "metadata": {},
   "outputs": [],
   "source": [
    "X.head(2)"
   ]
  },
  {
   "cell_type": "code",
   "execution_count": null,
   "metadata": {},
   "outputs": [],
   "source": [
    "y.head()"
   ]
  },
  {
   "cell_type": "code",
   "execution_count": null,
   "metadata": {},
   "outputs": [],
   "source": [
    "pipe2.fit(X,y)"
   ]
  },
  {
   "cell_type": "code",
   "execution_count": null,
   "metadata": {},
   "outputs": [],
   "source": [
    "pipe2.predict_proba(X.head(10))"
   ]
  },
  {
   "cell_type": "code",
   "execution_count": null,
   "metadata": {},
   "outputs": [],
   "source": [
    "y.head(10)"
   ]
  },
  {
   "cell_type": "code",
   "execution_count": null,
   "metadata": {},
   "outputs": [],
   "source": []
  },
  {
   "cell_type": "code",
   "execution_count": null,
   "metadata": {},
   "outputs": [],
   "source": []
  },
  {
   "cell_type": "code",
   "execution_count": null,
   "metadata": {},
   "outputs": [],
   "source": []
  },
  {
   "cell_type": "code",
   "execution_count": null,
   "metadata": {},
   "outputs": [],
   "source": []
  },
  {
   "cell_type": "code",
   "execution_count": null,
   "metadata": {},
   "outputs": [],
   "source": []
  },
  {
   "cell_type": "code",
   "execution_count": null,
   "metadata": {},
   "outputs": [],
   "source": []
  },
  {
   "cell_type": "code",
   "execution_count": null,
   "metadata": {},
   "outputs": [],
   "source": []
  },
  {
   "cell_type": "code",
   "execution_count": null,
   "metadata": {},
   "outputs": [],
   "source": []
  },
  {
   "cell_type": "code",
   "execution_count": null,
   "metadata": {},
   "outputs": [],
   "source": []
  },
  {
   "cell_type": "code",
   "execution_count": null,
   "metadata": {},
   "outputs": [],
   "source": []
  },
  {
   "cell_type": "code",
   "execution_count": null,
   "metadata": {},
   "outputs": [],
   "source": []
  },
  {
   "cell_type": "markdown",
   "metadata": {},
   "source": [
    "# Grid search"
   ]
  },
  {
   "cell_type": "code",
   "execution_count": null,
   "metadata": {},
   "outputs": [],
   "source": [
    "# https://machinelearningmastery.com/modeling-pipeline-optimization-with-scikit-learn/"
   ]
  },
  {
   "cell_type": "code",
   "execution_count": null,
   "metadata": {},
   "outputs": [],
   "source": [
    "\n",
    "pipe = Pipeline([\n",
    "('scaler', StandardScaler()),\n",
    "('selector', VarianceThreshold()),\n",
    "('classifier', KNeighborsClassifier())\n",
    "])"
   ]
  },
  {
   "cell_type": "code",
   "execution_count": null,
   "metadata": {},
   "outputs": [],
   "source": [
    "pipe.fit(X_train, y_train)\n",
    "\n",
    "print('Training set score: ' + str(pipe.score(X_train,y_train)))\n",
    "print('Test set score: ' + str(pipe.score(X_test,y_test)))"
   ]
  },
  {
   "cell_type": "code",
   "execution_count": null,
   "metadata": {},
   "outputs": [],
   "source": [
    "\n",
    "parameters = {'scaler': [StandardScaler(), MinMaxScaler(),\n",
    "    Normalizer(), MaxAbsScaler()],\n",
    "    'selector__threshold': [0, 0.001, 0.01],\n",
    "    'classifier__n_neighbors': [1, 3, 5, 7, 10],\n",
    "    'classifier__p': [1, 2],\n",
    "    'classifier__leaf_size': [1, 5, 10, 15]\n",
    "}"
   ]
  },
  {
   "cell_type": "code",
   "execution_count": null,
   "metadata": {},
   "outputs": [],
   "source": [
    "\n",
    "grid = GridSearchCV(pipe, parameters, cv=2).fit(X_train, y_train)\n",
    "print('Training set score: ' + str(grid.score(X_train, y_train)))\n",
    "print('Test set score: ' + str(grid.score(X_test, y_test)))"
   ]
  },
  {
   "cell_type": "code",
   "execution_count": null,
   "metadata": {},
   "outputs": [],
   "source": [
    "\n",
    "# Access the best set of parameters\n",
    "best_params = grid.best_params_\n",
    "print(best_params)\n",
    "# Stores the optimum model in best_pipe\n",
    "best_pipe = grid.best_estimator_\n",
    "print(best_pipe)"
   ]
  },
  {
   "cell_type": "code",
   "execution_count": null,
   "metadata": {},
   "outputs": [],
   "source": []
  },
  {
   "cell_type": "code",
   "execution_count": null,
   "metadata": {},
   "outputs": [],
   "source": []
  },
  {
   "cell_type": "code",
   "execution_count": null,
   "metadata": {},
   "outputs": [],
   "source": []
  },
  {
   "cell_type": "code",
   "execution_count": null,
   "metadata": {},
   "outputs": [],
   "source": []
  },
  {
   "cell_type": "code",
   "execution_count": null,
   "metadata": {},
   "outputs": [],
   "source": []
  },
  {
   "cell_type": "code",
   "execution_count": null,
   "metadata": {},
   "outputs": [],
   "source": []
  },
  {
   "cell_type": "code",
   "execution_count": null,
   "metadata": {},
   "outputs": [],
   "source": []
  },
  {
   "cell_type": "code",
   "execution_count": null,
   "metadata": {},
   "outputs": [],
   "source": []
  },
  {
   "cell_type": "code",
   "execution_count": null,
   "metadata": {},
   "outputs": [],
   "source": []
  }
 ],
 "metadata": {
  "kernelspec": {
   "display_name": "Python 3",
   "language": "python",
   "name": "python3"
  },
  "language_info": {
   "codemirror_mode": {
    "name": "ipython",
    "version": 3
   },
   "file_extension": ".py",
   "mimetype": "text/x-python",
   "name": "python",
   "nbconvert_exporter": "python",
   "pygments_lexer": "ipython3",
   "version": "3.7.0"
  }
 },
 "nbformat": 4,
 "nbformat_minor": 2
}
