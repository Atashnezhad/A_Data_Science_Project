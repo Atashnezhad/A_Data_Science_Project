{
 "cells": [
  {
   "cell_type": "markdown",
   "metadata": {},
   "source": [
    "# P02_3_Modeling\n",
    "\n",
    "Grid search the XGBoost algorithm"
   ]
  },
  {
   "cell_type": "markdown",
   "metadata": {},
   "source": [
    "## import libraries"
   ]
  },
  {
   "cell_type": "code",
   "execution_count": 1,
   "metadata": {},
   "outputs": [],
   "source": [
    "import pandas as pd\n",
    "import numpy as np\n",
    "import regex as re\n",
    "import warnings\n",
    "warnings.filterwarnings('ignore')\n",
    "from nltk.corpus import stopwords \n",
    "from nltk.stem.porter import PorterStemmer\n",
    "from nltk.stem import WordNetLemmatizer\n",
    "import pickle\n",
    "from sklearn.pipeline import make_pipeline, Pipeline\n",
    "\n",
    "import matplotlib.pyplot as plt\n",
    "from sklearn.model_selection import GridSearchCV\n",
    "from sklearn.ensemble import GradientBoostingClassifier\n",
    "import re\n",
    "from tqdm import tqdm\n",
    "from sklearn.metrics import roc_curve\n",
    "import sklearn.metrics as metrics"
   ]
  },
  {
   "cell_type": "code",
   "execution_count": 2,
   "metadata": {},
   "outputs": [],
   "source": [
    "from sklearn.preprocessing import StandardScaler\n",
    "from sklearn.feature_selection import VarianceThreshold\n",
    "from sklearn.neighbors import KNeighborsClassifier\n",
    "from sklearn.preprocessing import Normalizer\n",
    "from sklearn.ensemble import GradientBoostingClassifier\n",
    "from sklearn.model_selection import cross_val_predict\n",
    "from sklearn.model_selection import cross_validate\n",
    "from sklearn.preprocessing import MaxAbsScaler\n",
    "from sklearn.model_selection import GridSearchCV\n",
    "from sklearn.preprocessing import PowerTransformer"
   ]
  },
  {
   "cell_type": "code",
   "execution_count": 3,
   "metadata": {},
   "outputs": [],
   "source": [
    "from sklearn.neighbors import LocalOutlierFactor\n",
    "from sklearn.preprocessing import MinMaxScaler"
   ]
  },
  {
   "cell_type": "code",
   "execution_count": 4,
   "metadata": {},
   "outputs": [],
   "source": [
    "from sklearn.decomposition import PCA\n",
    "from sklearn.model_selection import RepeatedStratifiedKFold"
   ]
  },
  {
   "cell_type": "code",
   "execution_count": 5,
   "metadata": {},
   "outputs": [],
   "source": [
    "from pandas import read_csv\n",
    "from sklearn.model_selection import train_test_split\n",
    "from sklearn.feature_selection import SelectKBest\n",
    "from sklearn.feature_selection import f_classif\n",
    "from matplotlib import pyplot"
   ]
  },
  {
   "cell_type": "code",
   "execution_count": 6,
   "metadata": {},
   "outputs": [],
   "source": [
    "from sklearn.impute import SimpleImputer\n",
    "from sklearn.linear_model import LogisticRegression\n",
    "from sklearn.pipeline import make_pipeline\n",
    "from sklearn.compose import ColumnTransformer"
   ]
  },
  {
   "cell_type": "code",
   "execution_count": 7,
   "metadata": {},
   "outputs": [],
   "source": [
    "from sklearn.covariance import EllipticEnvelope\n",
    "from sklearn.ensemble import IsolationForest\n",
    "from sklearn.preprocessing import FunctionTransformer\n",
    "from sklearn.metrics import plot_confusion_matrix\n",
    "from sklearn.metrics import confusion_matrix"
   ]
  },
  {
   "cell_type": "code",
   "execution_count": 8,
   "metadata": {},
   "outputs": [],
   "source": [
    "from numpy import mean\n",
    "from numpy import std\n",
    "from sklearn.datasets import make_classification\n",
    "from sklearn.model_selection import cross_val_score\n",
    "from sklearn.model_selection import RepeatedStratifiedKFold\n",
    "from sklearn.pipeline import Pipeline\n",
    "from sklearn.decomposition import PCA\n",
    "from sklearn.linear_model import LogisticRegression\n",
    "from matplotlib import pyplot"
   ]
  },
  {
   "cell_type": "code",
   "execution_count": 9,
   "metadata": {},
   "outputs": [],
   "source": [
    "from sklearn.feature_selection import SelectKBest\n",
    "from sklearn.feature_selection import f_classif\n",
    "from sklearn.pipeline import Pipeline\n",
    "from sklearn.model_selection import RepeatedStratifiedKFold\n",
    "from matplotlib import pyplot\n"
   ]
  },
  {
   "cell_type": "code",
   "execution_count": 10,
   "metadata": {},
   "outputs": [],
   "source": [
    "from pandas import read_csv\n",
    "from sklearn.model_selection import train_test_split\n",
    "from sklearn.preprocessing import LabelEncoder\n",
    "from sklearn.preprocessing import OrdinalEncoder\n",
    "from sklearn.feature_selection import SelectKBest\n",
    "from sklearn.feature_selection import mutual_info_classif\n",
    "from matplotlib import pyplot"
   ]
  },
  {
   "cell_type": "code",
   "execution_count": 11,
   "metadata": {},
   "outputs": [],
   "source": [
    "import seaborn as sns\n",
    "from sklearn.model_selection import train_test_split"
   ]
  },
  {
   "cell_type": "code",
   "execution_count": 12,
   "metadata": {},
   "outputs": [],
   "source": [
    "%config InlineBackend.figure_format = 'retina'"
   ]
  },
  {
   "cell_type": "code",
   "execution_count": 13,
   "metadata": {},
   "outputs": [],
   "source": [
    "import warnings\n",
    "warnings.filterwarnings('ignore')"
   ]
  },
  {
   "cell_type": "code",
   "execution_count": 14,
   "metadata": {},
   "outputs": [],
   "source": [
    "import pandas as pd\n",
    "from sklearn.compose import make_column_transformer\n",
    "from sklearn.preprocessing import OneHotEncoder\n",
    "from sklearn.linear_model import LogisticRegression\n",
    "from sklearn.pipeline import make_pipeline\n",
    "from sklearn.model_selection import cross_val_score"
   ]
  },
  {
   "cell_type": "markdown",
   "metadata": {},
   "source": [
    "# Read data set"
   ]
  },
  {
   "cell_type": "code",
   "execution_count": 15,
   "metadata": {},
   "outputs": [],
   "source": [
    "file_path = \"../DataSet/\"\n",
    "file_name = \"exercise_40_train.csv\"\n",
    "df = pd.read_csv(file_path+file_name)"
   ]
  },
  {
   "cell_type": "code",
   "execution_count": 16,
   "metadata": {},
   "outputs": [
    {
     "data": {
      "text/plain": [
       "(40000, 101)"
      ]
     },
     "execution_count": 16,
     "metadata": {},
     "output_type": "execute_result"
    }
   ],
   "source": [
    "df.shape"
   ]
  },
  {
   "cell_type": "code",
   "execution_count": 17,
   "metadata": {},
   "outputs": [
    {
     "data": {
      "text/html": [
       "<div>\n",
       "<style scoped>\n",
       "    .dataframe tbody tr th:only-of-type {\n",
       "        vertical-align: middle;\n",
       "    }\n",
       "\n",
       "    .dataframe tbody tr th {\n",
       "        vertical-align: top;\n",
       "    }\n",
       "\n",
       "    .dataframe thead th {\n",
       "        text-align: right;\n",
       "    }\n",
       "</style>\n",
       "<table border=\"1\" class=\"dataframe\">\n",
       "  <thead>\n",
       "    <tr style=\"text-align: right;\">\n",
       "      <th></th>\n",
       "      <th>y</th>\n",
       "      <th>x1</th>\n",
       "      <th>x2</th>\n",
       "      <th>x3</th>\n",
       "      <th>x4</th>\n",
       "      <th>x5</th>\n",
       "      <th>x6</th>\n",
       "      <th>x7</th>\n",
       "      <th>x8</th>\n",
       "      <th>x9</th>\n",
       "      <th>...</th>\n",
       "      <th>x91</th>\n",
       "      <th>x92</th>\n",
       "      <th>x93</th>\n",
       "      <th>x94</th>\n",
       "      <th>x95</th>\n",
       "      <th>x96</th>\n",
       "      <th>x97</th>\n",
       "      <th>x98</th>\n",
       "      <th>x99</th>\n",
       "      <th>x100</th>\n",
       "    </tr>\n",
       "  </thead>\n",
       "  <tbody>\n",
       "    <tr>\n",
       "      <th>0</th>\n",
       "      <td>0</td>\n",
       "      <td>0.165254</td>\n",
       "      <td>18.060003</td>\n",
       "      <td>Wed</td>\n",
       "      <td>1.077380</td>\n",
       "      <td>-1.339233</td>\n",
       "      <td>-1.584341</td>\n",
       "      <td>0.0062%</td>\n",
       "      <td>0.220784</td>\n",
       "      <td>1.816481</td>\n",
       "      <td>...</td>\n",
       "      <td>-0.397427</td>\n",
       "      <td>0.909479</td>\n",
       "      <td>no</td>\n",
       "      <td>5.492487</td>\n",
       "      <td>NaN</td>\n",
       "      <td>10.255579</td>\n",
       "      <td>7.627730</td>\n",
       "      <td>0</td>\n",
       "      <td>yes</td>\n",
       "      <td>104.251338</td>\n",
       "    </tr>\n",
       "    <tr>\n",
       "      <th>1</th>\n",
       "      <td>1</td>\n",
       "      <td>2.441471</td>\n",
       "      <td>18.416307</td>\n",
       "      <td>Friday</td>\n",
       "      <td>1.482586</td>\n",
       "      <td>0.920817</td>\n",
       "      <td>-0.759931</td>\n",
       "      <td>0.0064%</td>\n",
       "      <td>1.192441</td>\n",
       "      <td>3.513950</td>\n",
       "      <td>...</td>\n",
       "      <td>0.656651</td>\n",
       "      <td>9.093466</td>\n",
       "      <td>no</td>\n",
       "      <td>3.346429</td>\n",
       "      <td>4.321172</td>\n",
       "      <td>NaN</td>\n",
       "      <td>10.505284</td>\n",
       "      <td>1</td>\n",
       "      <td>yes</td>\n",
       "      <td>101.230645</td>\n",
       "    </tr>\n",
       "    <tr>\n",
       "      <th>2</th>\n",
       "      <td>1</td>\n",
       "      <td>4.427278</td>\n",
       "      <td>19.188092</td>\n",
       "      <td>Thursday</td>\n",
       "      <td>0.145652</td>\n",
       "      <td>0.366093</td>\n",
       "      <td>0.709962</td>\n",
       "      <td>-8e-04%</td>\n",
       "      <td>0.952323</td>\n",
       "      <td>0.782974</td>\n",
       "      <td>...</td>\n",
       "      <td>2.059615</td>\n",
       "      <td>0.305170</td>\n",
       "      <td>no</td>\n",
       "      <td>4.456565</td>\n",
       "      <td>NaN</td>\n",
       "      <td>8.754572</td>\n",
       "      <td>7.810979</td>\n",
       "      <td>0</td>\n",
       "      <td>yes</td>\n",
       "      <td>109.345215</td>\n",
       "    </tr>\n",
       "    <tr>\n",
       "      <th>3</th>\n",
       "      <td>0</td>\n",
       "      <td>3.925235</td>\n",
       "      <td>19.901257</td>\n",
       "      <td>Tuesday</td>\n",
       "      <td>1.763602</td>\n",
       "      <td>-0.251926</td>\n",
       "      <td>-0.827461</td>\n",
       "      <td>-0.0057%</td>\n",
       "      <td>-0.520756</td>\n",
       "      <td>1.825586</td>\n",
       "      <td>...</td>\n",
       "      <td>0.899392</td>\n",
       "      <td>5.971782</td>\n",
       "      <td>no</td>\n",
       "      <td>4.100022</td>\n",
       "      <td>1.151085</td>\n",
       "      <td>NaN</td>\n",
       "      <td>9.178325</td>\n",
       "      <td>1</td>\n",
       "      <td>yes</td>\n",
       "      <td>103.021970</td>\n",
       "    </tr>\n",
       "    <tr>\n",
       "      <th>4</th>\n",
       "      <td>0</td>\n",
       "      <td>2.868802</td>\n",
       "      <td>22.202473</td>\n",
       "      <td>Sunday</td>\n",
       "      <td>3.405119</td>\n",
       "      <td>0.083162</td>\n",
       "      <td>1.381504</td>\n",
       "      <td>0.0109%</td>\n",
       "      <td>-0.732739</td>\n",
       "      <td>2.151990</td>\n",
       "      <td>...</td>\n",
       "      <td>3.003595</td>\n",
       "      <td>1.046096</td>\n",
       "      <td>yes</td>\n",
       "      <td>3.234033</td>\n",
       "      <td>2.074927</td>\n",
       "      <td>9.987006</td>\n",
       "      <td>11.702664</td>\n",
       "      <td>0</td>\n",
       "      <td>yes</td>\n",
       "      <td>92.925935</td>\n",
       "    </tr>\n",
       "  </tbody>\n",
       "</table>\n",
       "<p>5 rows × 101 columns</p>\n",
       "</div>"
      ],
      "text/plain": [
       "   y        x1         x2        x3        x4        x5        x6        x7  \\\n",
       "0  0  0.165254  18.060003       Wed  1.077380 -1.339233 -1.584341   0.0062%   \n",
       "1  1  2.441471  18.416307    Friday  1.482586  0.920817 -0.759931   0.0064%   \n",
       "2  1  4.427278  19.188092  Thursday  0.145652  0.366093  0.709962   -8e-04%   \n",
       "3  0  3.925235  19.901257   Tuesday  1.763602 -0.251926 -0.827461  -0.0057%   \n",
       "4  0  2.868802  22.202473    Sunday  3.405119  0.083162  1.381504   0.0109%   \n",
       "\n",
       "         x8        x9  ...       x91       x92  x93       x94       x95  \\\n",
       "0  0.220784  1.816481  ... -0.397427  0.909479   no  5.492487       NaN   \n",
       "1  1.192441  3.513950  ...  0.656651  9.093466   no  3.346429  4.321172   \n",
       "2  0.952323  0.782974  ...  2.059615  0.305170   no  4.456565       NaN   \n",
       "3 -0.520756  1.825586  ...  0.899392  5.971782   no  4.100022  1.151085   \n",
       "4 -0.732739  2.151990  ...  3.003595  1.046096  yes  3.234033  2.074927   \n",
       "\n",
       "         x96        x97  x98  x99        x100  \n",
       "0  10.255579   7.627730    0  yes  104.251338  \n",
       "1        NaN  10.505284    1  yes  101.230645  \n",
       "2   8.754572   7.810979    0  yes  109.345215  \n",
       "3        NaN   9.178325    1  yes  103.021970  \n",
       "4   9.987006  11.702664    0  yes   92.925935  \n",
       "\n",
       "[5 rows x 101 columns]"
      ]
     },
     "execution_count": 17,
     "metadata": {},
     "output_type": "execute_result"
    }
   ],
   "source": [
    "df.head()"
   ]
  },
  {
   "cell_type": "markdown",
   "metadata": {},
   "source": [
    "select the numeric features"
   ]
  },
  {
   "cell_type": "code",
   "execution_count": 18,
   "metadata": {},
   "outputs": [],
   "source": [
    "df_numeric_features = df.drop(['y'],axis=1)"
   ]
  },
  {
   "cell_type": "code",
   "execution_count": 19,
   "metadata": {},
   "outputs": [
    {
     "data": {
      "text/plain": [
       "float64    86\n",
       "object     12\n",
       "int64       3\n",
       "dtype: int64"
      ]
     },
     "execution_count": 19,
     "metadata": {},
     "output_type": "execute_result"
    }
   ],
   "source": [
    "df.dtypes.value_counts()"
   ]
  },
  {
   "cell_type": "code",
   "execution_count": 20,
   "metadata": {},
   "outputs": [],
   "source": [
    "df_numeric_features = df.select_dtypes(include=['float64', 'int64'])\n",
    "df_numeric_features = df_numeric_features.drop(['y'],axis=1)"
   ]
  },
  {
   "cell_type": "code",
   "execution_count": 21,
   "metadata": {},
   "outputs": [
    {
     "data": {
      "text/html": [
       "<div>\n",
       "<style scoped>\n",
       "    .dataframe tbody tr th:only-of-type {\n",
       "        vertical-align: middle;\n",
       "    }\n",
       "\n",
       "    .dataframe tbody tr th {\n",
       "        vertical-align: top;\n",
       "    }\n",
       "\n",
       "    .dataframe thead th {\n",
       "        text-align: right;\n",
       "    }\n",
       "</style>\n",
       "<table border=\"1\" class=\"dataframe\">\n",
       "  <thead>\n",
       "    <tr style=\"text-align: right;\">\n",
       "      <th></th>\n",
       "      <th>x3</th>\n",
       "      <th>x7</th>\n",
       "      <th>x19</th>\n",
       "      <th>x24</th>\n",
       "      <th>x31</th>\n",
       "      <th>x33</th>\n",
       "      <th>x39</th>\n",
       "      <th>x60</th>\n",
       "      <th>x65</th>\n",
       "      <th>x77</th>\n",
       "      <th>x93</th>\n",
       "      <th>x99</th>\n",
       "    </tr>\n",
       "  </thead>\n",
       "  <tbody>\n",
       "    <tr>\n",
       "      <th>0</th>\n",
       "      <td>Wed</td>\n",
       "      <td>0.0062%</td>\n",
       "      <td>$-908.650758424405</td>\n",
       "      <td>female</td>\n",
       "      <td>no</td>\n",
       "      <td>Colorado</td>\n",
       "      <td>5-10 miles</td>\n",
       "      <td>August</td>\n",
       "      <td>farmers</td>\n",
       "      <td>mercedes</td>\n",
       "      <td>no</td>\n",
       "      <td>yes</td>\n",
       "    </tr>\n",
       "    <tr>\n",
       "      <th>1</th>\n",
       "      <td>Friday</td>\n",
       "      <td>0.0064%</td>\n",
       "      <td>$-1864.9622875143</td>\n",
       "      <td>male</td>\n",
       "      <td>no</td>\n",
       "      <td>Tennessee</td>\n",
       "      <td>5-10 miles</td>\n",
       "      <td>April</td>\n",
       "      <td>allstate</td>\n",
       "      <td>mercedes</td>\n",
       "      <td>no</td>\n",
       "      <td>yes</td>\n",
       "    </tr>\n",
       "    <tr>\n",
       "      <th>2</th>\n",
       "      <td>Thursday</td>\n",
       "      <td>-8e-04%</td>\n",
       "      <td>$-543.187402955527</td>\n",
       "      <td>male</td>\n",
       "      <td>no</td>\n",
       "      <td>Texas</td>\n",
       "      <td>5-10 miles</td>\n",
       "      <td>September</td>\n",
       "      <td>geico</td>\n",
       "      <td>subaru</td>\n",
       "      <td>no</td>\n",
       "      <td>yes</td>\n",
       "    </tr>\n",
       "    <tr>\n",
       "      <th>3</th>\n",
       "      <td>Tuesday</td>\n",
       "      <td>-0.0057%</td>\n",
       "      <td>$-182.626380634258</td>\n",
       "      <td>male</td>\n",
       "      <td>no</td>\n",
       "      <td>Minnesota</td>\n",
       "      <td>5-10 miles</td>\n",
       "      <td>September</td>\n",
       "      <td>geico</td>\n",
       "      <td>nissan</td>\n",
       "      <td>no</td>\n",
       "      <td>yes</td>\n",
       "    </tr>\n",
       "    <tr>\n",
       "      <th>4</th>\n",
       "      <td>Sunday</td>\n",
       "      <td>0.0109%</td>\n",
       "      <td>$967.007090837503</td>\n",
       "      <td>male</td>\n",
       "      <td>yes</td>\n",
       "      <td>New York</td>\n",
       "      <td>5-10 miles</td>\n",
       "      <td>January</td>\n",
       "      <td>geico</td>\n",
       "      <td>toyota</td>\n",
       "      <td>yes</td>\n",
       "      <td>yes</td>\n",
       "    </tr>\n",
       "  </tbody>\n",
       "</table>\n",
       "</div>"
      ],
      "text/plain": [
       "         x3        x7                 x19     x24  x31        x33         x39  \\\n",
       "0       Wed   0.0062%  $-908.650758424405  female   no   Colorado  5-10 miles   \n",
       "1    Friday   0.0064%   $-1864.9622875143    male   no  Tennessee  5-10 miles   \n",
       "2  Thursday   -8e-04%  $-543.187402955527    male   no      Texas  5-10 miles   \n",
       "3   Tuesday  -0.0057%  $-182.626380634258    male   no  Minnesota  5-10 miles   \n",
       "4    Sunday   0.0109%   $967.007090837503    male  yes   New York  5-10 miles   \n",
       "\n",
       "         x60       x65       x77  x93  x99  \n",
       "0     August   farmers  mercedes   no  yes  \n",
       "1      April  allstate  mercedes   no  yes  \n",
       "2  September     geico    subaru   no  yes  \n",
       "3  September     geico    nissan   no  yes  \n",
       "4    January     geico    toyota  yes  yes  "
      ]
     },
     "execution_count": 21,
     "metadata": {},
     "output_type": "execute_result"
    }
   ],
   "source": [
    "df_cat_features = df.select_dtypes(include=['object'])\n",
    "df_cat_features.head()"
   ]
  },
  {
   "cell_type": "markdown",
   "metadata": {},
   "source": [
    "# Make custom transformation for categorical features"
   ]
  },
  {
   "cell_type": "code",
   "execution_count": 22,
   "metadata": {},
   "outputs": [],
   "source": [
    "def custom_edit_x3(df_categ):\n",
    "    \n",
    "    # https://stackoverflow.com/questions/60237488/python-replace-only-exact-word-in-string\n",
    "    for i, string in enumerate(df_categ['x3'].values):\n",
    "        df_categ['x3'].values[i] = re.sub(r'\\bTue\\b', 'Tuesday', string)\n",
    "\n",
    "    for i, string in enumerate(df_categ['x3'].values):\n",
    "        df_categ['x3'].values[i] = re.sub(r'\\bSun\\b', 'Sunday', string)\n",
    "\n",
    "    for i, string in enumerate(df_categ['x3'].values):\n",
    "        df_categ['x3'].values[i] = re.sub(r'\\bSat\\b', 'Saturday', string)\n",
    "\n",
    "    for i, string in enumerate(df_categ['x3'].values):\n",
    "        df_categ['x3'].values[i] = re.sub(r'\\bFri\\b', 'Friday', string)\n",
    "\n",
    "    for i, string in enumerate(df_categ['x3'].values):\n",
    "        df_categ['x3'].values[i] = re.sub(r'\\bWed\\b', 'Wednesday', string)\n",
    "\n",
    "    for i, string in enumerate(df_categ['x3'].values):\n",
    "        df_categ['x3'].values[i] = re.sub(r'\\bMon\\b', 'Monday', string)\n",
    "\n",
    "    for i, string in enumerate(df_categ['x3'].values):\n",
    "        df_categ['x3'].values[i] = re.sub(r'\\bThur\\b', 'Thursday', string)\n",
    "    return df_categ\n",
    "    \n",
    "    return df_categ"
   ]
  },
  {
   "cell_type": "markdown",
   "metadata": {},
   "source": [
    "make a column transformer fucntion and make sure it works"
   ]
  },
  {
   "cell_type": "code",
   "execution_count": 23,
   "metadata": {},
   "outputs": [],
   "source": [
    "custom_edit_x3_tf = FunctionTransformer(custom_edit_x3)\n",
    "ct = make_column_transformer((custom_edit_x3_tf, ['x3']))"
   ]
  },
  {
   "cell_type": "markdown",
   "metadata": {},
   "source": [
    "make a pipe line and check out the customized transformer"
   ]
  },
  {
   "cell_type": "code",
   "execution_count": 24,
   "metadata": {},
   "outputs": [
    {
     "data": {
      "text/plain": [
       "7"
      ]
     },
     "execution_count": 24,
     "metadata": {},
     "output_type": "execute_result"
    }
   ],
   "source": [
    "x3_pipe = make_pipeline(custom_edit_x3_tf, SimpleImputer(strategy=\"most_frequent\"), OneHotEncoder())\n",
    "ct = make_column_transformer((x3_pipe, ['x3']))\n",
    "ct.fit_transform(df).toarray()[0].size"
   ]
  },
  {
   "cell_type": "markdown",
   "metadata": {},
   "source": [
    "write customized transformer for x7 and x19 features"
   ]
  },
  {
   "cell_type": "code",
   "execution_count": 25,
   "metadata": {},
   "outputs": [],
   "source": [
    "def custom_edit_x7(df):\n",
    "    df = df.apply(lambda x: (x.str.replace('%','')))\n",
    "\n",
    "    return (np.float_(df))\n",
    "\n",
    "custom_edit_x7_tf = FunctionTransformer(custom_edit_x7)\n",
    "ct = make_column_transformer((custom_edit_x7_tf, ['x7']))\n",
    "x7 = ct.fit_transform(df)"
   ]
  },
  {
   "cell_type": "code",
   "execution_count": 26,
   "metadata": {},
   "outputs": [],
   "source": [
    "def custom_edit_x19(df):\n",
    "    df = df.apply(lambda x: (x.str.replace('$','')))\n",
    "\n",
    "    return (np.float_(df))\n",
    "\n",
    "custom_edit_x19_tf = FunctionTransformer(custom_edit_x19)\n",
    "ct = make_column_transformer((custom_edit_x19_tf, ['x19']))\n",
    "x19 = ct.fit_transform(df)"
   ]
  },
  {
   "cell_type": "markdown",
   "metadata": {},
   "source": [
    "check out the customized transformers using pipeline"
   ]
  },
  {
   "cell_type": "code",
   "execution_count": 27,
   "metadata": {},
   "outputs": [],
   "source": [
    "two_step_transformer_pipe = make_pipeline(SimpleImputer(strategy=\"most_frequent\"), \n",
    "                                                     OneHotEncoder())"
   ]
  },
  {
   "cell_type": "code",
   "execution_count": 28,
   "metadata": {},
   "outputs": [
    {
     "data": {
      "text/plain": [
       "81"
      ]
     },
     "execution_count": 28,
     "metadata": {},
     "output_type": "execute_result"
    }
   ],
   "source": [
    "two_step_transformer_pipe.fit_transform(df[['x24','x31','x33','x60','x65','x77','x93']]).toarray()[0].size"
   ]
  },
  {
   "cell_type": "markdown",
   "metadata": {},
   "source": [
    "check out the last two pipelines in column transformer"
   ]
  },
  {
   "cell_type": "code",
   "execution_count": 29,
   "metadata": {},
   "outputs": [],
   "source": [
    "ct = make_column_transformer((x3_pipe, ['x3']),\n",
    "                             (two_step_transformer_pipe, ['x24','x31','x33','x60','x65','x77','x93']),\n",
    "                            )"
   ]
  },
  {
   "cell_type": "code",
   "execution_count": 30,
   "metadata": {},
   "outputs": [
    {
     "data": {
      "text/plain": [
       "88"
      ]
     },
     "execution_count": 30,
     "metadata": {},
     "output_type": "execute_result"
    }
   ],
   "source": [
    "ct.fit_transform(df).toarray()[0].size"
   ]
  },
  {
   "cell_type": "markdown",
   "metadata": {},
   "source": [
    "make a pipeline for three features inclduing x59, x79, and x98. these are numeric features with 0-1 values. Apply one hot encder."
   ]
  },
  {
   "cell_type": "code",
   "execution_count": 31,
   "metadata": {},
   "outputs": [
    {
     "data": {
      "text/plain": [
       "2"
      ]
     },
     "execution_count": 31,
     "metadata": {},
     "output_type": "execute_result"
    }
   ],
   "source": [
    "numer_OHE_x59_x79_x98 = make_pipeline(SimpleImputer(strategy=\"most_frequent\"), \n",
    "                                        OneHotEncoder())\n",
    "\n",
    "numer_OHE_x59_x79_x98.fit_transform(np.array(df['x59']).reshape(-1, 1)).toarray()[0].size"
   ]
  },
  {
   "cell_type": "code",
   "execution_count": 32,
   "metadata": {},
   "outputs": [],
   "source": [
    "# len(numer_OHE_x59_x79_x98.fit_transform(np.array(df['x59']).reshape(-1, 1)).toarray())"
   ]
  },
  {
   "cell_type": "markdown",
   "metadata": {},
   "source": [
    "check out if the new pipeline works"
   ]
  },
  {
   "cell_type": "code",
   "execution_count": 33,
   "metadata": {},
   "outputs": [],
   "source": [
    "ct = make_column_transformer((numer_OHE_x59_x79_x98, ['x59', 'x79', 'x98']))"
   ]
  },
  {
   "cell_type": "code",
   "execution_count": 34,
   "metadata": {},
   "outputs": [
    {
     "data": {
      "text/plain": [
       "array([[1., 0., 0., 1., 1., 0.],\n",
       "       [1., 0., 0., 1., 0., 1.],\n",
       "       [1., 0., 0., 1., 1., 0.],\n",
       "       ...,\n",
       "       [1., 0., 0., 1., 0., 1.],\n",
       "       [1., 0., 0., 1., 1., 0.],\n",
       "       [0., 1., 0., 1., 0., 1.]])"
      ]
     },
     "execution_count": 34,
     "metadata": {},
     "output_type": "execute_result"
    }
   ],
   "source": [
    "ct.fit_transform(df)"
   ]
  },
  {
   "cell_type": "markdown",
   "metadata": {},
   "source": [
    "the pipeline works just fine. \n",
    "\n",
    "\n",
    "make a new pipeline for numeric features which were skewed and check it out if it works flawlessly."
   ]
  },
  {
   "cell_type": "code",
   "execution_count": 35,
   "metadata": {},
   "outputs": [
    {
     "data": {
      "text/plain": [
       "array([[ 0.52252661],\n",
       "       [-0.98789216],\n",
       "       [-1.11580409],\n",
       "       ...,\n",
       "       [-0.26185934],\n",
       "       [-2.10399184],\n",
       "       [-0.25390223]])"
      ]
     },
     "execution_count": 35,
     "metadata": {},
     "output_type": "execute_result"
    }
   ],
   "source": [
    "numer_skewness = make_pipeline(SimpleImputer(strategy=\"mean\"), \n",
    "                               StandardScaler(),\n",
    "                                PowerTransformer(),\n",
    "#                                VarianceThreshold(),\n",
    "                              )\n",
    "\n",
    "numer_skewness.fit_transform(np.array(df['x13']).reshape(-1, 1))"
   ]
  },
  {
   "cell_type": "markdown",
   "metadata": {},
   "source": [
    "feed the new pipeline into the column transformer and check it out."
   ]
  },
  {
   "cell_type": "code",
   "execution_count": 36,
   "metadata": {},
   "outputs": [],
   "source": [
    "ct = make_column_transformer((numer_skewness, ['x13', 'x21', 'x32', 'x35', \n",
    "                                               'x44', 'x59', 'x67', 'x73', \n",
    "                                               'x75', 'x79', 'x84', 'x89']))"
   ]
  },
  {
   "cell_type": "code",
   "execution_count": 37,
   "metadata": {},
   "outputs": [
    {
     "data": {
      "text/plain": [
       "array([[ 0.52252661,  1.6190496 , -0.68519579, ...,  0.42510903,\n",
       "        -2.88844405,  0.15809134],\n",
       "       [-0.98789216, -0.40425833,  0.60652813, ..., -1.8907331 ,\n",
       "         0.0591937 ,  0.08691384],\n",
       "       [-1.11580409,  0.16008288,  1.24974419, ...,  0.42510903,\n",
       "         0.0591937 ,  0.21667148],\n",
       "       ...,\n",
       "       [-0.26185934, -0.73586194,  0.13156308, ...,  0.42510903,\n",
       "         2.05710353, -1.38447206],\n",
       "       [-2.10399184,  0.05575166,  1.33614618, ...,  0.42510903,\n",
       "         0.0591937 ,  0.21667148],\n",
       "       [-0.25390223, -0.87867438,  0.34614004, ...,  0.42510903,\n",
       "         0.0591937 ,  0.21667148]])"
      ]
     },
     "execution_count": 37,
     "metadata": {},
     "output_type": "execute_result"
    }
   ],
   "source": [
    "ct.fit_transform(df)"
   ]
  },
  {
   "cell_type": "markdown",
   "metadata": {},
   "source": [
    "make a pipeline for rest of numeric features and check it out"
   ]
  },
  {
   "cell_type": "code",
   "execution_count": 38,
   "metadata": {},
   "outputs": [
    {
     "name": "stdout",
     "output_type": "stream",
     "text": [
      "['x1', 'x2', 'x4', 'x5', 'x6', 'x8', 'x9', 'x10', 'x11', 'x12', 'x13', 'x14', 'x15', 'x16', 'x17', 'x18', 'x20', 'x21', 'x22', 'x23', 'x25', 'x26', 'x27', 'x28', 'x29', 'x30', 'x32', 'x34', 'x35', 'x36', 'x37', 'x38', 'x40', 'x41', 'x42', 'x43', 'x44', 'x45', 'x46', 'x47', 'x48', 'x49', 'x50', 'x51', 'x52', 'x53', 'x54', 'x55', 'x56', 'x57', 'x58', 'x59', 'x61', 'x62', 'x63', 'x64', 'x66', 'x67', 'x68', 'x69', 'x70', 'x71', 'x72', 'x73', 'x74', 'x75', 'x76', 'x78', 'x79', 'x80', 'x81', 'x82', 'x83', 'x84', 'x85', 'x86', 'x87', 'x88', 'x89', 'x90', 'x91', 'x92', 'x94', 'x95', 'x96', 'x97', 'x98', 'x100']\n"
     ]
    }
   ],
   "source": [
    "rest_numeric_features = []\n",
    "for col in df_numeric_features.columns:\n",
    "    if col != ['x13', 'x21', 'x32', 'x35', 'x44', 'x59', 'x67', 'x73', 'x75', 'x79', 'x84', 'x89']:\n",
    "        rest_numeric_features.append(col)\n",
    "print(rest_numeric_features)       "
   ]
  },
  {
   "cell_type": "code",
   "execution_count": 39,
   "metadata": {},
   "outputs": [],
   "source": [
    "Rest_numeric_features = make_pipeline(SimpleImputer(strategy=\"mean\"), \n",
    "                               StandardScaler(),\n",
    "                                PowerTransformer(),\n",
    "#                                VarianceThreshold(),\n",
    "#                             PCA(n_components=20),\n",
    "                                     )\n",
    "\n",
    "# Rest_numeric_features.fit_transform(np.array(df['x1']).reshape(-1, 1))"
   ]
  },
  {
   "cell_type": "code",
   "execution_count": 40,
   "metadata": {},
   "outputs": [],
   "source": [
    "ct = make_column_transformer((Rest_numeric_features, rest_numeric_features))"
   ]
  },
  {
   "cell_type": "code",
   "execution_count": 41,
   "metadata": {},
   "outputs": [
    {
     "data": {
      "text/plain": [
       "array([[-1.52210183, -1.21321633,  0.73538846, ..., -1.19734632,\n",
       "        -0.99531099,  0.80499414],\n",
       "       [-0.21778515, -0.99034322,  1.01178638, ...,  0.25640949,\n",
       "         1.0047111 ,  0.22810827],\n",
       "       [ 0.75277741, -0.50800169,  0.09907159, ..., -1.10434356,\n",
       "        -0.99531099,  1.77989024],\n",
       "       ...,\n",
       "       [-0.62132649, -1.36064831, -0.39842492, ..., -1.17905537,\n",
       "         1.0047111 , -0.0022491 ],\n",
       "       [ 0.53960265,  0.17657422,  0.29347708, ..., -0.68188951,\n",
       "        -0.99531099,  1.80192371],\n",
       "       [-0.14750603, -2.22596216, -0.79910404, ...,  1.26723974,\n",
       "         1.0047111 ,  1.96954651]])"
      ]
     },
     "execution_count": 41,
     "metadata": {},
     "output_type": "execute_result"
    }
   ],
   "source": [
    "ct.fit_transform(df)"
   ]
  },
  {
   "cell_type": "markdown",
   "metadata": {},
   "source": [
    "# Combining all transformers into one "
   ]
  },
  {
   "cell_type": "code",
   "execution_count": 42,
   "metadata": {},
   "outputs": [],
   "source": [
    "# x3 pipe\n",
    "x3_pipe = Pipeline([('custom_edit_x3_tf', custom_edit_x3_tf), \n",
    "                   ('imp', SimpleImputer(strategy=\"most_frequent\")), \n",
    "                   ('ohe', OneHotEncoder())])\n",
    "# two tf pipe\n",
    "two_step_transformer_pipe = Pipeline([('imp', SimpleImputer(strategy=\"most_frequent\")), \n",
    "                                                     ('ohe',OneHotEncoder())])\n",
    "\n",
    "# numeric -> categ OHE pipe\n",
    "numer_OHE_x59_x79_x98_pipe = Pipeline([('imp_ohe', SimpleImputer(strategy=\"most_frequent\")), \n",
    "                                        ('ohe',OneHotEncoder())])\n",
    "\n",
    "# numeric skewness tf\n",
    "numer_skewness_pipe = Pipeline([('imp',SimpleImputer(strategy=\"mean\")), \n",
    "                               ('scaler',StandardScaler()),\n",
    "                                ('p_tf',PowerTransformer()),\n",
    "                               ('selector',VarianceThreshold()),\n",
    "                              ])\n",
    "\n",
    "# custom x7 tf\n",
    "custom_edit_x7_tf = FunctionTransformer(custom_edit_x7)\n",
    "# custom x19 tf\n",
    "custom_edit_x19_tf = FunctionTransformer(custom_edit_x19)\n",
    "\n",
    "\n",
    "# rest on nemeric feature pipe\n",
    "Rest_numeric_features_pipe = Pipeline([('imp',SimpleImputer(strategy=\"mean\")), \n",
    "                               ('scaler',StandardScaler()),\n",
    "                                ('p_tf',PowerTransformer()),\n",
    "                               ('selector',VarianceThreshold()),\n",
    "#                             PCA(n_components=20),\n",
    "                                     ])"
   ]
  },
  {
   "cell_type": "code",
   "execution_count": 43,
   "metadata": {},
   "outputs": [
    {
     "data": {
      "text/plain": [
       "196"
      ]
     },
     "execution_count": 43,
     "metadata": {},
     "output_type": "execute_result"
    }
   ],
   "source": [
    "preprocessor = make_column_transformer((x3_pipe, ['x3']),\n",
    "                            (two_step_transformer_pipe, ['x24','x31','x33','x60','x65','x77','x93']),\n",
    "                            (numer_OHE_x59_x79_x98_pipe, ['x59', 'x79', 'x98']),\n",
    "                             \n",
    "                             # features with high skewness \n",
    "                            (numer_skewness_pipe, ['x13', 'x21', 'x32', 'x35', \n",
    "                                              'x44', 'x59', 'x67', 'x73', \n",
    "                                              'x75', 'x79', 'x84', 'x89']),\n",
    "                             \n",
    "                             # features from categories-> edited to numeric-no null found\n",
    "                             (custom_edit_x7_tf, ['x7']),\n",
    "                             (custom_edit_x19_tf, ['x19']),\n",
    "                             \n",
    "                             # rest numeric features\n",
    "                             (Rest_numeric_features_pipe, rest_numeric_features),\n",
    "                             )\n",
    "\n",
    "preprocessor.fit_transform(df)[0].size"
   ]
  },
  {
   "cell_type": "code",
   "execution_count": 44,
   "metadata": {},
   "outputs": [
    {
     "data": {
      "text/plain": [
       "{'pipeline-1': Pipeline(steps=[('custom_edit_x3_tf',\n",
       "                  FunctionTransformer(func=<function custom_edit_x3 at 0x7f9aa1d2d620>)),\n",
       "                 ('imp', SimpleImputer(strategy='most_frequent')),\n",
       "                 ('ohe', OneHotEncoder())]),\n",
       " 'pipeline-2': Pipeline(steps=[('imp', SimpleImputer(strategy='most_frequent')),\n",
       "                 ('ohe', OneHotEncoder())]),\n",
       " 'pipeline-3': Pipeline(steps=[('imp_ohe', SimpleImputer(strategy='most_frequent')),\n",
       "                 ('ohe', OneHotEncoder())]),\n",
       " 'pipeline-4': Pipeline(steps=[('imp', SimpleImputer()), ('scaler', StandardScaler()),\n",
       "                 ('p_tf', PowerTransformer()),\n",
       "                 ('selector', VarianceThreshold())]),\n",
       " 'functiontransformer-1': FunctionTransformer(func=<function custom_edit_x7 at 0x7f9aa1d2dae8>),\n",
       " 'functiontransformer-2': FunctionTransformer(func=<function custom_edit_x19 at 0x7f9a893371e0>),\n",
       " 'pipeline-5': Pipeline(steps=[('imp', SimpleImputer()), ('scaler', StandardScaler()),\n",
       "                 ('p_tf', PowerTransformer()),\n",
       "                 ('selector', VarianceThreshold())]),\n",
       " 'remainder': 'drop'}"
      ]
     },
     "execution_count": 44,
     "metadata": {},
     "output_type": "execute_result"
    }
   ],
   "source": [
    "preprocessor.named_transformers_"
   ]
  },
  {
   "cell_type": "markdown",
   "metadata": {},
   "source": [
    "so far so good."
   ]
  },
  {
   "cell_type": "code",
   "execution_count": 45,
   "metadata": {},
   "outputs": [],
   "source": [
    "X_all_features = df.drop(columns=['y'], axis=1)\n",
    "y = df['y']"
   ]
  },
  {
   "cell_type": "markdown",
   "metadata": {},
   "source": [
    "# Pipes & transformers using Gradient Boosting classifier\n"
   ]
  },
  {
   "cell_type": "code",
   "execution_count": 46,
   "metadata": {},
   "outputs": [
    {
     "data": {
      "text/plain": [
       "Pipeline(steps=[('preprocessor',\n",
       "                 ColumnTransformer(transformers=[('pipeline-1',\n",
       "                                                  Pipeline(steps=[('custom_edit_x3_tf',\n",
       "                                                                   FunctionTransformer(func=<function custom_edit_x3 at 0x7f9aa1d2d620>)),\n",
       "                                                                  ('imp',\n",
       "                                                                   SimpleImputer(strategy='most_frequent')),\n",
       "                                                                  ('ohe',\n",
       "                                                                   OneHotEncoder())]),\n",
       "                                                  ['x3']),\n",
       "                                                 ('pipeline-2',\n",
       "                                                  Pipeline(steps=[('imp',\n",
       "                                                                   SimpleImputer(strategy='most_frequent')),\n",
       "                                                                  ('ohe',...\n",
       "                                                                  ('p_tf',\n",
       "                                                                   PowerTransformer()),\n",
       "                                                                  ('selector',\n",
       "                                                                   VarianceThreshold())]),\n",
       "                                                  ['x1', 'x2', 'x4', 'x5', 'x6',\n",
       "                                                   'x8', 'x9', 'x10', 'x11',\n",
       "                                                   'x12', 'x13', 'x14', 'x15',\n",
       "                                                   'x16', 'x17', 'x18', 'x20',\n",
       "                                                   'x21', 'x22', 'x23', 'x25',\n",
       "                                                   'x26', 'x27', 'x28', 'x29',\n",
       "                                                   'x30', 'x32', 'x34', 'x35',\n",
       "                                                   'x36', ...])])),\n",
       "                ('classiffier',\n",
       "                 GradientBoostingClassifier(learning_rate=1.0, max_depth=2,\n",
       "                                            n_estimators=150,\n",
       "                                            random_state=0))])"
      ]
     },
     "execution_count": 46,
     "metadata": {},
     "output_type": "execute_result"
    }
   ],
   "source": [
    "Final_pipe_GB = Pipeline(steps=[('preprocessor', \n",
    "                                 preprocessor),\n",
    "                                ('classiffier', \n",
    "                                 GradientBoostingClassifier(n_estimators=150, \n",
    "                                                            learning_rate=1.0,\n",
    "                                                            max_depth=2, \n",
    "                                                            random_state=0))])\n",
    "\n",
    "Final_pipe_GB.fit(X_all_features,y)"
   ]
  },
  {
   "cell_type": "code",
   "execution_count": 47,
   "metadata": {},
   "outputs": [
    {
     "data": {
      "text/plain": [
       "0.7654068695368681"
      ]
     },
     "execution_count": 47,
     "metadata": {},
     "output_type": "execute_result"
    }
   ],
   "source": [
    "cross_val_score(Final_pipe_GB, df, y, cv=5, \n",
    "                scoring='roc_auc', n_jobs=-1).mean()"
   ]
  },
  {
   "cell_type": "markdown",
   "metadata": {},
   "source": [
    "# Grid Search on XGBoost"
   ]
  },
  {
   "cell_type": "code",
   "execution_count": 48,
   "metadata": {},
   "outputs": [
    {
     "data": {
      "text/plain": [
       "{'pipeline-1': Pipeline(steps=[('custom_edit_x3_tf',\n",
       "                  FunctionTransformer(func=<function custom_edit_x3 at 0x7f9aa1d2d620>)),\n",
       "                 ('imp', SimpleImputer(strategy='most_frequent')),\n",
       "                 ('ohe', OneHotEncoder())]),\n",
       " 'pipeline-2': Pipeline(steps=[('imp', SimpleImputer(strategy='most_frequent')),\n",
       "                 ('ohe', OneHotEncoder())]),\n",
       " 'pipeline-3': Pipeline(steps=[('imp_ohe', SimpleImputer(strategy='most_frequent')),\n",
       "                 ('ohe', OneHotEncoder())]),\n",
       " 'pipeline-4': Pipeline(steps=[('imp', SimpleImputer()), ('scaler', StandardScaler()),\n",
       "                 ('p_tf', PowerTransformer()),\n",
       "                 ('selector', VarianceThreshold())]),\n",
       " 'functiontransformer-1': FunctionTransformer(func=<function custom_edit_x7 at 0x7f9aa1d2dae8>),\n",
       " 'functiontransformer-2': FunctionTransformer(func=<function custom_edit_x19 at 0x7f9a893371e0>),\n",
       " 'pipeline-5': Pipeline(steps=[('imp', SimpleImputer()), ('scaler', StandardScaler()),\n",
       "                 ('p_tf', PowerTransformer()),\n",
       "                 ('selector', VarianceThreshold())]),\n",
       " 'remainder': 'drop'}"
      ]
     },
     "execution_count": 48,
     "metadata": {},
     "output_type": "execute_result"
    }
   ],
   "source": [
    "preprocessor.named_transformers_"
   ]
  },
  {
   "cell_type": "code",
   "execution_count": 49,
   "metadata": {},
   "outputs": [],
   "source": [
    "params = {}\n",
    "params['preprocessor__pipeline-4__selector__threshold']=[0.01, 0.2]\n"
   ]
  },
  {
   "cell_type": "code",
   "execution_count": 50,
   "metadata": {},
   "outputs": [],
   "source": [
    "grid = GridSearchCV(Final_pipe_GB, params, \n",
    "                    cv=5, scoring='roc_auc',n_jobs=-1)"
   ]
  },
  {
   "cell_type": "code",
   "execution_count": 51,
   "metadata": {},
   "outputs": [
    {
     "data": {
      "text/plain": [
       "GridSearchCV(cv=5,\n",
       "             estimator=Pipeline(steps=[('preprocessor',\n",
       "                                        ColumnTransformer(transformers=[('pipeline-1',\n",
       "                                                                         Pipeline(steps=[('custom_edit_x3_tf',\n",
       "                                                                                          FunctionTransformer(func=<function custom_edit_x3 at 0x7f9aa1d2d620>)),\n",
       "                                                                                         ('imp',\n",
       "                                                                                          SimpleImputer(strategy='most_frequent')),\n",
       "                                                                                         ('ohe',\n",
       "                                                                                          OneHotEncoder())]),\n",
       "                                                                         ['x3']),\n",
       "                                                                        ('pipeline-2',\n",
       "                                                                         Pipeline(steps=[('imp',\n",
       "                                                                                          SimpleImputer(strate...\n",
       "                                                                          'x10',\n",
       "                                                                          'x11',\n",
       "                                                                          'x12',\n",
       "                                                                          'x13',\n",
       "                                                                          'x14',\n",
       "                                                                          'x15',\n",
       "                                                                          'x16',\n",
       "                                                                          'x17',\n",
       "                                                                          'x18',\n",
       "                                                                          'x20',\n",
       "                                                                          'x21',\n",
       "                                                                          'x22',\n",
       "                                                                          'x23',\n",
       "                                                                          'x25',\n",
       "                                                                          'x26',\n",
       "                                                                          'x27',\n",
       "                                                                          'x28',\n",
       "                                                                          'x29',\n",
       "                                                                          'x30',\n",
       "                                                                          'x32',\n",
       "                                                                          'x34',\n",
       "                                                                          'x35',\n",
       "                                                                          'x36', ...])])),\n",
       "                                       ('classiffier',\n",
       "                                        GradientBoostingClassifier(learning_rate=1.0,\n",
       "                                                                   max_depth=2,\n",
       "                                                                   n_estimators=150,\n",
       "                                                                   random_state=0))]),\n",
       "             n_jobs=-1,\n",
       "             param_grid={'preprocessor__pipeline-4__selector__threshold': [0.01,\n",
       "                                                                           0.2]},\n",
       "             scoring='roc_auc')"
      ]
     },
     "execution_count": 51,
     "metadata": {},
     "output_type": "execute_result"
    }
   ],
   "source": [
    "grid.fit(X_all_features, y)"
   ]
  },
  {
   "cell_type": "code",
   "execution_count": 52,
   "metadata": {},
   "outputs": [
    {
     "data": {
      "text/plain": [
       "{'preprocessor__pipeline-4__selector__threshold': 0.01}"
      ]
     },
     "execution_count": 52,
     "metadata": {},
     "output_type": "execute_result"
    }
   ],
   "source": [
    "grid.best_params_"
   ]
  },
  {
   "cell_type": "code",
   "execution_count": 53,
   "metadata": {},
   "outputs": [
    {
     "data": {
      "text/plain": [
       "0.7654068695368681"
      ]
     },
     "execution_count": 53,
     "metadata": {},
     "output_type": "execute_result"
    }
   ],
   "source": [
    "grid.best_score_"
   ]
  },
  {
   "cell_type": "markdown",
   "metadata": {},
   "source": [
    "# RandomizedCV Search"
   ]
  },
  {
   "cell_type": "code",
   "execution_count": 54,
   "metadata": {},
   "outputs": [],
   "source": [
    "params = {}\n",
    "params['preprocessor__pipeline-4__selector__threshold']=[0.01, 0.03, 0.05,0.07, 0.1]\n",
    "params['preprocessor__pipeline-5__selector__threshold']=[0.01, 0.03, 0.05,0.07, 0.1]\n",
    "params['classiffier__learning_rate']=[0.1, 0.3, 1, 2]\n",
    "params['classiffier__max_depth']=[1, 2, 3, 4, 5]\n",
    "params['classiffier__n_estimators']=[40, 100, 120,200]"
   ]
  },
  {
   "cell_type": "code",
   "execution_count": 55,
   "metadata": {},
   "outputs": [],
   "source": [
    "from sklearn.model_selection import RandomizedSearchCV"
   ]
  },
  {
   "cell_type": "code",
   "execution_count": 56,
   "metadata": {},
   "outputs": [],
   "source": [
    "rand = RandomizedSearchCV(Final_pipe_GB, params, n_iter=10, random_state=1,\n",
    "                    cv=5, scoring='roc_auc',n_jobs=-1)"
   ]
  },
  {
   "cell_type": "code",
   "execution_count": 57,
   "metadata": {},
   "outputs": [
    {
     "name": "stdout",
     "output_type": "stream",
     "text": [
      "CPU times: user 2 µs, sys: 1 µs, total: 3 µs\n",
      "Wall time: 10 µs\n"
     ]
    },
    {
     "data": {
      "text/plain": [
       "RandomizedSearchCV(cv=5,\n",
       "                   estimator=Pipeline(steps=[('preprocessor',\n",
       "                                              ColumnTransformer(transformers=[('pipeline-1',\n",
       "                                                                               Pipeline(steps=[('custom_edit_x3_tf',\n",
       "                                                                                                FunctionTransformer(func=<function custom_edit_x3 at 0x7f9aa1d2d620>)),\n",
       "                                                                                               ('imp',\n",
       "                                                                                                SimpleImputer(strategy='most_frequent')),\n",
       "                                                                                               ('ohe',\n",
       "                                                                                                OneHotEncoder())]),\n",
       "                                                                               ['x3']),\n",
       "                                                                              ('pipeline-2',\n",
       "                                                                               Pipeline(steps=[('imp',\n",
       "                                                                                                SimpleImputer(...\n",
       "                                                                         random_state=0))]),\n",
       "                   n_jobs=-1,\n",
       "                   param_distributions={'classiffier__learning_rate': [0.1, 0.3,\n",
       "                                                                       1, 2],\n",
       "                                        'classiffier__max_depth': [1, 2, 3, 4,\n",
       "                                                                   5],\n",
       "                                        'classiffier__n_estimators': [40, 100,\n",
       "                                                                      120,\n",
       "                                                                      200],\n",
       "                                        'preprocessor__pipeline-4__selector__threshold': [0.01,\n",
       "                                                                                          0.03,\n",
       "                                                                                          0.05,\n",
       "                                                                                          0.07,\n",
       "                                                                                          0.1],\n",
       "                                        'preprocessor__pipeline-5__selector__threshold': [0.01,\n",
       "                                                                                          0.03,\n",
       "                                                                                          0.05,\n",
       "                                                                                          0.07,\n",
       "                                                                                          0.1]},\n",
       "                   random_state=1, scoring='roc_auc')"
      ]
     },
     "execution_count": 57,
     "metadata": {},
     "output_type": "execute_result"
    }
   ],
   "source": [
    "%time\n",
    "rand.fit(X_all_features, y)"
   ]
  },
  {
   "cell_type": "code",
   "execution_count": 58,
   "metadata": {},
   "outputs": [
    {
     "data": {
      "text/plain": [
       "{'preprocessor__pipeline-5__selector__threshold': 0.01,\n",
       " 'preprocessor__pipeline-4__selector__threshold': 0.05,\n",
       " 'classiffier__n_estimators': 100,\n",
       " 'classiffier__max_depth': 3,\n",
       " 'classiffier__learning_rate': 0.1}"
      ]
     },
     "execution_count": 58,
     "metadata": {},
     "output_type": "execute_result"
    }
   ],
   "source": [
    "rand.best_params_"
   ]
  },
  {
   "cell_type": "code",
   "execution_count": 59,
   "metadata": {},
   "outputs": [
    {
     "data": {
      "text/plain": [
       "0.7945098461992404"
      ]
     },
     "execution_count": 59,
     "metadata": {},
     "output_type": "execute_result"
    }
   ],
   "source": [
    "rand.best_score_"
   ]
  },
  {
   "cell_type": "markdown",
   "metadata": {},
   "source": [
    "update the final pipeline using best score and apply it on train and later use it for prediction test data set."
   ]
  },
  {
   "cell_type": "code",
   "execution_count": 60,
   "metadata": {},
   "outputs": [],
   "source": [
    "# x3 pipe\n",
    "x3_pipe = Pipeline([('custom_edit_x3_tf', custom_edit_x3_tf), \n",
    "                   ('imp', SimpleImputer(strategy=\"most_frequent\")), \n",
    "                   ('ohe', OneHotEncoder())])\n",
    "# two tf pipe\n",
    "two_step_transformer_pipe = Pipeline([('imp', SimpleImputer(strategy=\"most_frequent\")), \n",
    "                                                     ('ohe',OneHotEncoder())])\n",
    "\n",
    "# numeric -> categ OHE pipe\n",
    "numer_OHE_x59_x79_x98_pipe = Pipeline([('imp_ohe', SimpleImputer(strategy=\"most_frequent\")), \n",
    "                                        ('ohe',OneHotEncoder())])\n",
    "\n",
    "# numeric skewness tf\n",
    "numer_skewness_pipe = Pipeline([('imp',SimpleImputer(strategy=\"mean\")), \n",
    "                               ('scaler',StandardScaler()),\n",
    "                                ('p_tf',PowerTransformer()),\n",
    "                               ('selector',VarianceThreshold(0.01)),\n",
    "                              ])\n",
    "\n",
    "# custom x7 tf\n",
    "custom_edit_x7_tf = FunctionTransformer(custom_edit_x7)\n",
    "# custom x19 tf\n",
    "custom_edit_x19_tf = FunctionTransformer(custom_edit_x19)\n",
    "\n",
    "\n",
    "# rest on nemeric feature pipe\n",
    "Rest_numeric_features_pipe = Pipeline([('imp',SimpleImputer(strategy=\"mean\")), \n",
    "                               ('scaler',StandardScaler()),\n",
    "                                ('p_tf',PowerTransformer()),\n",
    "                               ('selector',VarianceThreshold(0.05)),\n",
    "#                             PCA(n_components=20),\n",
    "                                     ])"
   ]
  },
  {
   "cell_type": "code",
   "execution_count": 61,
   "metadata": {},
   "outputs": [
    {
     "data": {
      "text/plain": [
       "Pipeline(steps=[('preprocessor',\n",
       "                 ColumnTransformer(transformers=[('pipeline-1',\n",
       "                                                  Pipeline(steps=[('custom_edit_x3_tf',\n",
       "                                                                   FunctionTransformer(func=<function custom_edit_x3 at 0x7f9aa1d2d620>)),\n",
       "                                                                  ('imp',\n",
       "                                                                   SimpleImputer(strategy='most_frequent')),\n",
       "                                                                  ('ohe',\n",
       "                                                                   OneHotEncoder())]),\n",
       "                                                  ['x3']),\n",
       "                                                 ('pipeline-2',\n",
       "                                                  Pipeline(steps=[('imp',\n",
       "                                                                   SimpleImputer(strategy='most_frequent')),\n",
       "                                                                  ('ohe',...\n",
       "                                                                   SimpleImputer()),\n",
       "                                                                  ('scaler',\n",
       "                                                                   StandardScaler()),\n",
       "                                                                  ('p_tf',\n",
       "                                                                   PowerTransformer()),\n",
       "                                                                  ('selector',\n",
       "                                                                   VarianceThreshold())]),\n",
       "                                                  ['x1', 'x2', 'x4', 'x5', 'x6',\n",
       "                                                   'x8', 'x9', 'x10', 'x11',\n",
       "                                                   'x12', 'x13', 'x14', 'x15',\n",
       "                                                   'x16', 'x17', 'x18', 'x20',\n",
       "                                                   'x21', 'x22', 'x23', 'x25',\n",
       "                                                   'x26', 'x27', 'x28', 'x29',\n",
       "                                                   'x30', 'x32', 'x34', 'x35',\n",
       "                                                   'x36', ...])])),\n",
       "                ('classiffier', GradientBoostingClassifier(random_state=0))])"
      ]
     },
     "execution_count": 61,
     "metadata": {},
     "output_type": "execute_result"
    }
   ],
   "source": [
    "Final_pipe_GB = Pipeline(steps=[('preprocessor', \n",
    "                                 preprocessor),\n",
    "                                ('classiffier', \n",
    "                                 GradientBoostingClassifier(n_estimators=100, \n",
    "                                                            learning_rate=0.1,\n",
    "                                                            max_depth=3, \n",
    "                                                            random_state=0))])\n",
    "\n",
    "Final_pipe_GB.fit(X_all_features,y)"
   ]
  },
  {
   "cell_type": "markdown",
   "metadata": {},
   "source": [
    "## save pipeline"
   ]
  },
  {
   "cell_type": "code",
   "execution_count": 62,
   "metadata": {},
   "outputs": [
    {
     "data": {
      "text/plain": [
       "['../pipelines/Final_pipe_GB_P02_3_Modeling_auc0_83.joblib']"
      ]
     },
     "execution_count": 62,
     "metadata": {},
     "output_type": "execute_result"
    }
   ],
   "source": [
    "# save the pipeline to a file\n",
    "import joblib\n",
    "joblib.dump(Final_pipe_GB, '../pipelines/Final_pipe_GB_P02_3_Modeling_auc0_83.joblib')"
   ]
  },
  {
   "cell_type": "code",
   "execution_count": 63,
   "metadata": {},
   "outputs": [],
   "source": [
    "y_pred = Final_pipe_GB.predict(X_all_features)\n",
    "y_prob = Final_pipe_GB.predict_proba(X_all_features)"
   ]
  },
  {
   "cell_type": "code",
   "execution_count": 64,
   "metadata": {},
   "outputs": [
    {
     "data": {
      "image/png": "[encoded data removed]",
      "text/plain": [
       "<Figure size 504x504 with 1 Axes>"
      ]
     },
     "metadata": {
      "image/png": {
       "height": 440,
       "width": 441
      },
      "needs_background": "light"
     },
     "output_type": "display_data"
    }
   ],
   "source": [
    "plt.figure(figsize=(7,7))\n",
    "# https://stackoverflow.com/questions/25009284/how-to-plot-roc-curve-in-python\n",
    "fpr_gb, tpr_gb, _ = metrics.roc_curve(y,  y_prob[:,1])\n",
    "auc_gb = metrics.roc_auc_score(y, y_prob[:,1])\n",
    "plt.plot(fpr_gb,tpr_gb, label=\"AUC=\"+str(round(auc_gb,2)))\n",
    "plt.legend(loc=4)\n",
    "plt.xlabel('False positive ratio')\n",
    "plt.ylabel('True positive ratio')\n",
    "plt.title('ROC curve - GradientBoostingClassifier')\n",
    "plt.savefig(\"../Figures/plot_02_2_roc_GB.png\")\n",
    "plt.show()"
   ]
  },
  {
   "cell_type": "code",
   "execution_count": 65,
   "metadata": {},
   "outputs": [
    {
     "name": "stdout",
     "output_type": "stream",
     "text": [
      "Accuracy, Precision, Recall\n",
      " 0.86725 0.7345385347288297 0.13303463725659143\n"
     ]
    },
    {
     "data": {
      "image/png": "[encoded data removed]",
      "text/plain": [
       "<Figure size 432x288 with 2 Axes>"
      ]
     },
     "metadata": {
      "image/png": {
       "height": 261,
       "width": 325
      },
      "needs_background": "light"
     },
     "output_type": "display_data"
    }
   ],
   "source": [
    "preds = Final_pipe_GB.predict(X_all_features)\n",
    "\n",
    "# Save confusion matrix values\n",
    "tn, fp, fn, tp = confusion_matrix(y, preds).ravel()\n",
    "\n",
    "# View confusion matrix\n",
    "\n",
    "plot_confusion_matrix(Final_pipe_GB, X_all_features, y, \n",
    "#                       cmap='seismic', \n",
    "                     values_format='d')\n",
    "\n",
    "Accuracy = (tp + tn) / (tp + tn + fp + fn)\n",
    "Precision = tp / (tp + fp)\n",
    "Recall = tp / (tp + fn)\n",
    "\n",
    "print('Accuracy, Precision, Recall\\n',Accuracy, Precision, Recall)\n",
    "plt.savefig(\"../Figures/plot_02_2_GB_confusionmat.png\")"
   ]
  },
  {
   "cell_type": "markdown",
   "metadata": {},
   "source": [
    "# Results"
   ]
  },
  {
   "cell_type": "code",
   "execution_count": 66,
   "metadata": {},
   "outputs": [
    {
     "data": {
      "image/png": "[encoded data removed]",
      "text/plain": [
       "<Figure size 576x576 with 1 Axes>"
      ]
     },
     "metadata": {
      "image/png": {
       "height": 508,
       "width": 497
      },
      "needs_background": "light"
     },
     "output_type": "display_data"
    }
   ],
   "source": [
    "plt.figure(figsize=(8,8))\n",
    "plt.plot(fpr_gb,tpr_gb, 'g--', linewidth=2, markersize=2,\n",
    "         label=\"AUC for nonglm (GB)=\"+str(round(auc_gb,4)))\n",
    "\n",
    "# plt.plot(fpr_mlp,tpr_mlp, 'b--', linewidth=2, markersize=2,\n",
    "#          label=\"AUC MLP=\"+str(round(auc_mlp,4)))\n",
    "\n",
    "# plt.plot(fpr_lr,tpr_lr, 'k--', linewidth=2, markersize=2,\n",
    "#          label=\"AUC for glm (lr)=\"+str(round(auc_lr,4)))\n",
    "\n",
    "plt.plot([0,1],[0,1], 'r--', linewidth=2, markersize=2,\n",
    "         label='random classifier')\n",
    "\n",
    "plt.legend(loc=4)\n",
    "plt.xlabel('False positive ratio')\n",
    "plt.ylabel('True positive ratio')\n",
    "plt.title('ROC curve\\n Gradient Boosting Classifier')\n",
    "\n",
    "plt.savefig(\"../Figures/plot_02_3_roc_GB.png\")\n",
    "plt.show()"
   ]
  },
  {
   "cell_type": "markdown",
   "metadata": {},
   "source": [
    "# Test the pipeline on test set\n",
    "\n",
    "load test data set"
   ]
  },
  {
   "cell_type": "code",
   "execution_count": 67,
   "metadata": {},
   "outputs": [],
   "source": [
    "file_path = \"../DataSet/\"\n",
    "file_name = \"exercise_40_test.csv\"\n",
    "df_test = pd.read_csv(file_path+file_name)"
   ]
  },
  {
   "cell_type": "markdown",
   "metadata": {},
   "source": [
    "predict using non-glm model "
   ]
  },
  {
   "cell_type": "code",
   "execution_count": 68,
   "metadata": {},
   "outputs": [],
   "source": [
    "y_pred_nonglmresults = Final_pipe_GB.predict_proba(df_test)\n",
    "y_pred_nonglmresults_1 = y_pred_nonglmresults[:,1]\n",
    "\n",
    "file_name = \"nonglmresults_p0203.csv\"\n",
    "y_pred_nonglmresults_1_pd = pd.DataFrame(y_pred_nonglmresults_1)\n",
    "y_pred_nonglmresults_1_pd.to_csv(file_path+file_name, index = False,header=False)"
   ]
  },
  {
   "cell_type": "code",
   "execution_count": null,
   "metadata": {},
   "outputs": [],
   "source": []
  },
  {
   "cell_type": "code",
   "execution_count": null,
   "metadata": {},
   "outputs": [],
   "source": []
  }
 ],
 "metadata": {
  "kernelspec": {
   "display_name": "Python 3",
   "language": "python",
   "name": "python3"
  },
  "language_info": {
   "codemirror_mode": {
    "name": "ipython",
    "version": 3
   },
   "file_extension": ".py",
   "mimetype": "text/x-python",
   "name": "python",
   "nbconvert_exporter": "python",
   "pygments_lexer": "ipython3",
   "version": "3.7.0"
  }
 },
 "nbformat": 4,
 "nbformat_minor": 2
}
