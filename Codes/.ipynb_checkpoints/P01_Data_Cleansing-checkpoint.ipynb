{
 "cells": [
  {
   "cell_type": "code",
   "execution_count": 1,
   "metadata": {},
   "outputs": [],
   "source": [
    "import pandas as pd\n",
    "import numpy as np\n",
    "import regex as re\n",
    "import warnings\n",
    "warnings.filterwarnings('ignore')\n",
    "from nltk.corpus import stopwords \n",
    "from nltk.stem.porter import PorterStemmer\n",
    "from nltk.stem import WordNetLemmatizer\n",
    "import pickle\n",
    "\n",
    "import matplotlib.pyplot as plt\n"
   ]
  },
  {
   "cell_type": "code",
   "execution_count": 2,
   "metadata": {},
   "outputs": [],
   "source": [
    "import seaborn as sns\n",
    "from sklearn.model_selection import train_test_split\n"
   ]
  },
  {
   "cell_type": "code",
   "execution_count": 3,
   "metadata": {},
   "outputs": [],
   "source": [
    "%config InlineBackend.figure_format = 'retina'"
   ]
  },
  {
   "cell_type": "code",
   "execution_count": 4,
   "metadata": {},
   "outputs": [],
   "source": [
    "import warnings\n",
    "warnings.filterwarnings('ignore')"
   ]
  },
  {
   "cell_type": "code",
   "execution_count": 5,
   "metadata": {},
   "outputs": [],
   "source": [
    "import pandas as pd\n",
    "from sklearn.compose import make_column_transformer\n",
    "from sklearn.preprocessing import OneHotEncoder\n",
    "from sklearn.linear_model import LogisticRegression\n",
    "from sklearn.pipeline import make_pipeline\n",
    "from sklearn.model_selection import cross_val_score"
   ]
  },
  {
   "cell_type": "code",
   "execution_count": null,
   "metadata": {},
   "outputs": [],
   "source": []
  },
  {
   "cell_type": "markdown",
   "metadata": {},
   "source": [
    "# Read data set"
   ]
  },
  {
   "cell_type": "code",
   "execution_count": 6,
   "metadata": {},
   "outputs": [],
   "source": [
    "file_path = \"../DataSet/\"\n",
    "file_name = \"exercise_40_train.csv\"\n",
    "df = pd.read_csv(file_path+file_name)"
   ]
  },
  {
   "cell_type": "code",
   "execution_count": 7,
   "metadata": {},
   "outputs": [
    {
     "data": {
      "text/plain": [
       "(40000, 101)"
      ]
     },
     "execution_count": 7,
     "metadata": {},
     "output_type": "execute_result"
    }
   ],
   "source": [
    "df.shape"
   ]
  },
  {
   "cell_type": "markdown",
   "metadata": {},
   "source": [
    "Check the column names and details as follow."
   ]
  },
  {
   "cell_type": "code",
   "execution_count": 8,
   "metadata": {},
   "outputs": [
    {
     "name": "stdout",
     "output_type": "stream",
     "text": [
      "<class 'pandas.core.frame.DataFrame'>\n",
      "RangeIndex: 40000 entries, 0 to 39999\n",
      "Columns: 101 entries, y to x100\n",
      "dtypes: float64(86), int64(3), object(12)\n",
      "memory usage: 30.8+ MB\n"
     ]
    }
   ],
   "source": [
    "df.info()"
   ]
  },
  {
   "cell_type": "code",
   "execution_count": 9,
   "metadata": {},
   "outputs": [
    {
     "data": {
      "text/html": [
       "<div>\n",
       "<style scoped>\n",
       "    .dataframe tbody tr th:only-of-type {\n",
       "        vertical-align: middle;\n",
       "    }\n",
       "\n",
       "    .dataframe tbody tr th {\n",
       "        vertical-align: top;\n",
       "    }\n",
       "\n",
       "    .dataframe thead th {\n",
       "        text-align: right;\n",
       "    }\n",
       "</style>\n",
       "<table border=\"1\" class=\"dataframe\">\n",
       "  <thead>\n",
       "    <tr style=\"text-align: right;\">\n",
       "      <th></th>\n",
       "      <th>y</th>\n",
       "      <th>x1</th>\n",
       "      <th>x2</th>\n",
       "      <th>x3</th>\n",
       "      <th>x4</th>\n",
       "      <th>x5</th>\n",
       "      <th>x6</th>\n",
       "      <th>x7</th>\n",
       "      <th>x8</th>\n",
       "      <th>x9</th>\n",
       "      <th>...</th>\n",
       "      <th>x91</th>\n",
       "      <th>x92</th>\n",
       "      <th>x93</th>\n",
       "      <th>x94</th>\n",
       "      <th>x95</th>\n",
       "      <th>x96</th>\n",
       "      <th>x97</th>\n",
       "      <th>x98</th>\n",
       "      <th>x99</th>\n",
       "      <th>x100</th>\n",
       "    </tr>\n",
       "  </thead>\n",
       "  <tbody>\n",
       "    <tr>\n",
       "      <th>0</th>\n",
       "      <td>0</td>\n",
       "      <td>0.165254</td>\n",
       "      <td>18.060003</td>\n",
       "      <td>Wed</td>\n",
       "      <td>1.077380</td>\n",
       "      <td>-1.339233</td>\n",
       "      <td>-1.584341</td>\n",
       "      <td>0.0062%</td>\n",
       "      <td>0.220784</td>\n",
       "      <td>1.816481</td>\n",
       "      <td>...</td>\n",
       "      <td>-0.397427</td>\n",
       "      <td>0.909479</td>\n",
       "      <td>no</td>\n",
       "      <td>5.492487</td>\n",
       "      <td>NaN</td>\n",
       "      <td>10.255579</td>\n",
       "      <td>7.627730</td>\n",
       "      <td>0</td>\n",
       "      <td>yes</td>\n",
       "      <td>104.251338</td>\n",
       "    </tr>\n",
       "    <tr>\n",
       "      <th>1</th>\n",
       "      <td>1</td>\n",
       "      <td>2.441471</td>\n",
       "      <td>18.416307</td>\n",
       "      <td>Friday</td>\n",
       "      <td>1.482586</td>\n",
       "      <td>0.920817</td>\n",
       "      <td>-0.759931</td>\n",
       "      <td>0.0064%</td>\n",
       "      <td>1.192441</td>\n",
       "      <td>3.513950</td>\n",
       "      <td>...</td>\n",
       "      <td>0.656651</td>\n",
       "      <td>9.093466</td>\n",
       "      <td>no</td>\n",
       "      <td>3.346429</td>\n",
       "      <td>4.321172</td>\n",
       "      <td>NaN</td>\n",
       "      <td>10.505284</td>\n",
       "      <td>1</td>\n",
       "      <td>yes</td>\n",
       "      <td>101.230645</td>\n",
       "    </tr>\n",
       "    <tr>\n",
       "      <th>2</th>\n",
       "      <td>1</td>\n",
       "      <td>4.427278</td>\n",
       "      <td>19.188092</td>\n",
       "      <td>Thursday</td>\n",
       "      <td>0.145652</td>\n",
       "      <td>0.366093</td>\n",
       "      <td>0.709962</td>\n",
       "      <td>-8e-04%</td>\n",
       "      <td>0.952323</td>\n",
       "      <td>0.782974</td>\n",
       "      <td>...</td>\n",
       "      <td>2.059615</td>\n",
       "      <td>0.305170</td>\n",
       "      <td>no</td>\n",
       "      <td>4.456565</td>\n",
       "      <td>NaN</td>\n",
       "      <td>8.754572</td>\n",
       "      <td>7.810979</td>\n",
       "      <td>0</td>\n",
       "      <td>yes</td>\n",
       "      <td>109.345215</td>\n",
       "    </tr>\n",
       "    <tr>\n",
       "      <th>3</th>\n",
       "      <td>0</td>\n",
       "      <td>3.925235</td>\n",
       "      <td>19.901257</td>\n",
       "      <td>Tuesday</td>\n",
       "      <td>1.763602</td>\n",
       "      <td>-0.251926</td>\n",
       "      <td>-0.827461</td>\n",
       "      <td>-0.0057%</td>\n",
       "      <td>-0.520756</td>\n",
       "      <td>1.825586</td>\n",
       "      <td>...</td>\n",
       "      <td>0.899392</td>\n",
       "      <td>5.971782</td>\n",
       "      <td>no</td>\n",
       "      <td>4.100022</td>\n",
       "      <td>1.151085</td>\n",
       "      <td>NaN</td>\n",
       "      <td>9.178325</td>\n",
       "      <td>1</td>\n",
       "      <td>yes</td>\n",
       "      <td>103.021970</td>\n",
       "    </tr>\n",
       "    <tr>\n",
       "      <th>4</th>\n",
       "      <td>0</td>\n",
       "      <td>2.868802</td>\n",
       "      <td>22.202473</td>\n",
       "      <td>Sunday</td>\n",
       "      <td>3.405119</td>\n",
       "      <td>0.083162</td>\n",
       "      <td>1.381504</td>\n",
       "      <td>0.0109%</td>\n",
       "      <td>-0.732739</td>\n",
       "      <td>2.151990</td>\n",
       "      <td>...</td>\n",
       "      <td>3.003595</td>\n",
       "      <td>1.046096</td>\n",
       "      <td>yes</td>\n",
       "      <td>3.234033</td>\n",
       "      <td>2.074927</td>\n",
       "      <td>9.987006</td>\n",
       "      <td>11.702664</td>\n",
       "      <td>0</td>\n",
       "      <td>yes</td>\n",
       "      <td>92.925935</td>\n",
       "    </tr>\n",
       "  </tbody>\n",
       "</table>\n",
       "<p>5 rows × 101 columns</p>\n",
       "</div>"
      ],
      "text/plain": [
       "   y        x1         x2        x3        x4        x5        x6        x7  \\\n",
       "0  0  0.165254  18.060003       Wed  1.077380 -1.339233 -1.584341   0.0062%   \n",
       "1  1  2.441471  18.416307    Friday  1.482586  0.920817 -0.759931   0.0064%   \n",
       "2  1  4.427278  19.188092  Thursday  0.145652  0.366093  0.709962   -8e-04%   \n",
       "3  0  3.925235  19.901257   Tuesday  1.763602 -0.251926 -0.827461  -0.0057%   \n",
       "4  0  2.868802  22.202473    Sunday  3.405119  0.083162  1.381504   0.0109%   \n",
       "\n",
       "         x8        x9  ...       x91       x92  x93       x94       x95  \\\n",
       "0  0.220784  1.816481  ... -0.397427  0.909479   no  5.492487       NaN   \n",
       "1  1.192441  3.513950  ...  0.656651  9.093466   no  3.346429  4.321172   \n",
       "2  0.952323  0.782974  ...  2.059615  0.305170   no  4.456565       NaN   \n",
       "3 -0.520756  1.825586  ...  0.899392  5.971782   no  4.100022  1.151085   \n",
       "4 -0.732739  2.151990  ...  3.003595  1.046096  yes  3.234033  2.074927   \n",
       "\n",
       "         x96        x97  x98  x99        x100  \n",
       "0  10.255579   7.627730    0  yes  104.251338  \n",
       "1        NaN  10.505284    1  yes  101.230645  \n",
       "2   8.754572   7.810979    0  yes  109.345215  \n",
       "3        NaN   9.178325    1  yes  103.021970  \n",
       "4   9.987006  11.702664    0  yes   92.925935  \n",
       "\n",
       "[5 rows x 101 columns]"
      ]
     },
     "execution_count": 9,
     "metadata": {},
     "output_type": "execute_result"
    }
   ],
   "source": [
    "df.head()"
   ]
  },
  {
   "cell_type": "markdown",
   "metadata": {},
   "source": [
    "# Check out data for duplicates\n"
   ]
  },
  {
   "cell_type": "code",
   "execution_count": 10,
   "metadata": {},
   "outputs": [
    {
     "name": "stdout",
     "output_type": "stream",
     "text": [
      "False\n"
     ]
    }
   ],
   "source": [
    "# calculate duplicates\n",
    "dups = df.duplicated()\n",
    "# report if there are any duplicates\n",
    "print(dups.any())\n",
    "# # list all duplicate rows\n",
    "# print(df[dups])"
   ]
  },
  {
   "cell_type": "markdown",
   "metadata": {},
   "source": [
    "No duplicates found"
   ]
  },
  {
   "cell_type": "code",
   "execution_count": 11,
   "metadata": {},
   "outputs": [
    {
     "data": {
      "text/plain": [
       "float64    86\n",
       "object     12\n",
       "int64       3\n",
       "dtype: int64"
      ]
     },
     "execution_count": 11,
     "metadata": {},
     "output_type": "execute_result"
    }
   ],
   "source": [
    "df.dtypes.value_counts()"
   ]
  },
  {
   "cell_type": "markdown",
   "metadata": {},
   "source": [
    "there are 3 types of data in the data set"
   ]
  },
  {
   "cell_type": "markdown",
   "metadata": {},
   "source": [
    "# Check out the object columns, number of uniques and number of NaNs"
   ]
  },
  {
   "cell_type": "code",
   "execution_count": 12,
   "metadata": {},
   "outputs": [
    {
     "name": "stdout",
     "output_type": "stream",
     "text": [
      "columns_obj_dtype =  ['x3', 'x7', 'x19', 'x24', 'x31', 'x33', 'x39', 'x60', 'x65', 'x77', 'x93', 'x99']\n",
      "====================================================================================================\n",
      "number of NaNs in  x24 = 9.64 % \n",
      "Number of uniqs = 2 \n",
      "\n",
      "number of NaNs in  x33 = 17.9275 % \n",
      "Number of uniqs = 51 \n",
      "\n",
      "number of NaNs in  x77 = 23.1425 % \n",
      "Number of uniqs = 7 \n",
      "\n",
      "number of NaNs in  x99 = 32.09 % \n",
      "Number of uniqs = 1 \n",
      "\n",
      "number_of_Obj_cols_with_nan  4\n"
     ]
    }
   ],
   "source": [
    "columns_obj_dtype = []\n",
    "for col in df.columns:\n",
    "    if df[col].dtypes == 'object':\n",
    "        columns_obj_dtype.append(col)\n",
    "print('columns_obj_dtype = ', columns_obj_dtype)\n",
    "\n",
    "print(100*'=')\n",
    "\n",
    "\n",
    "number_of_Obj_cols_with_nan = 0\n",
    "columns_obj_dtype_NaN = []\n",
    "\n",
    "\n",
    "for col in columns_obj_dtype:\n",
    "    if df[col].isnull().sum() != 0:\n",
    "        number_of_Obj_cols_with_nan = number_of_Obj_cols_with_nan + 1\n",
    "        \n",
    "        columns_obj_dtype_NaN.append(col)\n",
    "        \n",
    "        print('number of NaNs in ', col, '=', (df[col].isnull().sum())*100/(df.shape[0]), '%',\n",
    "              '\\nNumber of uniqs =', df[col].nunique(), '\\n')\n",
    "print('number_of_Obj_cols_with_nan ', number_of_Obj_cols_with_nan)"
   ]
  },
  {
   "cell_type": "markdown",
   "metadata": {},
   "source": [
    "---\n",
    "we do have 4 columns containing NaN with obj dtype.\n",
    "\n",
    "Visualize the columns at the following bar plot."
   ]
  },
  {
   "cell_type": "code",
   "execution_count": 13,
   "metadata": {},
   "outputs": [
    {
     "data": {
      "image/png": "[encoded data removed]",
      "text/plain": [
       "<Figure size 1080x432 with 1 Axes>"
      ]
     },
     "metadata": {
      "image/png": {
       "height": 383,
       "width": 891
      },
      "needs_background": "light"
     },
     "output_type": "display_data"
    }
   ],
   "source": [
    "(df[columns_obj_dtype_NaN].isnull().sum()*100/(df.shape[0])).plot(kind='bar',figsize=(15,6))\n",
    "plt.xlabel('columns (dtype = Obj) with NaN')\n",
    "plt.ylabel('NaN %')\n",
    "plt.ylim(0,100)\n",
    "plt.show()"
   ]
  },
  {
   "cell_type": "code",
   "execution_count": null,
   "metadata": {},
   "outputs": [],
   "source": []
  },
  {
   "cell_type": "code",
   "execution_count": 14,
   "metadata": {},
   "outputs": [
    {
     "data": {
      "text/plain": [
       "x3        14\n",
       "x7       663\n",
       "x19    40000\n",
       "x24        2\n",
       "x31        2\n",
       "x33       51\n",
       "x39        1\n",
       "x60       12\n",
       "x65        5\n",
       "x77        7\n",
       "x93        2\n",
       "x99        1\n",
       "dtype: int64"
      ]
     },
     "execution_count": 14,
     "metadata": {},
     "output_type": "execute_result"
    }
   ],
   "source": [
    "df[columns_obj_dtype].nunique()"
   ]
  },
  {
   "cell_type": "markdown",
   "metadata": {},
   "source": [
    "# Checking out categorical columns one by one and make sure about values and types and etc"
   ]
  },
  {
   "cell_type": "markdown",
   "metadata": {},
   "source": [
    "check out the 'x3' column"
   ]
  },
  {
   "cell_type": "code",
   "execution_count": 15,
   "metadata": {},
   "outputs": [
    {
     "data": {
      "text/plain": [
       "array(['Wed', 'Friday', 'Thursday', 'Tuesday', 'Sunday', 'Saturday',\n",
       "       'Sat', 'Wednesday', 'Sun', 'Tue', 'Thur', 'Monday', 'Fri', 'Mon'],\n",
       "      dtype=object)"
      ]
     },
     "execution_count": 15,
     "metadata": {},
     "output_type": "execute_result"
    }
   ],
   "source": [
    "df['x3'].unique()"
   ]
  },
  {
   "cell_type": "markdown",
   "metadata": {},
   "source": [
    "## x3 is nominal categorical feature (needs OneHotEncoder transformer)"
   ]
  },
  {
   "cell_type": "markdown",
   "metadata": {},
   "source": [
    "check out the 'x7' column"
   ]
  },
  {
   "cell_type": "code",
   "execution_count": 16,
   "metadata": {},
   "outputs": [
    {
     "data": {
      "text/plain": [
       "array(['0.0062%', '0.0064%', '-8e-04%', '-0.0057%', '0.0109%', '0.0079%',\n",
       "       '0.0174%', '-0.0106%', '0.0032%', '0.0091%', '-0.0052%',\n",
       "       '-0.0025%', '-0.0045%', '0.0068%', '-0.0137%', '-0.0014%',\n",
       "       '-0.0013%', '0.0066%', '0.0097%', '-0.0086%', '0.0023%',\n",
       "       '-0.0023%', '-0.0107%', '-0.0134%', '0.0058%', '-2e-04%',\n",
       "       '-0.0033%', '-0.0172%', '-0.0026%', '-0.0118%', '0.0105%',\n",
       "       '-0.0055%', '0.0095%', '0.0026%', '-0.0051%', '0.0054%',\n",
       "       '-0.0167%', '0.0015%', '-0.0037%', '0.0011%', '-0.0097%',\n",
       "       '-0.0016%', '-0.0155%', '0.015%', '-0.0032%', '2e-04%', '0.0122%',\n",
       "       '0.0082%', '-0.0054%', '-0.0017%', '0.0013%', '0.0025%',\n",
       "       '-0.0021%', '-0.017%', '-0.005%', '0.0014%', '-0.0103%', '-0.018%',\n",
       "       '-0.0077%', '-0.0115%', '-0.0018%', '6e-04%', '-0.0169%',\n",
       "       '0.0051%', '0.0093%', '-0.0043%', '0.0157%', '-0.0012%', '0.0056%',\n",
       "       '-0.0035%', '0.005%', '0.0073%', '0.0127%', '0.0098%', '-0.0022%',\n",
       "       '-0.0146%', '-0.0168%', '0.001%', '-0.016%', '0.0049%', '0.0034%',\n",
       "       '0.0043%', '0.0017%', '-0.0179%', '0.007%', '-0.003%', '-0.0059%',\n",
       "       '-0.004%', '0.017%', '0.0045%', '0.0052%', '-0.006%', '-0.0159%',\n",
       "       '-0.011%', '0.004%', '0.0149%', '0.0148%', '0.0203%', '-0.0019%',\n",
       "       '0.0061%', '-3e-04%', '-0.0176%', '-0.0102%', '0.0094%',\n",
       "       '-0.0131%', '-0.0027%', '5e-04%', '0.0048%', '-0.0058%',\n",
       "       '-0.0068%', '0.0229%', '0.0087%', '0.0212%', '0.0024%', '0.0019%',\n",
       "       '-0.0063%', '0.0112%', '0.0089%', '0.002%', '0.0262%', '-0.0064%',\n",
       "       '-1e-04%', '0.0154%', '-0.009%', '3e-04%', '0.0193%', '-0.0114%',\n",
       "       '-0.0105%', '-0.0165%', '0.0021%', '0.0039%', '0.0088%', '0.0156%',\n",
       "       '0.0133%', '-0.0073%', '-0.001%', '0.0162%', '0.0136%', '0.0092%',\n",
       "       '-0.0111%', '0.0219%', '0.006%', '0.0171%', '-0.0062%', '0.0146%',\n",
       "       '0.0044%', '-0.012%', '-0.0042%', '0.0113%', '0.009%', '0.0029%',\n",
       "       '-0.0074%', '-0.0121%', '0.0099%', '-0.0083%', '-0.0109%',\n",
       "       '-0.0138%', '-0.0071%', '0.0038%', '-0.022%', '0.018%', '0.0074%',\n",
       "       '1e-04%', '0.0114%', '9e-04%', '0.0028%', '-0.0135%', '-0.0089%',\n",
       "       '0.0167%', '0.0047%', '0.0164%', '0.0216%', '-0.0092%', '0.0081%',\n",
       "       '0.0103%', '-0.0181%', '-0.0195%', '-0.0213%', '0.0072%',\n",
       "       '0.0031%', '0.0111%', '-0.0041%', '-0.007%', '0.0059%', '0.0077%',\n",
       "       '0.0071%', '-0.0153%', '-0.0185%', '0.0053%', '-0.0117%',\n",
       "       '0.0027%', '0.01%', '0.0168%', '-0.0184%', '0.0022%', '0.0192%',\n",
       "       '0.0125%', '-0.0156%', '0.0159%', '-0.014%', '0.0085%', '-0.021%',\n",
       "       '-0.0183%', '-0.0036%', '-0.0149%', '-0.0053%', '0.0132%',\n",
       "       '-0.0145%', '0.0057%', '0.0151%', '0.023%', '0.0158%', '0.0108%',\n",
       "       '-0.0075%', '-0.0125%', '-0.0048%', '-0.0087%', '-0.0015%',\n",
       "       '0.0172%', '0.0115%', '-0.0024%', '-9e-04%', '-0.0108%', '0.0037%',\n",
       "       '0.0102%', '-0.0056%', '-0.002%', '-0.0067%', '0.0207%',\n",
       "       '-0.0157%', '4e-04%', '-0.0112%', '0.0041%', '0.0145%', '-0.0124%',\n",
       "       '-6e-04%', '0.003%', '0.0069%', '0.0065%', '-0.0273%', '-0.0116%',\n",
       "       '0.0124%', '-0.0275%', '-0.0226%', '0.0078%', '-0.0038%',\n",
       "       '0.0138%', '-0.025%', '0.0144%', '-0.0126%', '0.0063%', '0.0067%',\n",
       "       '0.0101%', '0.0033%', '0.0096%', '-0.0093%', '-0.0031%', '7e-04%',\n",
       "       '0.0042%', '-0.0082%', '-0.0029%', '0.0012%', '-0.0204%',\n",
       "       '-0.0046%', '0.0046%', '0.0185%', '-0.0207%', '-0.0151%',\n",
       "       '-0.0127%', '0.0116%', '-0.0163%', '-0.0094%', '-0.0061%',\n",
       "       '-0.0136%', '-0.0044%', '-0.0133%', '-0.0078%', '0%', '0.0215%',\n",
       "       '0.0121%', '-0.0079%', '-0.0095%', '-0.013%', '-7e-04%',\n",
       "       '-0.0143%', '-0.02%', '0.008%', '-0.0202%', '-0.0148%', '0.0161%',\n",
       "       '0.016%', '-0.0081%', '0.0118%', '0.0175%', '-0.0076%', '0.0265%',\n",
       "       '-0.0178%', '0.0226%', '0.0153%', '-0.0122%', '0.0165%', '0.0104%',\n",
       "       '0.0209%', '-0.0099%', '0.0222%', '0.0224%', '0.012%', '0.0036%',\n",
       "       '-0.0113%', '-0.0182%', '-0.0123%', '0.0083%', '0.0152%',\n",
       "       '0.0183%', '-0.0066%', '-0.0161%', '0.0139%', '-0.0098%',\n",
       "       '-0.0241%', '0.0288%', '0.0076%', '0.0086%', '0.011%', '-0.0132%',\n",
       "       '-0.01%', '-0.0144%', '-0.0047%', '-0.0119%', '-0.0034%',\n",
       "       '0.0018%', '-0.0011%', '0.014%', '-0.008%', '-0.0085%', '0.0084%',\n",
       "       '0.0107%', '0.0208%', '0.0142%', '0.0135%', '0.022%', '0.0016%',\n",
       "       '-0.0173%', '0.0055%', '0.0117%', '0.021%', '0.0137%', '-0.0141%',\n",
       "       '-0.0039%', '-0.0177%', '0.0232%', '-0.0292%', '0.0247%',\n",
       "       '0.0176%', '-0.0186%', '0.0035%', '0.0295%', '0.0188%', '0.0199%',\n",
       "       '-0.0262%', '-0.0259%', '-0.0272%', '0.0213%', '-0.0049%',\n",
       "       '-0.0193%', '-0.0028%', '0.0272%', '-0.0069%', '-0.0198%',\n",
       "       '-0.0166%', '0.0264%', '-5e-04%', '0.0301%', '-0.0171%', '0.0106%',\n",
       "       '0.0254%', '0.0195%', '0.0143%', '-0.0152%', '0.0198%', '0.0123%',\n",
       "       '0.0181%', '-0.0129%', '-0.0206%', '0.0266%', '-0.0084%',\n",
       "       '-0.0101%', '-0.0222%', '-0.0154%', '-0.0065%', '0.0267%',\n",
       "       '0.0255%', '0.0119%', '8e-04%', '-4e-04%', '-0.0277%', '0.0169%',\n",
       "       '-0.0091%', '0.0177%', '0.0184%', '-0.0276%', '-0.0235%',\n",
       "       '0.0134%', '0.0128%', '-0.0203%', '-0.0175%', '0.0189%', '0.0242%',\n",
       "       '0.0129%', '-0.0147%', '0.0131%', '0.0141%', '-0.015%', '0.0201%',\n",
       "       '-0.0142%', '0.0179%', '-0.026%', '0.0182%', '0.0335%', '-0.0197%',\n",
       "       '0.0206%', '-0.0139%', '-0.0254%', '0.0187%', '0.029%', '-0.0072%',\n",
       "       '-0.0208%', '0.0166%', '-0.0162%', '0.0231%', '0.0163%',\n",
       "       '-0.0194%', '-0.0221%', '0.0233%', '-0.0244%', '-0.0104%',\n",
       "       '0.0126%', '-0.0164%', '0.032%', '-0.0199%', '-0.0322%', '0.0173%',\n",
       "       '0.0075%', '-0.0265%', '-0.0128%', '-0.0158%', '-0.0249%',\n",
       "       '-0.0201%', '0.0256%', '-0.0188%', '-0.023%', '-0.0238%',\n",
       "       '-0.0214%', '-0.0278%', '0.0191%', '0.02%', '0.0194%', '-0.0228%',\n",
       "       '-0.0245%', '-0.0242%', '-0.0223%', '-0.019%', '0.0269%',\n",
       "       '0.0314%', '-0.0217%', '0.0235%', '0.0196%', '0.0323%', '0.0147%',\n",
       "       '0.0234%', '0.024%', '-0.0196%', '0.0204%', '-0.0192%', '0.026%',\n",
       "       '0.0305%', '-0.0174%', '0.0211%', '-0.0209%', '-0.0224%',\n",
       "       '-0.0281%', '-0.0247%', '-0.0096%', '0.0202%', '0.0227%',\n",
       "       '-0.0236%', '-0.0218%', '-0.0252%', '0.019%', '0.0155%', '0.0221%',\n",
       "       '-0.0215%', '0.0284%', '0.0251%', '-0.0191%', '-0.0219%',\n",
       "       '0.0178%', '0.0241%', '0.0186%', '0.0228%', '-0.0187%', '-0.0233%',\n",
       "       '0.0214%', '-0.0261%', '0.0271%', '-0.0271%', '-0.0269%',\n",
       "       '0.0274%', '0.0252%', '0.0225%', '-0.0257%', '-0.0308%', '0.0331%',\n",
       "       '-0.0234%', '0.0263%', '-0.0088%', '-0.0189%', '-0.0392%',\n",
       "       '-0.0297%', '-0.0211%', '0.0281%', '0.0243%', '0.0258%',\n",
       "       '-0.0264%', '-0.0246%', '0.0197%', '-0.0237%', '-0.0336%',\n",
       "       '0.0237%', '0.0217%', '0.013%', '-0.0314%', '-0.0216%', '0.0238%',\n",
       "       '0.0286%', '-0.0289%', '-0.0263%', '-0.0258%', '-0.0286%',\n",
       "       '-0.031%', '0.0268%', '0.0218%', '-0.0266%', '-0.0319%', '0.027%',\n",
       "       '-0.0205%', '-0.0282%', '-0.0225%', '0.028%', '-0.0255%', '0.025%',\n",
       "       '-0.0239%', '0.0297%', '0.0245%', '0.0244%', '-0.024%', '0.0249%',\n",
       "       '0.0223%', '0.0257%', '0.0296%', '-0.0227%', '0.0303%', '0.0248%',\n",
       "       '-0.0298%', '-0.0248%', '0.0334%', '-0.0327%', '-0.0232%',\n",
       "       '0.0277%', '0.0253%', '0.0246%', '0.0294%', '0.0328%', '-0.0212%',\n",
       "       '0.0239%', '0.0287%', '0.0311%', '0.0321%', '-0.028%', '0.0261%',\n",
       "       '-0.0283%', '0.0346%', '-0.0285%', '0.0359%', '0.0317%', '0.0278%',\n",
       "       '0.0312%', '0.0302%', '-0.0315%', '-0.0229%', '0.0205%', '0.0304%',\n",
       "       '-0.0279%', '0.0356%', '-0.0299%', '0.0298%', '-0.0345%',\n",
       "       '-0.0303%', '0.0339%', '0.0273%', '0.0236%', '0.0315%', '-0.0316%',\n",
       "       '-0.0307%', '-0.0323%', '-0.0253%', '-0.0294%', '-0.0231%',\n",
       "       '-0.0251%', '0.0292%', '-0.0332%', '0.0279%', '-0.0291%',\n",
       "       '0.0306%', '-0.0335%', '0.0283%', '0.0319%', '-0.0378%',\n",
       "       '-0.0267%', '0.0379%', '0.031%', '-0.0438%', '0.0349%', '0.0293%',\n",
       "       '-0.0288%', '-0.0301%', '-0.0268%', '-0.0302%', '0.0299%',\n",
       "       '0.0259%', '0.0337%', '0.0316%', '0.0276%', '-0.0408%', '0.0291%',\n",
       "       '-0.027%', '-0.0312%', '-0.0412%', '-0.0313%', '-0.029%',\n",
       "       '-0.0339%', '-0.0406%', '0.0318%', '-0.0328%', '0.0342%',\n",
       "       '0.0282%', '-0.0405%', '-0.0287%', '-0.0274%', '-0.0296%', '0.03%',\n",
       "       '0.0324%', '0.0344%', '-0.0324%', '0.0289%', '0.0325%', '-0.0243%',\n",
       "       '-0.0338%', '-0.0318%', '-0.0311%', '-0.0256%', '-0.0373%',\n",
       "       '0.0354%', '-0.0293%'], dtype=object)"
      ]
     },
     "execution_count": 16,
     "metadata": {},
     "output_type": "execute_result"
    }
   ],
   "source": [
    "df['x7'].unique()"
   ]
  },
  {
   "cell_type": "markdown",
   "metadata": {},
   "source": [
    "## x7 column: the % sign should be cleaned from strings and I need to change the dtype and introduce it as numeric feature."
   ]
  },
  {
   "cell_type": "code",
   "execution_count": 17,
   "metadata": {},
   "outputs": [],
   "source": [
    "df['x7'] = df['x7'].str.replace('%','')"
   ]
  },
  {
   "cell_type": "code",
   "execution_count": 18,
   "metadata": {},
   "outputs": [
    {
     "data": {
      "text/plain": [
       "dtype('O')"
      ]
     },
     "execution_count": 18,
     "metadata": {},
     "output_type": "execute_result"
    }
   ],
   "source": [
    "df['x7'].dtypes"
   ]
  },
  {
   "cell_type": "code",
   "execution_count": 19,
   "metadata": {},
   "outputs": [],
   "source": [
    "df['x7'] = df['x7'].astype('float64')"
   ]
  },
  {
   "cell_type": "code",
   "execution_count": 20,
   "metadata": {},
   "outputs": [
    {
     "data": {
      "text/plain": [
       "dtype('float64')"
      ]
     },
     "execution_count": 20,
     "metadata": {},
     "output_type": "execute_result"
    }
   ],
   "source": [
    "df['x7'].dtypes"
   ]
  },
  {
   "cell_type": "markdown",
   "metadata": {},
   "source": [
    "check out the 'x19' column"
   ]
  },
  {
   "cell_type": "code",
   "execution_count": 21,
   "metadata": {},
   "outputs": [
    {
     "data": {
      "text/plain": [
       "0        $-908.650758424405\n",
       "1         $-1864.9622875143\n",
       "2        $-543.187402955527\n",
       "3        $-182.626380634258\n",
       "4         $967.007090837503\n",
       "                ...        \n",
       "39995     $3750.51991954505\n",
       "39996     $448.867118077561\n",
       "39997      $834.95775080472\n",
       "39998    $-48.1031003332715\n",
       "39999     $96.0017151741518\n",
       "Name: x19, Length: 40000, dtype: object"
      ]
     },
     "execution_count": 21,
     "metadata": {},
     "output_type": "execute_result"
    }
   ],
   "source": [
    "df['x19']"
   ]
  },
  {
   "cell_type": "markdown",
   "metadata": {},
   "source": [
    "## x19 column: the % sign should be cleaned from strings and I need to change the dtype and introduce it as numeric feature."
   ]
  },
  {
   "cell_type": "code",
   "execution_count": 22,
   "metadata": {},
   "outputs": [],
   "source": [
    "df['x19'] = df['x19'].str.replace('$','')"
   ]
  },
  {
   "cell_type": "code",
   "execution_count": 23,
   "metadata": {},
   "outputs": [
    {
     "data": {
      "text/plain": [
       "dtype('O')"
      ]
     },
     "execution_count": 23,
     "metadata": {},
     "output_type": "execute_result"
    }
   ],
   "source": [
    "df['x19'].dtypes"
   ]
  },
  {
   "cell_type": "code",
   "execution_count": 24,
   "metadata": {},
   "outputs": [],
   "source": [
    "df['x19'] = df['x19'].astype('float64')"
   ]
  },
  {
   "cell_type": "code",
   "execution_count": 25,
   "metadata": {},
   "outputs": [
    {
     "data": {
      "text/plain": [
       "dtype('float64')"
      ]
     },
     "execution_count": 25,
     "metadata": {},
     "output_type": "execute_result"
    }
   ],
   "source": [
    "df['x19'].dtypes"
   ]
  },
  {
   "cell_type": "markdown",
   "metadata": {},
   "source": [
    "check out the 'x24' column"
   ]
  },
  {
   "cell_type": "code",
   "execution_count": 26,
   "metadata": {},
   "outputs": [
    {
     "data": {
      "text/plain": [
       "0        female\n",
       "1          male\n",
       "2          male\n",
       "3          male\n",
       "4          male\n",
       "          ...  \n",
       "39995    female\n",
       "39996      male\n",
       "39997      male\n",
       "39998      male\n",
       "39999       NaN\n",
       "Name: x24, Length: 40000, dtype: object"
      ]
     },
     "execution_count": 26,
     "metadata": {},
     "output_type": "execute_result"
    }
   ],
   "source": [
    "df['x24']"
   ]
  },
  {
   "cell_type": "markdown",
   "metadata": {},
   "source": [
    "## x24 column: is nominal category and needs to be transformed using One Hot Encoding"
   ]
  },
  {
   "cell_type": "markdown",
   "metadata": {},
   "source": [
    "check out the x31 column"
   ]
  },
  {
   "cell_type": "code",
   "execution_count": 27,
   "metadata": {},
   "outputs": [
    {
     "data": {
      "text/plain": [
       "0         no\n",
       "1         no\n",
       "2         no\n",
       "3         no\n",
       "4        yes\n",
       "        ... \n",
       "39995     no\n",
       "39996    yes\n",
       "39997    yes\n",
       "39998     no\n",
       "39999     no\n",
       "Name: x31, Length: 40000, dtype: object"
      ]
     },
     "execution_count": 27,
     "metadata": {},
     "output_type": "execute_result"
    }
   ],
   "source": [
    "df['x31']"
   ]
  },
  {
   "cell_type": "markdown",
   "metadata": {},
   "source": [
    "## x31 column: is nominal category and needs to be transformed using One Hot Encoding"
   ]
  },
  {
   "cell_type": "markdown",
   "metadata": {},
   "source": [
    "check out the x33 column"
   ]
  },
  {
   "cell_type": "code",
   "execution_count": 28,
   "metadata": {},
   "outputs": [
    {
     "data": {
      "text/plain": [
       "0         Colorado\n",
       "1        Tennessee\n",
       "2            Texas\n",
       "3        Minnesota\n",
       "4         New York\n",
       "           ...    \n",
       "39995          NaN\n",
       "39996     Illinois\n",
       "39997          NaN\n",
       "39998         Ohio\n",
       "39999      Florida\n",
       "Name: x33, Length: 40000, dtype: object"
      ]
     },
     "execution_count": 28,
     "metadata": {},
     "output_type": "execute_result"
    }
   ],
   "source": [
    "df['x33']"
   ]
  },
  {
   "cell_type": "markdown",
   "metadata": {},
   "source": [
    "## x33 column: is nominal category and needs to be transformed using One Hot Encoding"
   ]
  },
  {
   "cell_type": "markdown",
   "metadata": {},
   "source": [
    "check out the x39 column"
   ]
  },
  {
   "cell_type": "code",
   "execution_count": 29,
   "metadata": {},
   "outputs": [
    {
     "data": {
      "text/plain": [
       "0        5-10 miles\n",
       "1        5-10 miles\n",
       "2        5-10 miles\n",
       "3        5-10 miles\n",
       "4        5-10 miles\n",
       "            ...    \n",
       "39995    5-10 miles\n",
       "39996    5-10 miles\n",
       "39997    5-10 miles\n",
       "39998    5-10 miles\n",
       "39999    5-10 miles\n",
       "Name: x39, Length: 40000, dtype: object"
      ]
     },
     "execution_count": 29,
     "metadata": {},
     "output_type": "execute_result"
    }
   ],
   "source": [
    "df['x39']"
   ]
  },
  {
   "cell_type": "markdown",
   "metadata": {},
   "source": [
    "## Drop the column x39"
   ]
  },
  {
   "cell_type": "markdown",
   "metadata": {},
   "source": [
    "check out the x60 column"
   ]
  },
  {
   "cell_type": "code",
   "execution_count": 30,
   "metadata": {},
   "outputs": [
    {
     "data": {
      "text/plain": [
       "0           August\n",
       "1            April\n",
       "2        September\n",
       "3        September\n",
       "4          January\n",
       "           ...    \n",
       "39995         July\n",
       "39996         July\n",
       "39997       August\n",
       "39998     December\n",
       "39999      January\n",
       "Name: x60, Length: 40000, dtype: object"
      ]
     },
     "execution_count": 30,
     "metadata": {},
     "output_type": "execute_result"
    }
   ],
   "source": [
    "df['x60']"
   ]
  },
  {
   "cell_type": "markdown",
   "metadata": {},
   "source": [
    "## x60 is nominal and OneHotEncoder should be used to transfer this column"
   ]
  },
  {
   "cell_type": "markdown",
   "metadata": {},
   "source": [
    "check out the x65 column"
   ]
  },
  {
   "cell_type": "code",
   "execution_count": 31,
   "metadata": {},
   "outputs": [
    {
     "data": {
      "text/plain": [
       "0            farmers\n",
       "1           allstate\n",
       "2              geico\n",
       "3              geico\n",
       "4              geico\n",
       "            ...     \n",
       "39995        farmers\n",
       "39996    progressive\n",
       "39997          geico\n",
       "39998        farmers\n",
       "39999    progressive\n",
       "Name: x65, Length: 40000, dtype: object"
      ]
     },
     "execution_count": 31,
     "metadata": {},
     "output_type": "execute_result"
    }
   ],
   "source": [
    "df['x65']"
   ]
  },
  {
   "cell_type": "markdown",
   "metadata": {},
   "source": [
    "## x65 is nominal and OneHotEncoder should be used to transfer this column"
   ]
  },
  {
   "cell_type": "markdown",
   "metadata": {},
   "source": [
    "check out the x77 column"
   ]
  },
  {
   "cell_type": "code",
   "execution_count": 32,
   "metadata": {},
   "outputs": [
    {
     "data": {
      "text/plain": [
       "0        mercedes\n",
       "1        mercedes\n",
       "2          subaru\n",
       "3          nissan\n",
       "4          toyota\n",
       "           ...   \n",
       "39995         NaN\n",
       "39996        ford\n",
       "39997        ford\n",
       "39998         NaN\n",
       "39999      toyota\n",
       "Name: x77, Length: 40000, dtype: object"
      ]
     },
     "execution_count": 32,
     "metadata": {},
     "output_type": "execute_result"
    }
   ],
   "source": [
    "df['x77']"
   ]
  },
  {
   "cell_type": "markdown",
   "metadata": {},
   "source": [
    "## x77 is nominal and OneHotEncoder should be used to transfer this column\n"
   ]
  },
  {
   "cell_type": "markdown",
   "metadata": {},
   "source": [
    "check out the x93 column"
   ]
  },
  {
   "cell_type": "code",
   "execution_count": 33,
   "metadata": {},
   "outputs": [
    {
     "data": {
      "text/plain": [
       "0         no\n",
       "1         no\n",
       "2         no\n",
       "3         no\n",
       "4        yes\n",
       "        ... \n",
       "39995     no\n",
       "39996     no\n",
       "39997     no\n",
       "39998     no\n",
       "39999     no\n",
       "Name: x93, Length: 40000, dtype: object"
      ]
     },
     "execution_count": 33,
     "metadata": {},
     "output_type": "execute_result"
    }
   ],
   "source": [
    "df['x93']"
   ]
  },
  {
   "cell_type": "markdown",
   "metadata": {},
   "source": [
    "## x93 is nominal and OneHotEncoder should be used to transfer this column\n"
   ]
  },
  {
   "cell_type": "markdown",
   "metadata": {},
   "source": [
    "check out the x99 (it has just one value - it is usedful)"
   ]
  },
  {
   "cell_type": "code",
   "execution_count": 34,
   "metadata": {},
   "outputs": [
    {
     "data": {
      "text/plain": [
       "0        yes\n",
       "1        yes\n",
       "2        yes\n",
       "3        yes\n",
       "4        yes\n",
       "        ... \n",
       "39995    yes\n",
       "39996    yes\n",
       "39997    yes\n",
       "39998    yes\n",
       "39999    NaN\n",
       "Name: x99, Length: 40000, dtype: object"
      ]
     },
     "execution_count": 34,
     "metadata": {},
     "output_type": "execute_result"
    }
   ],
   "source": [
    "df['x99']"
   ]
  },
  {
   "cell_type": "markdown",
   "metadata": {},
   "source": [
    "## X99 should be droped - it has just one category. The x24, x33, and x77 columns NaN values needs to be replaced by their mode.\n"
   ]
  },
  {
   "cell_type": "markdown",
   "metadata": {},
   "source": [
    "# Recap for categorical columns"
   ]
  },
  {
   "cell_type": "markdown",
   "metadata": {},
   "source": [
    "* x3 is nominal categorical feature (needs OneHotEncoder transformer)\n",
    "* x7 column: the % sign should be cleaned from strings and I need to change the dtype and introduce it as numeric feature.\n",
    "* x19 column: the % sign should be cleaned from strings and I need to change the dtype and introduce it as numeric feature.\n",
    "* x24 column: is nominal category and needs to be transformed using One Hot Encoding\n",
    "* x31 column: is nominal category and needs to be transformed using One Hot Encoding\n",
    "* x33 column: is nominal category and needs to be transformed using One Hot Encoding\n",
    "* x39 should be droped the column \n",
    "* x60 is nominal and OneHotEncoder should be used to transfer this column\n",
    "* x65 is nominal and OneHotEncoder should be used to transfer this column\n",
    "* x77 is nominal and OneHotEncoder should be used to transfer this column\n",
    "* x93 is nominal and OneHotEncoder should be used to transfer this column\n",
    "* X99 should be droped - it has just one category. \n",
    "* The x24, x33, and x77 columns NaN values needs to be replaced by their mode.\n"
   ]
  },
  {
   "cell_type": "code",
   "execution_count": 50,
   "metadata": {},
   "outputs": [],
   "source": [
    "# OneHotEncoding columns\n",
    "cols_to_be_OneHotEncoded = ['x3','x24','x31','x33',\n",
    "                            'x60','x65','x77','x93']\n",
    "\n",
    "cols_to_be_droped = ['x39','x99']\n",
    "\n",
    "cols_to_be_imputed = ['x24','x33','x77']\n",
    "\n",
    "cols_to_be_edited_custom_fun = ['x7','x19']"
   ]
  },
  {
   "cell_type": "code",
   "execution_count": 42,
   "metadata": {},
   "outputs": [],
   "source": [
    "# column_trans = make_column_transformer(\n",
    "#             (OneHotEncoder(), cols_to_be_OneHotEncoded),\n",
    "#             (OneHotEncoder(), cols_to_be_OneHotEncoded),\n",
    "#             (OneHotEncoder(), cols_to_be_OneHotEncoded),\n",
    "#             remainder='passthrough')"
   ]
  },
  {
   "cell_type": "code",
   "execution_count": 39,
   "metadata": {},
   "outputs": [],
   "source": [
    "# import numpy as np\n",
    "# from sklearn.impute import SimpleImputer\n",
    "# imp_mean = SimpleImputer(missing_values=np.nan, strategy='mean')\n",
    "# imp_mean = SimpleImputer(missing_values=np.nan, strategy='most_frequent')"
   ]
  },
  {
   "cell_type": "code",
   "execution_count": 40,
   "metadata": {},
   "outputs": [],
   "source": [
    "# column_trans = make_column_transformer(\n",
    "#     (OneHotEncoder(), ['Sex', 'Embarked']),\n",
    "#     remainder='passthrough')\n",
    "# logreg = LogisticRegression(solver='lbfgs')\n",
    "\n",
    "\n",
    "# pipe = make_pipeline(column_trans, logreg)\n",
    "\n",
    "\n",
    "# cross_val_score(pipe, X, y, cv=5, scoring='accuracy').mean()\n",
    "\n",
    "\n",
    "# X_new = X.sample(5, random_state=99)\n",
    "# pipe.fit(X, y)\n",
    "# pipe.predict(X_new)"
   ]
  },
  {
   "cell_type": "code",
   "execution_count": null,
   "metadata": {},
   "outputs": [],
   "source": []
  },
  {
   "cell_type": "code",
   "execution_count": null,
   "metadata": {},
   "outputs": [],
   "source": []
  },
  {
   "cell_type": "code",
   "execution_count": null,
   "metadata": {},
   "outputs": [],
   "source": []
  },
  {
   "cell_type": "code",
   "execution_count": null,
   "metadata": {},
   "outputs": [],
   "source": []
  },
  {
   "cell_type": "code",
   "execution_count": null,
   "metadata": {},
   "outputs": [],
   "source": []
  },
  {
   "cell_type": "code",
   "execution_count": null,
   "metadata": {},
   "outputs": [],
   "source": []
  },
  {
   "cell_type": "code",
   "execution_count": null,
   "metadata": {},
   "outputs": [],
   "source": []
  },
  {
   "cell_type": "markdown",
   "metadata": {},
   "source": [
    "# Dealing with NaNs in numerical columns NaN"
   ]
  },
  {
   "cell_type": "markdown",
   "metadata": {},
   "source": [
    "Check out the numerics columns, number of uniques and number of NaNs"
   ]
  },
  {
   "cell_type": "code",
   "execution_count": 44,
   "metadata": {},
   "outputs": [
    {
     "name": "stdout",
     "output_type": "stream",
     "text": [
      "<class 'pandas.core.frame.DataFrame'>\n",
      "RangeIndex: 40000 entries, 0 to 39999\n",
      "Data columns (total 91 columns):\n",
      " #   Column  Non-Null Count  Dtype  \n",
      "---  ------  --------------  -----  \n",
      " 0   y       40000 non-null  int64  \n",
      " 1   x1      40000 non-null  float64\n",
      " 2   x2      40000 non-null  float64\n",
      " 3   x4      40000 non-null  float64\n",
      " 4   x5      37572 non-null  float64\n",
      " 5   x6      40000 non-null  float64\n",
      " 6   x7      40000 non-null  float64\n",
      " 7   x8      40000 non-null  float64\n",
      " 8   x9      40000 non-null  float64\n",
      " 9   x10     40000 non-null  float64\n",
      " 10  x11     34890 non-null  float64\n",
      " 11  x12     40000 non-null  float64\n",
      " 12  x13     40000 non-null  float64\n",
      " 13  x14     30136 non-null  float64\n",
      " 14  x15     40000 non-null  float64\n",
      " 15  x16     28788 non-null  float64\n",
      " 16  x17     40000 non-null  float64\n",
      " 17  x18     40000 non-null  float64\n",
      " 18  x19     40000 non-null  float64\n",
      " 19  x20     40000 non-null  float64\n",
      " 20  x21     40000 non-null  float64\n",
      " 21  x22     37613 non-null  float64\n",
      " 22  x23     40000 non-null  float64\n",
      " 23  x25     40000 non-null  float64\n",
      " 24  x26     37567 non-null  float64\n",
      " 25  x27     40000 non-null  float64\n",
      " 26  x28     40000 non-null  float64\n",
      " 27  x29     40000 non-null  float64\n",
      " 28  x30     7664 non-null   float64\n",
      " 29  x32     40000 non-null  float64\n",
      " 30  x34     40000 non-null  float64\n",
      " 31  x35     40000 non-null  float64\n",
      " 32  x36     40000 non-null  float64\n",
      " 33  x37     40000 non-null  float64\n",
      " 34  x38     37598 non-null  float64\n",
      " 35  x40     40000 non-null  float64\n",
      " 36  x41     30497 non-null  float64\n",
      " 37  x42     30271 non-null  float64\n",
      " 38  x43     40000 non-null  float64\n",
      " 39  x44     5753 non-null   float64\n",
      " 40  x45     31991 non-null  float64\n",
      " 41  x46     40000 non-null  float64\n",
      " 42  x47     40000 non-null  float64\n",
      " 43  x48     40000 non-null  float64\n",
      " 44  x49     27177 non-null  float64\n",
      " 45  x50     40000 non-null  float64\n",
      " 46  x51     40000 non-null  float64\n",
      " 47  x52     23818 non-null  float64\n",
      " 48  x53     40000 non-null  float64\n",
      " 49  x54     27272 non-null  float64\n",
      " 50  x55     22304 non-null  float64\n",
      " 51  x56     40000 non-null  float64\n",
      " 52  x57     7536 non-null   float64\n",
      " 53  x58     40000 non-null  float64\n",
      " 54  x59     40000 non-null  int64  \n",
      " 55  x61     32707 non-null  float64\n",
      " 56  x62     40000 non-null  float64\n",
      " 57  x63     37580 non-null  float64\n",
      " 58  x64     34899 non-null  float64\n",
      " 59  x66     40000 non-null  float64\n",
      " 60  x67     37575 non-null  float64\n",
      " 61  x68     37616 non-null  float64\n",
      " 62  x69     40000 non-null  float64\n",
      " 63  x70     40000 non-null  float64\n",
      " 64  x71     40000 non-null  float64\n",
      " 65  x72     40000 non-null  float64\n",
      " 66  x73     40000 non-null  float64\n",
      " 67  x74     27084 non-null  float64\n",
      " 68  x75     34755 non-null  float64\n",
      " 69  x76     34751 non-null  float64\n",
      " 70  x78     28627 non-null  float64\n",
      " 71  x79     37570 non-null  float64\n",
      " 72  x80     34744 non-null  float64\n",
      " 73  x81     40000 non-null  float64\n",
      " 74  x82     40000 non-null  float64\n",
      " 75  x83     37572 non-null  float64\n",
      " 76  x84     40000 non-null  float64\n",
      " 77  x85     30285 non-null  float64\n",
      " 78  x86     37593 non-null  float64\n",
      " 79  x87     40000 non-null  float64\n",
      " 80  x88     37669 non-null  float64\n",
      " 81  x89     29309 non-null  float64\n",
      " 82  x90     40000 non-null  float64\n",
      " 83  x91     34741 non-null  float64\n",
      " 84  x92     37565 non-null  float64\n",
      " 85  x94     37660 non-null  float64\n",
      " 86  x95     27396 non-null  float64\n",
      " 87  x96     33362 non-null  float64\n",
      " 88  x97     40000 non-null  float64\n",
      " 89  x98     40000 non-null  int64  \n",
      " 90  x100    40000 non-null  float64\n",
      "dtypes: float64(88), int64(3)\n",
      "memory usage: 27.8 MB\n"
     ]
    }
   ],
   "source": [
    "df[columns_numeric_dtype].info()"
   ]
  },
  {
   "cell_type": "code",
   "execution_count": 43,
   "metadata": {},
   "outputs": [
    {
     "name": "stdout",
     "output_type": "stream",
     "text": [
      "columns_numeric_dtype =  ['y', 'x1', 'x2', 'x4', 'x5', 'x6', 'x7', 'x8', 'x9', 'x10', 'x11', 'x12', 'x13', 'x14', 'x15', 'x16', 'x17', 'x18', 'x19', 'x20', 'x21', 'x22', 'x23', 'x25', 'x26', 'x27', 'x28', 'x29', 'x30', 'x32', 'x34', 'x35', 'x36', 'x37', 'x38', 'x40', 'x41', 'x42', 'x43', 'x44', 'x45', 'x46', 'x47', 'x48', 'x49', 'x50', 'x51', 'x52', 'x53', 'x54', 'x55', 'x56', 'x57', 'x58', 'x59', 'x61', 'x62', 'x63', 'x64', 'x66', 'x67', 'x68', 'x69', 'x70', 'x71', 'x72', 'x73', 'x74', 'x75', 'x76', 'x78', 'x79', 'x80', 'x81', 'x82', 'x83', 'x84', 'x85', 'x86', 'x87', 'x88', 'x89', 'x90', 'x91', 'x92', 'x94', 'x95', 'x96', 'x97', 'x98', 'x100']\n",
      "====================================================================================================\n"
     ]
    }
   ],
   "source": [
    "columns_numeric_dtype = []\n",
    "for col in df.columns:\n",
    "    if df[col].dtypes == 'float64' or df[col].dtypes == 'int64':\n",
    "        columns_numeric_dtype.append(col)\n",
    "print('columns_numeric_dtype = ', columns_numeric_dtype)\n",
    "\n",
    "print(100*'=')"
   ]
  },
  {
   "cell_type": "code",
   "execution_count": 51,
   "metadata": {},
   "outputs": [
    {
     "name": "stdout",
     "output_type": "stream",
     "text": [
      "NaNs % in column  x5 = 6.07 %\n",
      "NaNs % in column  x11 = 12.775 %\n",
      "NaNs % in column  x14 = 24.66 %\n",
      "NaNs % in column  x16 = 28.03 %\n",
      "NaNs % in column  x22 = 5.9675 %\n",
      "NaNs % in column  x26 = 6.0825 %\n",
      "NaNs % in column  x30 = 80.84 %\n",
      "NaNs % in column  x38 = 6.005 %\n",
      "NaNs % in column  x41 = 23.7575 %\n",
      "NaNs % in column  x42 = 24.3225 %\n",
      "NaNs % in column  x44 = 85.6175 %\n",
      "NaNs % in column  x45 = 20.0225 %\n",
      "NaNs % in column  x49 = 32.0575 %\n",
      "NaNs % in column  x52 = 40.455 %\n",
      "NaNs % in column  x54 = 31.82 %\n",
      "NaNs % in column  x55 = 44.24 %\n",
      "NaNs % in column  x57 = 81.16 %\n",
      "NaNs % in column  x61 = 18.2325 %\n",
      "NaNs % in column  x63 = 6.05 %\n",
      "NaNs % in column  x64 = 12.7525 %\n",
      "NaNs % in column  x67 = 6.0625 %\n",
      "NaNs % in column  x68 = 5.96 %\n",
      "NaNs % in column  x74 = 32.29 %\n",
      "NaNs % in column  x75 = 13.1125 %\n",
      "NaNs % in column  x76 = 13.1225 %\n",
      "NaNs % in column  x78 = 28.4325 %\n",
      "NaNs % in column  x79 = 6.075 %\n",
      "NaNs % in column  x80 = 13.14 %\n",
      "NaNs % in column  x83 = 6.07 %\n",
      "NaNs % in column  x85 = 24.2875 %\n",
      "NaNs % in column  x86 = 6.0175 %\n",
      "NaNs % in column  x88 = 5.8275 %\n",
      "NaNs % in column  x89 = 26.7275 %\n",
      "NaNs % in column  x91 = 13.1475 %\n",
      "NaNs % in column  x92 = 6.0875 %\n",
      "NaNs % in column  x94 = 5.85 %\n",
      "NaNs % in column  x95 = 31.51 %\n",
      "NaNs % in column  x96 = 16.595 %\n",
      "\n",
      "number_of_numeric_cols_with_nan  38\n"
     ]
    }
   ],
   "source": [
    "# check the object columns uniqueness\n",
    "number_of_numeric_cols_with_nan = 0\n",
    "\n",
    "columns_numeric_dtype_NaN = []\n",
    "for col in columns_numeric_dtype:\n",
    "    if df[col].isnull().sum() != 0:\n",
    "        number_of_numeric_cols_with_nan = number_of_numeric_cols_with_nan+1\n",
    "        columns_numeric_dtype_NaN.append(col)\n",
    "        print('NaNs % in column ', col, '=', \n",
    "              df[col].isnull().sum()*100/(df.shape[0]), '%')#, 'var = ', df[col].var())\n",
    "\n",
    "        # also if there is NaN add the column to cols_to_be_imputed\n",
    "        cols_to_be_imputed.append(col)\n",
    "        \n",
    "        \n",
    "        # also if the NaN% is greater than 50% drop it (add the column to drop col list)\n",
    "        if df[col].isnull().sum()*100/(df.shape[0]) > 50:\n",
    "            \n",
    "            cols_to_be_droped.append(col)\n",
    "\n",
    "print('\\nnumber_of_numeric_cols_with_nan ', number_of_numeric_cols_with_nan)"
   ]
  },
  {
   "cell_type": "code",
   "execution_count": null,
   "metadata": {},
   "outputs": [],
   "source": []
  },
  {
   "cell_type": "code",
   "execution_count": null,
   "metadata": {},
   "outputs": [],
   "source": []
  },
  {
   "cell_type": "markdown",
   "metadata": {},
   "source": [
    "Let's calculate the average number of NaNs in numeric columns containing NaN "
   ]
  },
  {
   "cell_type": "code",
   "execution_count": 54,
   "metadata": {},
   "outputs": [
    {
     "name": "stdout",
     "output_type": "stream",
     "text": [
      "average_percentage_NaN 22.4 %\n"
     ]
    }
   ],
   "source": [
    "average_percentage_NaN = (df[columns_numeric_dtype_NaN].isnull().sum().sum()*100/\\\n",
    "                          (df.shape[0]))/len(columns_numeric_dtype_NaN)\n",
    "average_percentage_NaN = round(average_percentage_NaN,1)\n",
    "print(f'average_percentage_NaN {average_percentage_NaN} %')"
   ]
  },
  {
   "cell_type": "code",
   "execution_count": 55,
   "metadata": {},
   "outputs": [
    {
     "data": {
      "image/png": "[encoded data removed]",
      "text/plain": [
       "<Figure size 1080x432 with 1 Axes>"
      ]
     },
     "metadata": {
      "image/png": {
       "height": 379,
       "width": 884
      },
      "needs_background": "light"
     },
     "output_type": "display_data"
    }
   ],
   "source": [
    "(df[columns_numeric_dtype_NaN].isnull().sum()*100/(df.shape[0])).plot(kind='bar',figsize=(15,6), label='NaN %')\n",
    "\n",
    "\n",
    "plt.hlines(average_percentage_NaN,0,38, \n",
    "           linestyles='--',colors='r', label='Average % of NaN in all columns')\n",
    "\n",
    "plt.xlabel('columns (dtype = numeric) with NaN')\n",
    "plt.ylabel('NaN %')\n",
    "plt.legend()\n",
    "plt.show()"
   ]
  },
  {
   "cell_type": "code",
   "execution_count": null,
   "metadata": {},
   "outputs": [],
   "source": []
  },
  {
   "cell_type": "code",
   "execution_count": null,
   "metadata": {},
   "outputs": [],
   "source": []
  },
  {
   "cell_type": "code",
   "execution_count": null,
   "metadata": {},
   "outputs": [],
   "source": []
  },
  {
   "cell_type": "code",
   "execution_count": null,
   "metadata": {},
   "outputs": [],
   "source": []
  },
  {
   "cell_type": "code",
   "execution_count": null,
   "metadata": {},
   "outputs": [],
   "source": []
  },
  {
   "cell_type": "code",
   "execution_count": null,
   "metadata": {},
   "outputs": [],
   "source": []
  },
  {
   "cell_type": "code",
   "execution_count": null,
   "metadata": {},
   "outputs": [],
   "source": []
  },
  {
   "cell_type": "code",
   "execution_count": null,
   "metadata": {},
   "outputs": [],
   "source": []
  },
  {
   "cell_type": "code",
   "execution_count": null,
   "metadata": {},
   "outputs": [],
   "source": []
  },
  {
   "cell_type": "code",
   "execution_count": null,
   "metadata": {},
   "outputs": [],
   "source": []
  }
 ],
 "metadata": {
  "kernelspec": {
   "display_name": "Python 3",
   "language": "python",
   "name": "python3"
  },
  "language_info": {
   "codemirror_mode": {
    "name": "ipython",
    "version": 3
   },
   "file_extension": ".py",
   "mimetype": "text/x-python",
   "name": "python",
   "nbconvert_exporter": "python",
   "pygments_lexer": "ipython3",
   "version": "3.7.0"
  }
 },
 "nbformat": 4,
 "nbformat_minor": 2
}
