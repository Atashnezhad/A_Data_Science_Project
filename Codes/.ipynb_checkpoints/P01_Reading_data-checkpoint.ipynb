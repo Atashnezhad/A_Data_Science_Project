{
 "cells": [
  {
   "cell_type": "code",
   "execution_count": 1,
   "metadata": {},
   "outputs": [],
   "source": [
    "import pandas as pd\n",
    "import numpy as np\n",
    "import regex as re\n",
    "import warnings\n",
    "warnings.filterwarnings('ignore')\n",
    "from nltk.corpus import stopwords \n",
    "from nltk.stem.porter import PorterStemmer\n",
    "from nltk.stem import WordNetLemmatizer\n",
    "import pickle\n",
    "\n",
    "import matplotlib.pyplot as plt\n"
   ]
  },
  {
   "cell_type": "markdown",
   "metadata": {},
   "source": [
    "# Read data set"
   ]
  },
  {
   "cell_type": "code",
   "execution_count": 2,
   "metadata": {},
   "outputs": [],
   "source": [
    "file_path = \"../DataSet/\"\n",
    "file_name = \"exercise_40_train.csv\"\n",
    "df = pd.read_csv(file_path+file_name)"
   ]
  },
  {
   "cell_type": "code",
   "execution_count": 3,
   "metadata": {},
   "outputs": [
    {
     "data": {
      "text/plain": [
       "(40000, 101)"
      ]
     },
     "execution_count": 3,
     "metadata": {},
     "output_type": "execute_result"
    }
   ],
   "source": [
    "df.shape"
   ]
  },
  {
   "cell_type": "markdown",
   "metadata": {},
   "source": [
    "Check the column names and details as follow."
   ]
  },
  {
   "cell_type": "code",
   "execution_count": 4,
   "metadata": {},
   "outputs": [
    {
     "name": "stdout",
     "output_type": "stream",
     "text": [
      "<class 'pandas.core.frame.DataFrame'>\n",
      "RangeIndex: 40000 entries, 0 to 39999\n",
      "Columns: 101 entries, y to x100\n",
      "dtypes: float64(86), int64(3), object(12)\n",
      "memory usage: 30.8+ MB\n"
     ]
    }
   ],
   "source": [
    "df.info()"
   ]
  },
  {
   "cell_type": "code",
   "execution_count": 5,
   "metadata": {},
   "outputs": [
    {
     "data": {
      "text/html": [
       "<div>\n",
       "<style scoped>\n",
       "    .dataframe tbody tr th:only-of-type {\n",
       "        vertical-align: middle;\n",
       "    }\n",
       "\n",
       "    .dataframe tbody tr th {\n",
       "        vertical-align: top;\n",
       "    }\n",
       "\n",
       "    .dataframe thead th {\n",
       "        text-align: right;\n",
       "    }\n",
       "</style>\n",
       "<table border=\"1\" class=\"dataframe\">\n",
       "  <thead>\n",
       "    <tr style=\"text-align: right;\">\n",
       "      <th></th>\n",
       "      <th>y</th>\n",
       "      <th>x1</th>\n",
       "      <th>x2</th>\n",
       "      <th>x3</th>\n",
       "      <th>x4</th>\n",
       "      <th>x5</th>\n",
       "      <th>x6</th>\n",
       "      <th>x7</th>\n",
       "      <th>x8</th>\n",
       "      <th>x9</th>\n",
       "      <th>...</th>\n",
       "      <th>x91</th>\n",
       "      <th>x92</th>\n",
       "      <th>x93</th>\n",
       "      <th>x94</th>\n",
       "      <th>x95</th>\n",
       "      <th>x96</th>\n",
       "      <th>x97</th>\n",
       "      <th>x98</th>\n",
       "      <th>x99</th>\n",
       "      <th>x100</th>\n",
       "    </tr>\n",
       "  </thead>\n",
       "  <tbody>\n",
       "    <tr>\n",
       "      <th>0</th>\n",
       "      <td>0</td>\n",
       "      <td>0.165254</td>\n",
       "      <td>18.060003</td>\n",
       "      <td>Wed</td>\n",
       "      <td>1.077380</td>\n",
       "      <td>-1.339233</td>\n",
       "      <td>-1.584341</td>\n",
       "      <td>0.0062%</td>\n",
       "      <td>0.220784</td>\n",
       "      <td>1.816481</td>\n",
       "      <td>...</td>\n",
       "      <td>-0.397427</td>\n",
       "      <td>0.909479</td>\n",
       "      <td>no</td>\n",
       "      <td>5.492487</td>\n",
       "      <td>NaN</td>\n",
       "      <td>10.255579</td>\n",
       "      <td>7.627730</td>\n",
       "      <td>0</td>\n",
       "      <td>yes</td>\n",
       "      <td>104.251338</td>\n",
       "    </tr>\n",
       "    <tr>\n",
       "      <th>1</th>\n",
       "      <td>1</td>\n",
       "      <td>2.441471</td>\n",
       "      <td>18.416307</td>\n",
       "      <td>Friday</td>\n",
       "      <td>1.482586</td>\n",
       "      <td>0.920817</td>\n",
       "      <td>-0.759931</td>\n",
       "      <td>0.0064%</td>\n",
       "      <td>1.192441</td>\n",
       "      <td>3.513950</td>\n",
       "      <td>...</td>\n",
       "      <td>0.656651</td>\n",
       "      <td>9.093466</td>\n",
       "      <td>no</td>\n",
       "      <td>3.346429</td>\n",
       "      <td>4.321172</td>\n",
       "      <td>NaN</td>\n",
       "      <td>10.505284</td>\n",
       "      <td>1</td>\n",
       "      <td>yes</td>\n",
       "      <td>101.230645</td>\n",
       "    </tr>\n",
       "    <tr>\n",
       "      <th>2</th>\n",
       "      <td>1</td>\n",
       "      <td>4.427278</td>\n",
       "      <td>19.188092</td>\n",
       "      <td>Thursday</td>\n",
       "      <td>0.145652</td>\n",
       "      <td>0.366093</td>\n",
       "      <td>0.709962</td>\n",
       "      <td>-8e-04%</td>\n",
       "      <td>0.952323</td>\n",
       "      <td>0.782974</td>\n",
       "      <td>...</td>\n",
       "      <td>2.059615</td>\n",
       "      <td>0.305170</td>\n",
       "      <td>no</td>\n",
       "      <td>4.456565</td>\n",
       "      <td>NaN</td>\n",
       "      <td>8.754572</td>\n",
       "      <td>7.810979</td>\n",
       "      <td>0</td>\n",
       "      <td>yes</td>\n",
       "      <td>109.345215</td>\n",
       "    </tr>\n",
       "    <tr>\n",
       "      <th>3</th>\n",
       "      <td>0</td>\n",
       "      <td>3.925235</td>\n",
       "      <td>19.901257</td>\n",
       "      <td>Tuesday</td>\n",
       "      <td>1.763602</td>\n",
       "      <td>-0.251926</td>\n",
       "      <td>-0.827461</td>\n",
       "      <td>-0.0057%</td>\n",
       "      <td>-0.520756</td>\n",
       "      <td>1.825586</td>\n",
       "      <td>...</td>\n",
       "      <td>0.899392</td>\n",
       "      <td>5.971782</td>\n",
       "      <td>no</td>\n",
       "      <td>4.100022</td>\n",
       "      <td>1.151085</td>\n",
       "      <td>NaN</td>\n",
       "      <td>9.178325</td>\n",
       "      <td>1</td>\n",
       "      <td>yes</td>\n",
       "      <td>103.021970</td>\n",
       "    </tr>\n",
       "    <tr>\n",
       "      <th>4</th>\n",
       "      <td>0</td>\n",
       "      <td>2.868802</td>\n",
       "      <td>22.202473</td>\n",
       "      <td>Sunday</td>\n",
       "      <td>3.405119</td>\n",
       "      <td>0.083162</td>\n",
       "      <td>1.381504</td>\n",
       "      <td>0.0109%</td>\n",
       "      <td>-0.732739</td>\n",
       "      <td>2.151990</td>\n",
       "      <td>...</td>\n",
       "      <td>3.003595</td>\n",
       "      <td>1.046096</td>\n",
       "      <td>yes</td>\n",
       "      <td>3.234033</td>\n",
       "      <td>2.074927</td>\n",
       "      <td>9.987006</td>\n",
       "      <td>11.702664</td>\n",
       "      <td>0</td>\n",
       "      <td>yes</td>\n",
       "      <td>92.925935</td>\n",
       "    </tr>\n",
       "  </tbody>\n",
       "</table>\n",
       "<p>5 rows × 101 columns</p>\n",
       "</div>"
      ],
      "text/plain": [
       "   y        x1         x2        x3        x4        x5        x6        x7  \\\n",
       "0  0  0.165254  18.060003       Wed  1.077380 -1.339233 -1.584341   0.0062%   \n",
       "1  1  2.441471  18.416307    Friday  1.482586  0.920817 -0.759931   0.0064%   \n",
       "2  1  4.427278  19.188092  Thursday  0.145652  0.366093  0.709962   -8e-04%   \n",
       "3  0  3.925235  19.901257   Tuesday  1.763602 -0.251926 -0.827461  -0.0057%   \n",
       "4  0  2.868802  22.202473    Sunday  3.405119  0.083162  1.381504   0.0109%   \n",
       "\n",
       "         x8        x9  ...       x91       x92  x93       x94       x95  \\\n",
       "0  0.220784  1.816481  ... -0.397427  0.909479   no  5.492487       NaN   \n",
       "1  1.192441  3.513950  ...  0.656651  9.093466   no  3.346429  4.321172   \n",
       "2  0.952323  0.782974  ...  2.059615  0.305170   no  4.456565       NaN   \n",
       "3 -0.520756  1.825586  ...  0.899392  5.971782   no  4.100022  1.151085   \n",
       "4 -0.732739  2.151990  ...  3.003595  1.046096  yes  3.234033  2.074927   \n",
       "\n",
       "         x96        x97  x98  x99        x100  \n",
       "0  10.255579   7.627730    0  yes  104.251338  \n",
       "1        NaN  10.505284    1  yes  101.230645  \n",
       "2   8.754572   7.810979    0  yes  109.345215  \n",
       "3        NaN   9.178325    1  yes  103.021970  \n",
       "4   9.987006  11.702664    0  yes   92.925935  \n",
       "\n",
       "[5 rows x 101 columns]"
      ]
     },
     "execution_count": 5,
     "metadata": {},
     "output_type": "execute_result"
    }
   ],
   "source": [
    "df.head()"
   ]
  },
  {
   "cell_type": "markdown",
   "metadata": {},
   "source": [
    "# Check out the dtypes in data frame"
   ]
  },
  {
   "cell_type": "code",
   "execution_count": 19,
   "metadata": {},
   "outputs": [
    {
     "data": {
      "text/plain": [
       "float64    86\n",
       "object     12\n",
       "int64       3\n",
       "dtype: int64"
      ]
     },
     "execution_count": 19,
     "metadata": {},
     "output_type": "execute_result"
    }
   ],
   "source": [
    "df.dtypes.value_counts()"
   ]
  },
  {
   "cell_type": "markdown",
   "metadata": {},
   "source": [
    "there are 3 types of data in the data set"
   ]
  },
  {
   "cell_type": "code",
   "execution_count": 22,
   "metadata": {},
   "outputs": [
    {
     "name": "stdout",
     "output_type": "stream",
     "text": [
      "columns_obj_dtype =  ['x3', 'x7', 'x19', 'x24', 'x31', 'x33', 'x39', 'x60', 'x65', 'x77', 'x93', 'x99']\n"
     ]
    }
   ],
   "source": [
    "columns_obj_dtype = []\n",
    "for col in df.columns:\n",
    "    if df[col].dtypes == 'object':\n",
    "        columns_obj_dtype.append(col)\n",
    "print('columns_obj_dtype = ', columns_obj_dtype)"
   ]
  },
  {
   "cell_type": "markdown",
   "metadata": {},
   "source": [
    "keep object columns names and count the number of null values"
   ]
  },
  {
   "cell_type": "code",
   "execution_count": 23,
   "metadata": {},
   "outputs": [
    {
     "data": {
      "text/plain": [
       "x3         0\n",
       "x7         0\n",
       "x19        0\n",
       "x24     3856\n",
       "x31        0\n",
       "x33     7171\n",
       "x39        0\n",
       "x60        0\n",
       "x65        0\n",
       "x77     9257\n",
       "x93        0\n",
       "x99    12836\n",
       "dtype: int64"
      ]
     },
     "execution_count": 23,
     "metadata": {},
     "output_type": "execute_result"
    }
   ],
   "source": [
    "df[columns_obj_dtype].isnull().sum()"
   ]
  },
  {
   "cell_type": "markdown",
   "metadata": {},
   "source": [
    "Drop object columns with null values. \n",
    "\n",
    "I keep the column names that I wannt to keep (with no null values)."
   ]
  },
  {
   "cell_type": "code",
   "execution_count": 29,
   "metadata": {},
   "outputs": [
    {
     "name": "stdout",
     "output_type": "stream",
     "text": [
      "keep_cols_dtype_obj =  ['x3', 'x7', 'x19', 'x31', 'x39', 'x60', 'x65', 'x93']\n"
     ]
    }
   ],
   "source": [
    "keep_cols_dtype_obj = []\n",
    "for col in columns_obj_dtype:\n",
    "    if df[col].isnull().sum() == 0:\n",
    "        keep_cols_dtype_obj.append(col)\n",
    "print('keep_cols_dtype_obj = ', keep_cols_dtype_obj)"
   ]
  },
  {
   "cell_type": "code",
   "execution_count": null,
   "metadata": {},
   "outputs": [],
   "source": []
  },
  {
   "cell_type": "code",
   "execution_count": null,
   "metadata": {},
   "outputs": [],
   "source": []
  },
  {
   "cell_type": "code",
   "execution_count": null,
   "metadata": {},
   "outputs": [],
   "source": []
  },
  {
   "cell_type": "code",
   "execution_count": null,
   "metadata": {},
   "outputs": [],
   "source": []
  },
  {
   "cell_type": "code",
   "execution_count": 6,
   "metadata": {},
   "outputs": [
    {
     "data": {
      "image/png": "[encoded data removed]",
      "text/plain": [
       "<Figure size 1440x576 with 1 Axes>"
      ]
     },
     "metadata": {
      "needs_background": "light"
     },
     "output_type": "display_data"
    }
   ],
   "source": [
    "plt.figure(figsize=(20,8))\n",
    "plt.plot(df.isnull().sum())\n",
    "plt.ylim(0, df.shape[0])\n",
    "plt.show()"
   ]
  },
  {
   "cell_type": "markdown",
   "metadata": {},
   "source": [
    "## Keep columns that have less than 50% nulls"
   ]
  },
  {
   "cell_type": "code",
   "execution_count": 7,
   "metadata": {},
   "outputs": [
    {
     "data": {
      "text/plain": [
       "(40000, 101)"
      ]
     },
     "execution_count": 7,
     "metadata": {},
     "output_type": "execute_result"
    }
   ],
   "source": [
    "df.shape"
   ]
  },
  {
   "cell_type": "code",
   "execution_count": 8,
   "metadata": {},
   "outputs": [
    {
     "name": "stdout",
     "output_type": "stream",
     "text": [
      "number of columns to keep = 98\n"
     ]
    }
   ],
   "source": [
    "cnt = 0\n",
    "keep_cols = []\n",
    "for col in df.columns:\n",
    "    if df[col].isnull().sum() < 0.5*(df.shape[0]):\n",
    "        cnt = cnt + 1\n",
    "        keep_cols.append(col)\n",
    "#         print(col)\n",
    "\n",
    "print('number of columns to keep =',cnt)"
   ]
  },
  {
   "cell_type": "code",
   "execution_count": 9,
   "metadata": {},
   "outputs": [
    {
     "data": {
      "text/plain": [
       "(40000, 98)"
      ]
     },
     "execution_count": 9,
     "metadata": {},
     "output_type": "execute_result"
    }
   ],
   "source": [
    "df_keep_cols = df[keep_cols]\n",
    "df_keep_cols.shape"
   ]
  },
  {
   "cell_type": "code",
   "execution_count": 10,
   "metadata": {},
   "outputs": [
    {
     "name": "stdout",
     "output_type": "stream",
     "text": [
      "number of columns with null values = 39\n"
     ]
    }
   ],
   "source": [
    "cnt = 0\n",
    "for col in df_keep_cols.columns:\n",
    "    if df_keep_cols[col].isnull().sum() > 0:\n",
    "        cnt = cnt + 1\n",
    "\n",
    "print('number of columns with null values =', cnt)"
   ]
  },
  {
   "cell_type": "code",
   "execution_count": 11,
   "metadata": {},
   "outputs": [],
   "source": [
    "# Replace the missed values with mean \n",
    "\n",
    "column_means = df_keep_cols.mean()\n",
    "df_keep_cols_fillna_mean = df_keep_cols.fillna(column_means)"
   ]
  },
  {
   "cell_type": "code",
   "execution_count": 15,
   "metadata": {},
   "outputs": [
    {
     "data": {
      "text/html": [
       "<div>\n",
       "<style scoped>\n",
       "    .dataframe tbody tr th:only-of-type {\n",
       "        vertical-align: middle;\n",
       "    }\n",
       "\n",
       "    .dataframe tbody tr th {\n",
       "        vertical-align: top;\n",
       "    }\n",
       "\n",
       "    .dataframe thead th {\n",
       "        text-align: right;\n",
       "    }\n",
       "</style>\n",
       "<table border=\"1\" class=\"dataframe\">\n",
       "  <thead>\n",
       "    <tr style=\"text-align: right;\">\n",
       "      <th></th>\n",
       "      <th>y</th>\n",
       "      <th>x1</th>\n",
       "      <th>x2</th>\n",
       "      <th>x3</th>\n",
       "      <th>x4</th>\n",
       "      <th>x5</th>\n",
       "      <th>x6</th>\n",
       "      <th>x7</th>\n",
       "      <th>x8</th>\n",
       "      <th>x9</th>\n",
       "      <th>...</th>\n",
       "      <th>x91</th>\n",
       "      <th>x92</th>\n",
       "      <th>x93</th>\n",
       "      <th>x94</th>\n",
       "      <th>x95</th>\n",
       "      <th>x96</th>\n",
       "      <th>x97</th>\n",
       "      <th>x98</th>\n",
       "      <th>x99</th>\n",
       "      <th>x100</th>\n",
       "    </tr>\n",
       "  </thead>\n",
       "  <tbody>\n",
       "    <tr>\n",
       "      <th>0</th>\n",
       "      <td>0</td>\n",
       "      <td>0.165254</td>\n",
       "      <td>18.060003</td>\n",
       "      <td>Wed</td>\n",
       "      <td>1.077380</td>\n",
       "      <td>-1.339233</td>\n",
       "      <td>-1.584341</td>\n",
       "      <td>0.0062%</td>\n",
       "      <td>0.220784</td>\n",
       "      <td>1.816481</td>\n",
       "      <td>...</td>\n",
       "      <td>-0.397427</td>\n",
       "      <td>0.909479</td>\n",
       "      <td>no</td>\n",
       "      <td>5.492487</td>\n",
       "      <td>NaN</td>\n",
       "      <td>10.255579</td>\n",
       "      <td>7.627730</td>\n",
       "      <td>0</td>\n",
       "      <td>yes</td>\n",
       "      <td>104.251338</td>\n",
       "    </tr>\n",
       "    <tr>\n",
       "      <th>1</th>\n",
       "      <td>1</td>\n",
       "      <td>2.441471</td>\n",
       "      <td>18.416307</td>\n",
       "      <td>Friday</td>\n",
       "      <td>1.482586</td>\n",
       "      <td>0.920817</td>\n",
       "      <td>-0.759931</td>\n",
       "      <td>0.0064%</td>\n",
       "      <td>1.192441</td>\n",
       "      <td>3.513950</td>\n",
       "      <td>...</td>\n",
       "      <td>0.656651</td>\n",
       "      <td>9.093466</td>\n",
       "      <td>no</td>\n",
       "      <td>3.346429</td>\n",
       "      <td>4.321172</td>\n",
       "      <td>NaN</td>\n",
       "      <td>10.505284</td>\n",
       "      <td>1</td>\n",
       "      <td>yes</td>\n",
       "      <td>101.230645</td>\n",
       "    </tr>\n",
       "    <tr>\n",
       "      <th>2</th>\n",
       "      <td>1</td>\n",
       "      <td>4.427278</td>\n",
       "      <td>19.188092</td>\n",
       "      <td>Thursday</td>\n",
       "      <td>0.145652</td>\n",
       "      <td>0.366093</td>\n",
       "      <td>0.709962</td>\n",
       "      <td>-8e-04%</td>\n",
       "      <td>0.952323</td>\n",
       "      <td>0.782974</td>\n",
       "      <td>...</td>\n",
       "      <td>2.059615</td>\n",
       "      <td>0.305170</td>\n",
       "      <td>no</td>\n",
       "      <td>4.456565</td>\n",
       "      <td>NaN</td>\n",
       "      <td>8.754572</td>\n",
       "      <td>7.810979</td>\n",
       "      <td>0</td>\n",
       "      <td>yes</td>\n",
       "      <td>109.345215</td>\n",
       "    </tr>\n",
       "    <tr>\n",
       "      <th>3</th>\n",
       "      <td>0</td>\n",
       "      <td>3.925235</td>\n",
       "      <td>19.901257</td>\n",
       "      <td>Tuesday</td>\n",
       "      <td>1.763602</td>\n",
       "      <td>-0.251926</td>\n",
       "      <td>-0.827461</td>\n",
       "      <td>-0.0057%</td>\n",
       "      <td>-0.520756</td>\n",
       "      <td>1.825586</td>\n",
       "      <td>...</td>\n",
       "      <td>0.899392</td>\n",
       "      <td>5.971782</td>\n",
       "      <td>no</td>\n",
       "      <td>4.100022</td>\n",
       "      <td>1.151085</td>\n",
       "      <td>NaN</td>\n",
       "      <td>9.178325</td>\n",
       "      <td>1</td>\n",
       "      <td>yes</td>\n",
       "      <td>103.021970</td>\n",
       "    </tr>\n",
       "    <tr>\n",
       "      <th>4</th>\n",
       "      <td>0</td>\n",
       "      <td>2.868802</td>\n",
       "      <td>22.202473</td>\n",
       "      <td>Sunday</td>\n",
       "      <td>3.405119</td>\n",
       "      <td>0.083162</td>\n",
       "      <td>1.381504</td>\n",
       "      <td>0.0109%</td>\n",
       "      <td>-0.732739</td>\n",
       "      <td>2.151990</td>\n",
       "      <td>...</td>\n",
       "      <td>3.003595</td>\n",
       "      <td>1.046096</td>\n",
       "      <td>yes</td>\n",
       "      <td>3.234033</td>\n",
       "      <td>2.074927</td>\n",
       "      <td>9.987006</td>\n",
       "      <td>11.702664</td>\n",
       "      <td>0</td>\n",
       "      <td>yes</td>\n",
       "      <td>92.925935</td>\n",
       "    </tr>\n",
       "  </tbody>\n",
       "</table>\n",
       "<p>5 rows × 98 columns</p>\n",
       "</div>"
      ],
      "text/plain": [
       "   y        x1         x2        x3        x4        x5        x6        x7  \\\n",
       "0  0  0.165254  18.060003       Wed  1.077380 -1.339233 -1.584341   0.0062%   \n",
       "1  1  2.441471  18.416307    Friday  1.482586  0.920817 -0.759931   0.0064%   \n",
       "2  1  4.427278  19.188092  Thursday  0.145652  0.366093  0.709962   -8e-04%   \n",
       "3  0  3.925235  19.901257   Tuesday  1.763602 -0.251926 -0.827461  -0.0057%   \n",
       "4  0  2.868802  22.202473    Sunday  3.405119  0.083162  1.381504   0.0109%   \n",
       "\n",
       "         x8        x9  ...       x91       x92  x93       x94       x95  \\\n",
       "0  0.220784  1.816481  ... -0.397427  0.909479   no  5.492487       NaN   \n",
       "1  1.192441  3.513950  ...  0.656651  9.093466   no  3.346429  4.321172   \n",
       "2  0.952323  0.782974  ...  2.059615  0.305170   no  4.456565       NaN   \n",
       "3 -0.520756  1.825586  ...  0.899392  5.971782   no  4.100022  1.151085   \n",
       "4 -0.732739  2.151990  ...  3.003595  1.046096  yes  3.234033  2.074927   \n",
       "\n",
       "         x96        x97  x98  x99        x100  \n",
       "0  10.255579   7.627730    0  yes  104.251338  \n",
       "1        NaN  10.505284    1  yes  101.230645  \n",
       "2   8.754572   7.810979    0  yes  109.345215  \n",
       "3        NaN   9.178325    1  yes  103.021970  \n",
       "4   9.987006  11.702664    0  yes   92.925935  \n",
       "\n",
       "[5 rows x 98 columns]"
      ]
     },
     "execution_count": 15,
     "metadata": {},
     "output_type": "execute_result"
    }
   ],
   "source": [
    "df_keep_cols.head()"
   ]
  },
  {
   "cell_type": "code",
   "execution_count": 12,
   "metadata": {},
   "outputs": [
    {
     "data": {
      "text/plain": [
       "y           0\n",
       "x1          0\n",
       "x2          0\n",
       "x3          0\n",
       "x4          0\n",
       "        ...  \n",
       "x96         0\n",
       "x97         0\n",
       "x98         0\n",
       "x99     12836\n",
       "x100        0\n",
       "Length: 98, dtype: int64"
      ]
     },
     "execution_count": 12,
     "metadata": {},
     "output_type": "execute_result"
    }
   ],
   "source": [
    "df_keep_cols_fillna_mean.isnull().sum()"
   ]
  },
  {
   "cell_type": "code",
   "execution_count": 13,
   "metadata": {},
   "outputs": [
    {
     "name": "stdout",
     "output_type": "stream",
     "text": [
      "number of columns with null values = 4\n"
     ]
    }
   ],
   "source": [
    "cnt = 0\n",
    "for col in df_keep_cols_fillna_mean.columns:\n",
    "    if df_keep_cols_fillna_mean[col].isnull().sum() > 0:\n",
    "        cnt = cnt + 1\n",
    "\n",
    "print('number of columns with null values =',cnt)"
   ]
  },
  {
   "cell_type": "code",
   "execution_count": null,
   "metadata": {},
   "outputs": [],
   "source": []
  },
  {
   "cell_type": "code",
   "execution_count": null,
   "metadata": {},
   "outputs": [],
   "source": []
  },
  {
   "cell_type": "code",
   "execution_count": null,
   "metadata": {},
   "outputs": [],
   "source": []
  },
  {
   "cell_type": "code",
   "execution_count": null,
   "metadata": {},
   "outputs": [],
   "source": []
  },
  {
   "cell_type": "code",
   "execution_count": null,
   "metadata": {},
   "outputs": [],
   "source": []
  },
  {
   "cell_type": "code",
   "execution_count": null,
   "metadata": {},
   "outputs": [],
   "source": []
  },
  {
   "cell_type": "code",
   "execution_count": null,
   "metadata": {},
   "outputs": [],
   "source": []
  },
  {
   "cell_type": "code",
   "execution_count": null,
   "metadata": {},
   "outputs": [],
   "source": []
  }
 ],
 "metadata": {
  "kernelspec": {
   "display_name": "Python 3",
   "language": "python",
   "name": "python3"
  },
  "language_info": {
   "codemirror_mode": {
    "name": "ipython",
    "version": 3
   },
   "file_extension": ".py",
   "mimetype": "text/x-python",
   "name": "python",
   "nbconvert_exporter": "python",
   "pygments_lexer": "ipython3",
   "version": "3.7.0"
  }
 },
 "nbformat": 4,
 "nbformat_minor": 2
}
